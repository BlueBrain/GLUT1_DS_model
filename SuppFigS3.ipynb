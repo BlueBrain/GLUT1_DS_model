{
 "cells": [
  {
   "cell_type": "code",
   "execution_count": 1,
   "id": "bc66269b-0c5a-4d5f-b860-19c7f85c5e6a",
   "metadata": {
    "tags": []
   },
   "outputs": [
    {
     "name": "stdout",
     "output_type": "stream",
     "text": [
      "202311041845\n"
     ]
    }
   ],
   "source": [
    "import pandas as pd\n",
    "import numpy as np\n",
    "import json\n",
    "from itertools import chain\n",
    "\n",
    "import matplotlib.pyplot as plt\n",
    "import matplotlib as mpl\n",
    "\n",
    "import seaborn as sns\n",
    "\n",
    "import time\n",
    "import glob\n",
    "\n",
    "\n",
    "params = {\n",
    "   'axes.labelsize': 14,\n",
    "   'font.size': 14,\n",
    "   'legend.fontsize': 14,\n",
    "   'xtick.labelsize': 14,\n",
    "   'ytick.labelsize': 14,\n",
    "   'text.usetex': False,\n",
    "   'figure.figsize': [4.5, 4.5],\n",
    "    'savefig.facecolor':'white'\n",
    "   }\n",
    "\n",
    "mpl.rcParams.update(params)\n",
    "\n",
    "\n",
    "import random \n",
    "random.seed(12357)\n",
    "np.random.seed(12357)\n",
    "\n",
    "\n",
    "import pprint \n",
    "ppdict = pprint.PrettyPrinter(indent=4, sort_dicts=False)\n",
    "\n",
    "\n",
    "from sklearn.preprocessing import StandardScaler\n",
    "from sklearn.decomposition import PCA\n",
    "\n",
    "import umap\n",
    "import hdbscan\n",
    "import sklearn.cluster as cluster\n",
    "from sklearn.metrics import adjusted_rand_score, adjusted_mutual_info_score\n",
    "\n",
    "\n",
    "timestr = time.strftime(\"%Y%m%d%H%M\")\n",
    "print(timestr)"
   ]
  },
  {
   "cell_type": "code",
   "execution_count": 2,
   "id": "ec79ffb8-4748-451f-9e09-da4fb97290ce",
   "metadata": {},
   "outputs": [
    {
     "name": "stdout",
     "output_type": "stream",
     "text": [
      "1\n"
     ]
    }
   ],
   "source": [
    "sol_saveat_dt = [1,1e-4][0]\n",
    "\n",
    "print(sol_saveat_dt)\n",
    "\n",
    "inpath = \"output/\"\n",
    "outpath = \"figures/supp1fig3/\" "
   ]
  },
  {
   "cell_type": "code",
   "execution_count": 3,
   "id": "362cf4c6-8571-416c-895f-4c98ab21d22c",
   "metadata": {},
   "outputs": [],
   "source": [
    "##############################################\n",
    "# set to True to save fig\n",
    "\n",
    "savefigures = True #False #True \n",
    "\n",
    "##############################################"
   ]
  },
  {
   "cell_type": "code",
   "execution_count": 4,
   "id": "076a1ac5-9b51-4347-ae72-e72405a25595",
   "metadata": {},
   "outputs": [
    {
     "name": "stdout",
     "output_type": "stream",
     "text": [
      "190\n"
     ]
    }
   ],
   "source": [
    "! ls -lh output | grep \"_u\\.\" | grep \"sim_\" | wc -l"
   ]
  },
  {
   "cell_type": "code",
   "execution_count": 5,
   "id": "7652545c-2367-49a2-8aba-cce2f81e7813",
   "metadata": {},
   "outputs": [
    {
     "name": "stdout",
     "output_type": "stream",
     "text": [
      "190\n"
     ]
    }
   ],
   "source": [
    "print(len(glob.glob(inpath+\"*_u.csv\"))) "
   ]
  },
  {
   "cell_type": "code",
   "execution_count": 6,
   "id": "2e9d4f1e-d2ce-4704-9767-8629bfd31040",
   "metadata": {},
   "outputs": [],
   "source": [
    "input_file_ids = [i.rstrip(\"_u.csv\") for i in glob.glob(inpath+\"*_u.csv\")]\n",
    "\n",
    "\n",
    "input_file_ids = sorted(input_file_ids)"
   ]
  },
  {
   "cell_type": "code",
   "execution_count": 7,
   "id": "1c4e28f1-18d0-47bd-a39a-fc5ebf8bae0b",
   "metadata": {
    "tags": []
   },
   "outputs": [],
   "source": [
    "input_dfs = []\n",
    "\n",
    "for fid in input_file_ids:\n",
    "\n",
    "    dfn = fid + \"_u.csv\"\n",
    "    tfn = fid + \"_t.csv\"\n",
    "    nfn = fid + \"_unames.csv\"\n",
    "    \n",
    "    df = pd.read_csv(dfn,header=None)\n",
    "    tf = pd.read_csv(tfn,header=None)\n",
    "    nf = pd.read_csv(nfn,header=None)\n",
    "    \n",
    "    df.columns = [i[:-1] for i in nf[0].values.tolist() ]\n",
    "    \n",
    "    df['time_s'] = tf[0].copy()\n",
    "    df['condition'] = fid.replace(\"output/sim_\",\"\").split(\"_extraTag\",1)[0]\n",
    "    \n",
    "    input_dfs.append(df)\n",
    "    \n",
    "input_df = pd.concat(input_dfs, axis=0, ignore_index=True)"
   ]
  },
  {
   "cell_type": "code",
   "execution_count": 8,
   "id": "3b0f2a57-e5fc-44cd-89e9-d42d93278704",
   "metadata": {},
   "outputs": [
    {
     "name": "stdout",
     "output_type": "stream",
     "text": [
      "(58900, 185)\n"
     ]
    }
   ],
   "source": [
    "print(input_df.shape)"
   ]
  },
  {
   "cell_type": "code",
   "execution_count": 9,
   "id": "ac3642b9-ef06-4a95-98bb-09dcc98b2aad",
   "metadata": {},
   "outputs": [],
   "source": [
    "input_df = input_df.reindex(sorted(input_df.columns), axis=1)"
   ]
  },
  {
   "cell_type": "code",
   "execution_count": 10,
   "id": "7daeb693-b85a-491e-a588-03514f44a022",
   "metadata": {},
   "outputs": [],
   "source": [
    "input_df = input_df.loc[input_df['time_s']>180,:]\n",
    "input_df = input_df.reset_index(drop=True)"
   ]
  },
  {
   "cell_type": "code",
   "execution_count": 11,
   "id": "acbb632f-a389-43a7-8c87-1855ab9197a1",
   "metadata": {},
   "outputs": [
    {
     "data": {
      "text/html": [
       "<div>\n",
       "<style scoped>\n",
       "    .dataframe tbody tr th:only-of-type {\n",
       "        vertical-align: middle;\n",
       "    }\n",
       "\n",
       "    .dataframe tbody tr th {\n",
       "        vertical-align: top;\n",
       "    }\n",
       "\n",
       "    .dataframe thead th {\n",
       "        text-align: right;\n",
       "    }\n",
       "</style>\n",
       "<table border=\"1\" class=\"dataframe\">\n",
       "  <thead>\n",
       "    <tr style=\"text-align: right;\">\n",
       "      <th></th>\n",
       "      <th>ADP_a</th>\n",
       "      <th>ADP_i_a</th>\n",
       "      <th>ADP_i_n</th>\n",
       "      <th>ADP_mi_a</th>\n",
       "      <th>ADP_mi_n</th>\n",
       "      <th>ADP_mx_a</th>\n",
       "      <th>ADP_mx_n</th>\n",
       "      <th>ADP_n</th>\n",
       "      <th>ADPmito_a</th>\n",
       "      <th>ADPmito_n</th>\n",
       "      <th>...</th>\n",
       "      <th>f26bp_a</th>\n",
       "      <th>h</th>\n",
       "      <th>hIP3Ca_a</th>\n",
       "      <th>mGluRboundRatio_a</th>\n",
       "      <th>n</th>\n",
       "      <th>nBK_a</th>\n",
       "      <th>pgate</th>\n",
       "      <th>sTRP_a</th>\n",
       "      <th>time_s</th>\n",
       "      <th>vV</th>\n",
       "    </tr>\n",
       "  </thead>\n",
       "  <tbody>\n",
       "    <tr>\n",
       "      <th>0</th>\n",
       "      <td>0.045</td>\n",
       "      <td>0.045969</td>\n",
       "      <td>0.057954</td>\n",
       "      <td>0.045225</td>\n",
       "      <td>0.056787</td>\n",
       "      <td>1.152120</td>\n",
       "      <td>1.131716</td>\n",
       "      <td>0.047784</td>\n",
       "      <td>1.759665</td>\n",
       "      <td>1.856772</td>\n",
       "      <td>...</td>\n",
       "      <td>0.012238</td>\n",
       "      <td>0.991528</td>\n",
       "      <td>0.653282</td>\n",
       "      <td>0.0</td>\n",
       "      <td>0.021990</td>\n",
       "      <td>0.000007</td>\n",
       "      <td>0.023936</td>\n",
       "      <td>0.001238</td>\n",
       "      <td>181.0</td>\n",
       "      <td>0.0237</td>\n",
       "    </tr>\n",
       "    <tr>\n",
       "      <th>1</th>\n",
       "      <td>0.045</td>\n",
       "      <td>0.045971</td>\n",
       "      <td>0.057954</td>\n",
       "      <td>0.045227</td>\n",
       "      <td>0.056787</td>\n",
       "      <td>1.152133</td>\n",
       "      <td>1.131715</td>\n",
       "      <td>0.047784</td>\n",
       "      <td>1.759688</td>\n",
       "      <td>1.856772</td>\n",
       "      <td>...</td>\n",
       "      <td>0.012238</td>\n",
       "      <td>0.991528</td>\n",
       "      <td>0.653285</td>\n",
       "      <td>0.0</td>\n",
       "      <td>0.021989</td>\n",
       "      <td>0.000007</td>\n",
       "      <td>0.023936</td>\n",
       "      <td>0.001238</td>\n",
       "      <td>182.0</td>\n",
       "      <td>0.0237</td>\n",
       "    </tr>\n",
       "    <tr>\n",
       "      <th>2</th>\n",
       "      <td>0.045</td>\n",
       "      <td>0.045973</td>\n",
       "      <td>0.057954</td>\n",
       "      <td>0.045230</td>\n",
       "      <td>0.056787</td>\n",
       "      <td>1.152145</td>\n",
       "      <td>1.131715</td>\n",
       "      <td>0.047784</td>\n",
       "      <td>1.759712</td>\n",
       "      <td>1.856771</td>\n",
       "      <td>...</td>\n",
       "      <td>0.012239</td>\n",
       "      <td>0.991528</td>\n",
       "      <td>0.653289</td>\n",
       "      <td>0.0</td>\n",
       "      <td>0.021989</td>\n",
       "      <td>0.000007</td>\n",
       "      <td>0.023936</td>\n",
       "      <td>0.001238</td>\n",
       "      <td>183.0</td>\n",
       "      <td>0.0237</td>\n",
       "    </tr>\n",
       "  </tbody>\n",
       "</table>\n",
       "<p>3 rows × 185 columns</p>\n",
       "</div>"
      ],
      "text/plain": [
       "   ADP_a   ADP_i_a   ADP_i_n  ADP_mi_a  ADP_mi_n  ADP_mx_a  ADP_mx_n  \\\n",
       "0  0.045  0.045969  0.057954  0.045225  0.056787  1.152120  1.131716   \n",
       "1  0.045  0.045971  0.057954  0.045227  0.056787  1.152133  1.131715   \n",
       "2  0.045  0.045973  0.057954  0.045230  0.056787  1.152145  1.131715   \n",
       "\n",
       "      ADP_n  ADPmito_a  ADPmito_n  ...   f26bp_a         h  hIP3Ca_a  \\\n",
       "0  0.047784   1.759665   1.856772  ...  0.012238  0.991528  0.653282   \n",
       "1  0.047784   1.759688   1.856772  ...  0.012238  0.991528  0.653285   \n",
       "2  0.047784   1.759712   1.856771  ...  0.012239  0.991528  0.653289   \n",
       "\n",
       "   mGluRboundRatio_a         n     nBK_a     pgate    sTRP_a  time_s      vV  \n",
       "0                0.0  0.021990  0.000007  0.023936  0.001238   181.0  0.0237  \n",
       "1                0.0  0.021989  0.000007  0.023936  0.001238   182.0  0.0237  \n",
       "2                0.0  0.021989  0.000007  0.023936  0.001238   183.0  0.0237  \n",
       "\n",
       "[3 rows x 185 columns]"
      ]
     },
     "execution_count": 11,
     "metadata": {},
     "output_type": "execute_result"
    }
   ],
   "source": [
    "input_df.head(3)"
   ]
  },
  {
   "cell_type": "code",
   "execution_count": 12,
   "id": "63787583-8828-4500-b2b2-0882aa53abfe",
   "metadata": {},
   "outputs": [
    {
     "data": {
      "text/plain": [
       "190"
      ]
     },
     "execution_count": 12,
     "metadata": {},
     "output_type": "execute_result"
    }
   ],
   "source": [
    "all_cnds_l = sorted(input_df['condition'].unique())\n",
    "len(all_cnds_l)"
   ]
  },
  {
   "cell_type": "code",
   "execution_count": 13,
   "id": "39dc2772-0363-48af-ad88-0aa89500f075",
   "metadata": {},
   "outputs": [],
   "source": [
    "sel_cnds = [\"121_default\",\"g1_61_def\",\"g1_40_glclacbhb_ini\"]"
   ]
  },
  {
   "cell_type": "code",
   "execution_count": 14,
   "id": "dbdffc8e-65ee-4c2b-9437-ebbd657ebdfa",
   "metadata": {},
   "outputs": [],
   "source": [
    "sel_mets = sorted([i[0:-1] for i in [ \"NADHmito_n0\", \"QH2mito_n0\", \"CytCredmito_n0\",  \n",
    "            \"ATPmito_n0\", \"ATP_mx_n0\", \"ATP_i_n0\", \"ATP_mi_n0\", \n",
    "             \"ATP_n0\", \"FUMmito_n0\", \"MALmito_n0\", \"OXAmito_n0\", \"SUCmito_n0\", \"SUCCOAmito_n0\", \"CoAmito_n0\", \n",
    "            \"AKGmito_n0\",  \"ISOCITmito_n0\", \"CITmito_n0\", \"AcCoAmito_n0\",  \"PYRmito_n0\",  \n",
    "            \"NADH_n0\",   \"NADHmito_a0\", \"QH2mito_a0\", \"CytCredmito_a0\",  \n",
    "            \"ATPmito_a0\",   \"ATP_mx_a0\",  \"ATP_i_a0\",   \"ATP_mi_a0\",  \n",
    "             \"ATP_a0\",  \"FUMmito_a0\", \"MALmito_a0\", \"OXAmito_a0\", \"SUCmito_a0\", \"SUCCOAmito_a0\", \"CoAmito_a0\", \n",
    "            \"AKGmito_a0\", \"ISOCITmito_a0\", \"CITmito_a0\", \"AcCoAmito_a0\", \"PYRmito_a0\",  \n",
    "             \"Glc_b0\", \"Glc_t_t0\", \"Glc_ecsBA0\", \"Glc_a0\", \"Glc_ecsAN0\", \"Glc_n0\", \"G6P_n0\", \"G6P_a0\", \"F6P_n0\", \"F6P_a0\", \"FBP_n0\", \"FBP_a0\", \"f26bp_a0\",   \"G1P_a0\", \"GAP_n0\", \"GAP_a0\", \n",
    "              \"DHAP_n0\", \"DHAP_a0\", \"BPG13_n0\", \"BPG13_a0\", \"NADH_a0\", \"PG3_n0\", \"PG3_a0\", \"PG2_n0\", \"PG2_a0\", \"PEP_n0\", \"PEP_a0\", \"Pyr_n0\", \"Pyr_a0\", \"Lac_b0\", \"Lac_ecs0\", \"Lac_a0\", \"Lac_n0\", \n",
    "              \"NADPH_n0\", \"NADPH_a0\"\n",
    "]])"
   ]
  },
  {
   "cell_type": "code",
   "execution_count": 15,
   "id": "a433d92d-30fe-4cd1-9838-16050dcb583e",
   "metadata": {},
   "outputs": [],
   "source": [
    "input_df_mp = input_df.loc[input_df['condition'].isin(sel_cnds),sel_mets + ['condition', 'time_s']].copy()  "
   ]
  },
  {
   "cell_type": "code",
   "execution_count": 16,
   "id": "cf604ea6-8443-4fbb-8761-3734e7f3766a",
   "metadata": {},
   "outputs": [],
   "source": [
    "input_df_mpl = pd.melt(input_df_mp,id_vars=['condition','time_s'])\n"
   ]
  },
  {
   "cell_type": "code",
   "execution_count": 17,
   "id": "b175ec09-e66f-472c-ad8d-73ae86d5225a",
   "metadata": {},
   "outputs": [
    {
     "data": {
      "text/html": [
       "<div>\n",
       "<style scoped>\n",
       "    .dataframe tbody tr th:only-of-type {\n",
       "        vertical-align: middle;\n",
       "    }\n",
       "\n",
       "    .dataframe tbody tr th {\n",
       "        vertical-align: top;\n",
       "    }\n",
       "\n",
       "    .dataframe thead th {\n",
       "        text-align: right;\n",
       "    }\n",
       "</style>\n",
       "<table border=\"1\" class=\"dataframe\">\n",
       "  <thead>\n",
       "    <tr style=\"text-align: right;\">\n",
       "      <th></th>\n",
       "      <th>condition</th>\n",
       "      <th>time_s</th>\n",
       "      <th>variable</th>\n",
       "      <th>value</th>\n",
       "    </tr>\n",
       "  </thead>\n",
       "  <tbody>\n",
       "    <tr>\n",
       "      <th>0</th>\n",
       "      <td>121_default</td>\n",
       "      <td>181.0</td>\n",
       "      <td>AKGmito_a</td>\n",
       "      <td>0.014200</td>\n",
       "    </tr>\n",
       "    <tr>\n",
       "      <th>1</th>\n",
       "      <td>121_default</td>\n",
       "      <td>182.0</td>\n",
       "      <td>AKGmito_a</td>\n",
       "      <td>0.014198</td>\n",
       "    </tr>\n",
       "    <tr>\n",
       "      <th>2</th>\n",
       "      <td>121_default</td>\n",
       "      <td>183.0</td>\n",
       "      <td>AKGmito_a</td>\n",
       "      <td>0.014197</td>\n",
       "    </tr>\n",
       "  </tbody>\n",
       "</table>\n",
       "</div>"
      ],
      "text/plain": [
       "     condition  time_s   variable     value\n",
       "0  121_default   181.0  AKGmito_a  0.014200\n",
       "1  121_default   182.0  AKGmito_a  0.014198\n",
       "2  121_default   183.0  AKGmito_a  0.014197"
      ]
     },
     "execution_count": 17,
     "metadata": {},
     "output_type": "execute_result"
    }
   ],
   "source": [
    "input_df_mpl.head(3)"
   ]
  },
  {
   "cell_type": "code",
   "execution_count": 18,
   "id": "b6572ed6-f106-428e-a69a-1e931938aaf0",
   "metadata": {},
   "outputs": [],
   "source": [
    "input_df_mpl['log_conc'] = np.log(input_df_mpl['value'])"
   ]
  },
  {
   "cell_type": "code",
   "execution_count": null,
   "id": "78bb2b15-7f18-4ef7-8841-e9e995110a3b",
   "metadata": {},
   "outputs": [],
   "source": []
  },
  {
   "cell_type": "code",
   "execution_count": 19,
   "id": "d2a0ee26-d5d8-4251-9583-2dcfdfd5c187",
   "metadata": {},
   "outputs": [],
   "source": [
    "lut_cnds = {'121_default':\"#069e1d\", \n",
    "                'g1_61_def':\"#fa6f0c\",\n",
    "            'g1_40_glclacbhb_ini':\"#0390fc\"\n",
    "               }\n"
   ]
  },
  {
   "cell_type": "code",
   "execution_count": null,
   "id": "0783d9fb-3118-47c7-ab56-f43057340846",
   "metadata": {},
   "outputs": [],
   "source": []
  },
  {
   "cell_type": "code",
   "execution_count": 20,
   "id": "0fb1edc2-427c-4194-9a6a-53fac59f0911",
   "metadata": {},
   "outputs": [],
   "source": [
    "tmp = pd.DataFrame(input_df_mpl.loc[input_df_mpl['variable'].isin(sel_mets),['variable','value','condition']].groupby(['variable','condition']).apply(np.median))\n",
    "\n",
    "tmp = tmp.sort_values(by=0)"
   ]
  },
  {
   "cell_type": "code",
   "execution_count": 21,
   "id": "cebaf6da-7492-4f47-a0d9-d78f4355c94a",
   "metadata": {},
   "outputs": [],
   "source": [
    "tmp = tmp.reset_index(drop=False)"
   ]
  },
  {
   "cell_type": "code",
   "execution_count": 22,
   "id": "dfa15e3c-8880-42a7-8914-9ced8952e7bc",
   "metadata": {},
   "outputs": [
    {
     "data": {
      "text/html": [
       "<div>\n",
       "<style scoped>\n",
       "    .dataframe tbody tr th:only-of-type {\n",
       "        vertical-align: middle;\n",
       "    }\n",
       "\n",
       "    .dataframe tbody tr th {\n",
       "        vertical-align: top;\n",
       "    }\n",
       "\n",
       "    .dataframe thead th {\n",
       "        text-align: right;\n",
       "    }\n",
       "</style>\n",
       "<table border=\"1\" class=\"dataframe\">\n",
       "  <thead>\n",
       "    <tr style=\"text-align: right;\">\n",
       "      <th></th>\n",
       "      <th>variable</th>\n",
       "      <th>condition</th>\n",
       "      <th>0</th>\n",
       "    </tr>\n",
       "  </thead>\n",
       "  <tbody>\n",
       "    <tr>\n",
       "      <th>36</th>\n",
       "      <td>NADH_n</td>\n",
       "      <td>g1_61_def</td>\n",
       "      <td>0.004045</td>\n",
       "    </tr>\n",
       "    <tr>\n",
       "      <th>37</th>\n",
       "      <td>NADH_n</td>\n",
       "      <td>121_default</td>\n",
       "      <td>0.004140</td>\n",
       "    </tr>\n",
       "    <tr>\n",
       "      <th>59</th>\n",
       "      <td>NADH_n</td>\n",
       "      <td>g1_40_glclacbhb_ini</td>\n",
       "      <td>0.010156</td>\n",
       "    </tr>\n",
       "  </tbody>\n",
       "</table>\n",
       "</div>"
      ],
      "text/plain": [
       "   variable            condition         0\n",
       "36   NADH_n            g1_61_def  0.004045\n",
       "37   NADH_n          121_default  0.004140\n",
       "59   NADH_n  g1_40_glclacbhb_ini  0.010156"
      ]
     },
     "execution_count": 22,
     "metadata": {},
     "output_type": "execute_result"
    }
   ],
   "source": [
    "tmp.loc[tmp['variable']=='NADH_n']"
   ]
  },
  {
   "cell_type": "code",
   "execution_count": 24,
   "id": "763b32e4-c1d9-4a61-89a1-d92fd4d78645",
   "metadata": {},
   "outputs": [
    {
     "data": {
      "text/plain": [
       "14"
      ]
     },
     "execution_count": 24,
     "metadata": {},
     "output_type": "execute_result"
    }
   ],
   "source": [
    "range1 = [i for i in list(tmp.loc[tmp[0]<0.005,'variable'].unique()) if not i in [\"NADH_n\"]]\n",
    "len(range1)"
   ]
  },
  {
   "cell_type": "code",
   "execution_count": 25,
   "id": "63491855-6be2-4a8a-84e3-52a9a4aad402",
   "metadata": {},
   "outputs": [
    {
     "data": {
      "text/plain": [
       "15"
      ]
     },
     "execution_count": 25,
     "metadata": {},
     "output_type": "execute_result"
    }
   ],
   "source": [
    "range2 = [i for i in tmp.loc[(tmp[0]>=0.005) & (tmp[0]<0.025),'variable'].unique() if not i in range1+[\"AKGmito_a\",\"FBP_a\"]]+[\"NADH_n\"]\n",
    "len(range2)"
   ]
  },
  {
   "cell_type": "code",
   "execution_count": 26,
   "id": "eae90355-f379-4339-876c-aa4dba008330",
   "metadata": {},
   "outputs": [
    {
     "data": {
      "text/plain": [
       "13"
      ]
     },
     "execution_count": 26,
     "metadata": {},
     "output_type": "execute_result"
    }
   ],
   "source": [
    "range3 = [i for i in tmp.loc[(tmp[0]>=0.025) & (tmp[0]<0.1),'variable'].unique() if not i in range1+range2+[\"AKGmito_a\",\"FBP_a\"]] \n",
    "len(range3)"
   ]
  },
  {
   "cell_type": "code",
   "execution_count": 27,
   "id": "3b68a2c9-b479-4bf3-90c3-eb061f8b1ee1",
   "metadata": {},
   "outputs": [
    {
     "data": {
      "text/plain": [
       "16"
      ]
     },
     "execution_count": 27,
     "metadata": {},
     "output_type": "execute_result"
    }
   ],
   "source": [
    "range4 = [i for i in tmp.loc[(tmp[0]>=0.1) & (tmp[0]<0.5),'variable'].unique() if not i in range1+range2+range3]+ [\"AKGmito_a\",\"FBP_a\"] #if not i in ['Glc_n', 'Glc_ecsAN','Glc_a', 'Glc_ecsBA','Glc_t_t']\n",
    "len(range4)"
   ]
  },
  {
   "cell_type": "code",
   "execution_count": 28,
   "id": "e5162e8d-7311-4d40-8c23-8b62cda873b8",
   "metadata": {},
   "outputs": [
    {
     "data": {
      "text/plain": [
       "17"
      ]
     },
     "execution_count": 28,
     "metadata": {},
     "output_type": "execute_result"
    }
   ],
   "source": [
    "range5 = [i for i in tmp.loc[(tmp[0]>=0.5) & (tmp[0]<2),'variable'].unique() if not i in range1+range2+range3+range4]\n",
    "len(range5)"
   ]
  },
  {
   "cell_type": "code",
   "execution_count": 29,
   "id": "a09a1942-320b-4eb1-ab48-ccd64b3cbcef",
   "metadata": {},
   "outputs": [
    {
     "data": {
      "text/plain": [
       "1"
      ]
     },
     "execution_count": 29,
     "metadata": {},
     "output_type": "execute_result"
    }
   ],
   "source": [
    "range6 = list(tmp.loc[(tmp[0]>=2) ,'variable'].unique()) \n",
    "len(range6)"
   ]
  },
  {
   "cell_type": "code",
   "execution_count": null,
   "id": "6ba54a8f-8fc7-4301-b2c5-4ace15338be2",
   "metadata": {},
   "outputs": [],
   "source": []
  },
  {
   "cell_type": "code",
   "execution_count": 30,
   "id": "55057c1e-1c67-4e7f-ba9f-ce722fcfc535",
   "metadata": {},
   "outputs": [
    {
     "data": {
      "image/png": "[encoded data removed]",
      "text/plain": [
       "<Figure size 720x216 with 1 Axes>"
      ]
     },
     "metadata": {
      "needs_background": "light"
     },
     "output_type": "display_data"
    }
   ],
   "source": [
    "fig = plt.figure(figsize=(10,3))\n",
    "ax = plt.subplot(111)\n",
    "\n",
    "sns.barplot(ax=ax,\n",
    "            data=input_df_mpl.loc[input_df_mpl['variable'].isin(range1)], \n",
    "            y='value', x='variable', \n",
    "            hue=\"condition\",palette=lut_cnds,orient='v',ci=95)\n",
    "\n",
    "ax.spines.top.set_visible(False)\n",
    "ax.spines.right.set_visible(False)\n",
    "\n",
    "ax.set_xlabel(\"\")\n",
    "ax.set_ylabel(\"Conc., mM\")\n",
    "ax.tick_params( axis='x', rotation=90 )\n",
    "\n",
    "ax.legend( bbox_to_anchor=(1.05, 1), loc='upper left',frameon=False)\n",
    "\n",
    "plt.show()\n",
    "\n",
    "if savefigures == True:\n",
    "    \n",
    "    spec_id = \"bars_mets1_\"\n",
    "    \n",
    "    fig.savefig(outpath +  spec_id +  timestr + \".pdf\",transparent=False, bbox_inches=\"tight\")\n",
    "    fig.savefig(outpath +  spec_id +  timestr + \".png\",dpi=300,transparent=False, bbox_inches=\"tight\")\n"
   ]
  },
  {
   "cell_type": "code",
   "execution_count": null,
   "id": "4389e109-2093-47a9-ad33-02a967d824d9",
   "metadata": {},
   "outputs": [],
   "source": [
    "pd.set_option('display.max_rows', 500)"
   ]
  },
  {
   "cell_type": "code",
   "execution_count": null,
   "id": "ee987664-c2af-4551-830a-42d2201c65b6",
   "metadata": {},
   "outputs": [],
   "source": [
    "pd.DataFrame(input_df_mpl.loc[input_df_mpl['variable'].isin(range1),['variable','condition','value']].groupby(['variable','condition'])['value'].mean())"
   ]
  },
  {
   "cell_type": "code",
   "execution_count": null,
   "id": "a6e1c215-1f3c-496d-a45a-ac245c12d327",
   "metadata": {},
   "outputs": [],
   "source": [
    "pd.DataFrame(input_df_mpl.loc[input_df_mpl['variable'].isin(range1),['variable','condition','value']].groupby(['variable','condition'])['value'].std())"
   ]
  },
  {
   "cell_type": "code",
   "execution_count": 31,
   "id": "81a16e70-a000-429b-a219-12a12ffbee0b",
   "metadata": {},
   "outputs": [
    {
     "data": {
      "image/png": "[encoded data removed]",
      "text/plain": [
       "<Figure size 720x216 with 1 Axes>"
      ]
     },
     "metadata": {
      "needs_background": "light"
     },
     "output_type": "display_data"
    }
   ],
   "source": [
    "fig = plt.figure(figsize=(10,3))\n",
    "ax = plt.subplot(111)\n",
    "\n",
    "sns.barplot(ax=ax,\n",
    "            data=input_df_mpl.loc[input_df_mpl['variable'].isin(range2)], \n",
    "            y='value', x='variable', \n",
    "            hue=\"condition\",palette=lut_cnds,orient='v',ci=95)\n",
    "\n",
    "ax.spines.top.set_visible(False)\n",
    "ax.spines.right.set_visible(False)\n",
    "\n",
    "ax.set_xlabel(\"\")\n",
    "ax.set_ylabel(\"Conc., mM\")\n",
    "ax.tick_params( axis='x', rotation=90 )\n",
    "\n",
    "ax.legend( bbox_to_anchor=(1.05, 1), loc='upper left',frameon=False)\n",
    "\n",
    "plt.show()\n",
    "\n",
    "if savefigures == True:\n",
    "    \n",
    "    spec_id = \"bars_mets2_\"\n",
    "    \n",
    "    fig.savefig(outpath +  spec_id +  timestr + \".pdf\",transparent=False, bbox_inches=\"tight\")\n",
    "    fig.savefig(outpath +  spec_id +  timestr + \".png\",dpi=300,transparent=False, bbox_inches=\"tight\")\n"
   ]
  },
  {
   "cell_type": "code",
   "execution_count": null,
   "id": "3a8e6d34-bff3-45e4-918d-542db86675fa",
   "metadata": {},
   "outputs": [],
   "source": [
    "pd.DataFrame(input_df_mpl.loc[input_df_mpl['variable'].isin(range2),['variable','condition','value']].groupby(['variable','condition'])['value'].mean())"
   ]
  },
  {
   "cell_type": "code",
   "execution_count": null,
   "id": "41732555-95e7-4464-a305-a7ace289d8ec",
   "metadata": {},
   "outputs": [],
   "source": [
    "pd.DataFrame(input_df_mpl.loc[input_df_mpl['variable'].isin(range2),['variable','condition','value']].groupby(['variable','condition'])['value'].std())"
   ]
  },
  {
   "cell_type": "code",
   "execution_count": 32,
   "id": "a032cbee-427d-4898-8ea9-83fa75909265",
   "metadata": {},
   "outputs": [
    {
     "data": {
      "image/png": "[encoded data removed]",
      "text/plain": [
       "<Figure size 720x216 with 1 Axes>"
      ]
     },
     "metadata": {
      "needs_background": "light"
     },
     "output_type": "display_data"
    }
   ],
   "source": [
    "fig = plt.figure(figsize=(10,3))\n",
    "ax = plt.subplot(111)\n",
    "\n",
    "sns.barplot(ax=ax,\n",
    "            data=input_df_mpl.loc[input_df_mpl['variable'].isin(range3)], \n",
    "            y='value', x='variable', \n",
    "            hue=\"condition\",palette=lut_cnds,orient='v',ci=95)\n",
    "\n",
    "ax.spines.top.set_visible(False)\n",
    "ax.spines.right.set_visible(False)\n",
    "\n",
    "ax.set_xlabel(\"\")\n",
    "ax.set_ylabel(\"Conc., mM\")\n",
    "ax.tick_params( axis='x', rotation=90 )\n",
    "ax.legend( bbox_to_anchor=(1.05, 1), loc='upper left',frameon=False)\n",
    "\n",
    "plt.show()\n",
    "\n",
    "if savefigures == True:\n",
    "    \n",
    "    spec_id = \"bars_mets3_\"\n",
    "    \n",
    "    fig.savefig(outpath +  spec_id +  timestr + \".pdf\",transparent=False, bbox_inches=\"tight\")\n",
    "    fig.savefig(outpath +  spec_id +  timestr + \".png\",dpi=300,transparent=False, bbox_inches=\"tight\")\n"
   ]
  },
  {
   "cell_type": "code",
   "execution_count": null,
   "id": "a3f758d8-900b-4d04-ad68-3eaaf41b5d40",
   "metadata": {},
   "outputs": [],
   "source": [
    "pd.DataFrame(input_df_mpl.loc[input_df_mpl['variable'].isin(range3),['variable','condition','value']].groupby(['variable','condition'])['value'].mean())"
   ]
  },
  {
   "cell_type": "code",
   "execution_count": null,
   "id": "e0032de4-66d1-445e-b58e-f57d6fe41113",
   "metadata": {},
   "outputs": [],
   "source": [
    "pd.DataFrame(input_df_mpl.loc[input_df_mpl['variable'].isin(range3),['variable','condition','value']].groupby(['variable','condition'])['value'].std())"
   ]
  },
  {
   "cell_type": "code",
   "execution_count": 33,
   "id": "8ac15e78-26ce-4d25-a5fe-ed24a8784a13",
   "metadata": {},
   "outputs": [
    {
     "data": {
      "image/png": "[encoded data removed]",
      "text/plain": [
       "<Figure size 720x216 with 1 Axes>"
      ]
     },
     "metadata": {
      "needs_background": "light"
     },
     "output_type": "display_data"
    }
   ],
   "source": [
    "fig = plt.figure(figsize=(10,3))\n",
    "ax = plt.subplot(111)\n",
    "\n",
    "sns.barplot(ax=ax,\n",
    "            data=input_df_mpl.loc[input_df_mpl['variable'].isin(range4)], \n",
    "            y='value', x='variable', \n",
    "            hue=\"condition\",palette=lut_cnds,orient='v',ci=95)\n",
    "\n",
    "ax.spines.top.set_visible(False)\n",
    "ax.spines.right.set_visible(False)\n",
    "\n",
    "ax.set_xlabel(\"\")\n",
    "ax.set_ylabel(\"Conc., mM\")\n",
    "ax.tick_params( axis='x', rotation=90 )\n",
    "ax.legend( bbox_to_anchor=(1.05, 1), loc='upper left',frameon=False)\n",
    "\n",
    "plt.show()\n",
    "\n",
    "if savefigures == True:\n",
    "    \n",
    "    spec_id = \"bars_mets4_\"\n",
    "    \n",
    "    fig.savefig(outpath +  spec_id +  timestr + \".pdf\",transparent=False, bbox_inches=\"tight\")\n",
    "    fig.savefig(outpath +  spec_id +  timestr + \".png\",dpi=300,transparent=False, bbox_inches=\"tight\")\n"
   ]
  },
  {
   "cell_type": "code",
   "execution_count": null,
   "id": "2192c4ba-d76d-4da1-b38e-f467e3455d5b",
   "metadata": {},
   "outputs": [],
   "source": [
    "pd.DataFrame(input_df_mpl.loc[input_df_mpl['variable'].isin(range4),['variable','condition','value']].groupby(['variable','condition'])['value'].mean())"
   ]
  },
  {
   "cell_type": "code",
   "execution_count": null,
   "id": "33d7b87b-32db-48d8-b966-7c765423b10d",
   "metadata": {},
   "outputs": [],
   "source": [
    "pd.DataFrame(input_df_mpl.loc[input_df_mpl['variable'].isin(range4),['variable','condition','value']].groupby(['variable','condition'])['value'].std())"
   ]
  },
  {
   "cell_type": "code",
   "execution_count": 34,
   "id": "4e31e4cd-3b83-4079-9496-1415685dcce5",
   "metadata": {},
   "outputs": [
    {
     "data": {
      "image/png": "[encoded data removed]",
      "text/plain": [
       "<Figure size 720x216 with 1 Axes>"
      ]
     },
     "metadata": {
      "needs_background": "light"
     },
     "output_type": "display_data"
    }
   ],
   "source": [
    "fig = plt.figure(figsize=(10,3))\n",
    "ax = plt.subplot(111)\n",
    "\n",
    "sns.barplot(ax=ax,\n",
    "            data=input_df_mpl.loc[input_df_mpl['variable'].isin(range5)], \n",
    "            y='value', x='variable', \n",
    "            hue=\"condition\",palette=lut_cnds,orient='v',ci=95)\n",
    "\n",
    "ax.spines.top.set_visible(False)\n",
    "ax.spines.right.set_visible(False)\n",
    "\n",
    "ax.set_xlabel(\"\")\n",
    "ax.set_ylabel(\"Conc., mM\")\n",
    "ax.tick_params( axis='x', rotation=90 )\n",
    "ax.legend( bbox_to_anchor=(1.05, 1), loc='upper left',frameon=False)\n",
    "\n",
    "plt.show()\n",
    "\n",
    "if savefigures == True:\n",
    "    \n",
    "    spec_id = \"bars_mets5_\"\n",
    "    \n",
    "    fig.savefig(outpath +  spec_id +  timestr + \".pdf\",transparent=False, bbox_inches=\"tight\")\n",
    "    fig.savefig(outpath +  spec_id +  timestr + \".png\",dpi=300,transparent=False, bbox_inches=\"tight\")\n"
   ]
  },
  {
   "cell_type": "code",
   "execution_count": null,
   "id": "38e00f9e-7547-4c09-8c7e-da94d23dbed3",
   "metadata": {},
   "outputs": [],
   "source": [
    "pd.DataFrame(input_df_mpl.loc[input_df_mpl['variable'].isin(range5),['variable','condition','value']].groupby(['variable','condition'])['value'].mean())"
   ]
  },
  {
   "cell_type": "code",
   "execution_count": null,
   "id": "be1fb5a0-9eb7-46d9-abb9-529a2b9e281b",
   "metadata": {},
   "outputs": [],
   "source": [
    "pd.DataFrame(input_df_mpl.loc[input_df_mpl['variable'].isin(range5),['variable','condition','value']].groupby(['variable','condition'])['value'].std())"
   ]
  },
  {
   "cell_type": "code",
   "execution_count": 35,
   "id": "f61edea7-d6d7-4e0c-8e6e-41e0c51b70e7",
   "metadata": {},
   "outputs": [
    {
     "data": {
      "image/png": "[encoded data removed]",
      "text/plain": [
       "<Figure size 108x108 with 1 Axes>"
      ]
     },
     "metadata": {
      "needs_background": "light"
     },
     "output_type": "display_data"
    }
   ],
   "source": [
    "fig = plt.figure(figsize=(1.5,1.5))\n",
    "ax = plt.subplot(111)\n",
    "\n",
    "sns.barplot(ax=ax,\n",
    "            data=input_df_mpl.loc[input_df_mpl['variable'].isin(range6)], \n",
    "            y='value', x='variable', \n",
    "            hue=\"condition\",palette=lut_cnds,orient='v',ci=95)\n",
    "\n",
    "ax.spines.top.set_visible(False)\n",
    "ax.spines.right.set_visible(False)\n",
    "\n",
    "ax.set_xlabel(\"\")\n",
    "ax.set_ylabel(\"Conc., mM\")\n",
    "ax.tick_params( axis='x', rotation=90 )\n",
    "ax.legend( bbox_to_anchor=(1.05, 1), loc='upper left',frameon=False)\n",
    "\n",
    "plt.show()\n",
    "\n",
    "if savefigures == True:\n",
    "    \n",
    "    spec_id = \"bars_mets6_\"\n",
    "    \n",
    "    fig.savefig(outpath +  spec_id +  timestr + \".pdf\",transparent=False, bbox_inches=\"tight\")\n",
    "    fig.savefig(outpath +  spec_id +  timestr + \".png\",dpi=300,transparent=False, bbox_inches=\"tight\")\n"
   ]
  },
  {
   "cell_type": "code",
   "execution_count": null,
   "id": "1433ca51-36ab-4dd6-9a21-89217233a509",
   "metadata": {},
   "outputs": [],
   "source": [
    "pd.DataFrame(input_df_mpl.loc[input_df_mpl['variable'].isin(range6),['variable','condition','value']].groupby(['variable','condition'])['value'].mean())"
   ]
  },
  {
   "cell_type": "code",
   "execution_count": null,
   "id": "372b3c20-72af-4ff3-9fe0-712062e22c21",
   "metadata": {},
   "outputs": [],
   "source": [
    "pd.DataFrame(input_df_mpl.loc[input_df_mpl['variable'].isin(range6),['variable','condition','value']].groupby(['variable','condition'])['value'].std())"
   ]
  },
  {
   "cell_type": "code",
   "execution_count": null,
   "id": "d44b5a3e-fd02-461b-bd05-88aaf47dfbee",
   "metadata": {},
   "outputs": [],
   "source": []
  }
 ],
 "metadata": {
  "kernelspec": {
   "display_name": "Python 3 (ipykernel)",
   "language": "python",
   "name": "python3"
  },
  "language_info": {
   "codemirror_mode": {
    "name": "ipython",
    "version": 3
   },
   "file_extension": ".py",
   "mimetype": "text/x-python",
   "name": "python",
   "nbconvert_exporter": "python",
   "pygments_lexer": "ipython3",
   "version": "3.9.4"
  }
 },
 "nbformat": 4,
 "nbformat_minor": 5
}
