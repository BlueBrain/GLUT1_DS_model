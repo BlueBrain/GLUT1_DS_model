{
 "cells": [
  {
   "cell_type": "markdown",
   "id": "dbad0a4e-a17b-4e97-8c73-718416c229ad",
   "metadata": {},
   "source": [
    "# What are the effects of suggested combinatorial therapies?"
   ]
  },
  {
   "cell_type": "code",
   "execution_count": 1,
   "id": "a356a012-5326-4a0b-95e4-54003c58b5d3",
   "metadata": {},
   "outputs": [
    {
     "name": "stdout",
     "output_type": "stream",
     "text": [
      "202310171607\n"
     ]
    }
   ],
   "source": [
    "import pandas as pd\n",
    "import numpy as np\n",
    "import json\n",
    "from itertools import chain\n",
    "\n",
    "import matplotlib.pyplot as plt\n",
    "import matplotlib as mpl\n",
    "\n",
    "import seaborn as sns\n",
    "\n",
    "import time\n",
    "import glob\n",
    "\n",
    "params = {\n",
    "   'axes.labelsize': 14,\n",
    "   'font.size': 14,\n",
    "   'legend.fontsize': 14,\n",
    "   'xtick.labelsize': 14,\n",
    "   'ytick.labelsize': 14,\n",
    "   'text.usetex': False,\n",
    "   'figure.figsize': [4.5, 4.5],\n",
    "    'savefig.facecolor':'white'\n",
    "   }\n",
    "\n",
    "mpl.rcParams.update(params)\n",
    "\n",
    "\n",
    "import random \n",
    "random.seed(12357)\n",
    "np.random.seed(12357)\n",
    "\n",
    "\n",
    "import pprint \n",
    "ppdict = pprint.PrettyPrinter(indent=4, sort_dicts=False)\n",
    "\n",
    "\n",
    "from sklearn.preprocessing import StandardScaler\n",
    "from sklearn.decomposition import PCA\n",
    "\n",
    "import umap\n",
    "import hdbscan\n",
    "import sklearn.cluster as cluster\n",
    "from sklearn.metrics import adjusted_rand_score, adjusted_mutual_info_score\n",
    "\n",
    "\n",
    "timestr = time.strftime(\"%Y%m%d%H%M\")\n",
    "print(timestr)"
   ]
  },
  {
   "cell_type": "code",
   "execution_count": 2,
   "id": "da257fcf-bf37-45b0-8ff4-5c7bbab8400d",
   "metadata": {},
   "outputs": [
    {
     "name": "stdout",
     "output_type": "stream",
     "text": [
      "1\n"
     ]
    }
   ],
   "source": [
    "sol_saveat_dt = [1,1e-4][0]\n",
    "\n",
    "print(sol_saveat_dt)\n",
    "\n",
    "inpath = \"output/\"\n",
    "outpath = \"figures/fig4b/\" "
   ]
  },
  {
   "cell_type": "code",
   "execution_count": 3,
   "id": "a07b550f-17e2-43ae-82c9-a92511df9a01",
   "metadata": {},
   "outputs": [],
   "source": [
    "##############################################\n",
    "# set to True to save fig\n",
    "\n",
    "savefigures = True #False #True \n",
    "\n",
    "##############################################"
   ]
  },
  {
   "cell_type": "code",
   "execution_count": 4,
   "id": "0aef4210-238d-436d-88f7-5e652dfbb684",
   "metadata": {},
   "outputs": [
    {
     "name": "stdout",
     "output_type": "stream",
     "text": [
      "190\n"
     ]
    }
   ],
   "source": [
    "! ls -lh output | grep \"_u\\.\" | grep \"sim_\" | wc -l"
   ]
  },
  {
   "cell_type": "code",
   "execution_count": 5,
   "id": "76dad4fc-b928-4d47-a9f6-11b3a94d619f",
   "metadata": {},
   "outputs": [
    {
     "name": "stdout",
     "output_type": "stream",
     "text": [
      "190\n"
     ]
    }
   ],
   "source": [
    "print(len(glob.glob(inpath+\"*_u.csv\"))) "
   ]
  },
  {
   "cell_type": "code",
   "execution_count": 6,
   "id": "bcaaf2f8-0a8a-43b0-be92-2cf20360acf2",
   "metadata": {},
   "outputs": [],
   "source": [
    "input_file_ids = [i.rstrip(\"_u.csv\") for i in glob.glob(inpath+\"*_u.csv\")]\n",
    "\n",
    "\n",
    "input_file_ids = sorted(input_file_ids)"
   ]
  },
  {
   "cell_type": "code",
   "execution_count": 7,
   "id": "70d23bfb-478d-42ed-a534-60dea8bbdce9",
   "metadata": {
    "tags": []
   },
   "outputs": [],
   "source": [
    "input_dfs = []\n",
    "\n",
    "for fid in input_file_ids:\n",
    "\n",
    "    dfn = fid + \"_u.csv\"\n",
    "    tfn = fid + \"_t.csv\"\n",
    "    nfn = fid + \"_unames.csv\"\n",
    "    \n",
    "    df = pd.read_csv(dfn,header=None)\n",
    "    tf = pd.read_csv(tfn,header=None)\n",
    "    nf = pd.read_csv(nfn,header=None)\n",
    "    \n",
    "    df.columns = [i[:-1] for i in nf[0].values.tolist() ]\n",
    "    \n",
    "    df['time_s'] = tf[0].copy()\n",
    "    df['condition'] = fid.replace(\"output/sim_\",\"\").split(\"_extraTag\",1)[0]\n",
    "    \n",
    "    input_dfs.append(df)\n",
    "    \n",
    "input_df = pd.concat(input_dfs, axis=0, ignore_index=True)"
   ]
  },
  {
   "cell_type": "code",
   "execution_count": 8,
   "id": "2242ee1c-c7f2-4376-a1fd-7312fb725c31",
   "metadata": {},
   "outputs": [
    {
     "name": "stdout",
     "output_type": "stream",
     "text": [
      "(58900, 185)\n"
     ]
    }
   ],
   "source": [
    "print(input_df.shape)"
   ]
  },
  {
   "cell_type": "code",
   "execution_count": 9,
   "id": "fae09789-a07c-4e2d-8764-9d879808bba8",
   "metadata": {},
   "outputs": [],
   "source": [
    "input_df = input_df.reindex(sorted(input_df.columns), axis=1)"
   ]
  },
  {
   "cell_type": "code",
   "execution_count": 10,
   "id": "8bd04fa4-c7ef-4953-a11a-379858df55c8",
   "metadata": {},
   "outputs": [],
   "source": [
    "input_df = input_df.loc[input_df['time_s']>180,:]\n",
    "input_df = input_df.reset_index(drop=True)"
   ]
  },
  {
   "cell_type": "code",
   "execution_count": 11,
   "id": "c37611b1-208a-4e85-b58f-bac8f9e65dd4",
   "metadata": {},
   "outputs": [
    {
     "data": {
      "text/html": [
       "<div>\n",
       "<style scoped>\n",
       "    .dataframe tbody tr th:only-of-type {\n",
       "        vertical-align: middle;\n",
       "    }\n",
       "\n",
       "    .dataframe tbody tr th {\n",
       "        vertical-align: top;\n",
       "    }\n",
       "\n",
       "    .dataframe thead th {\n",
       "        text-align: right;\n",
       "    }\n",
       "</style>\n",
       "<table border=\"1\" class=\"dataframe\">\n",
       "  <thead>\n",
       "    <tr style=\"text-align: right;\">\n",
       "      <th></th>\n",
       "      <th>ADP_a</th>\n",
       "      <th>ADP_i_a</th>\n",
       "      <th>ADP_i_n</th>\n",
       "      <th>ADP_mi_a</th>\n",
       "      <th>ADP_mi_n</th>\n",
       "      <th>ADP_mx_a</th>\n",
       "      <th>ADP_mx_n</th>\n",
       "      <th>ADP_n</th>\n",
       "      <th>ADPmito_a</th>\n",
       "      <th>ADPmito_n</th>\n",
       "      <th>...</th>\n",
       "      <th>f26bp_a</th>\n",
       "      <th>h</th>\n",
       "      <th>hIP3Ca_a</th>\n",
       "      <th>mGluRboundRatio_a</th>\n",
       "      <th>n</th>\n",
       "      <th>nBK_a</th>\n",
       "      <th>pgate</th>\n",
       "      <th>sTRP_a</th>\n",
       "      <th>time_s</th>\n",
       "      <th>vV</th>\n",
       "    </tr>\n",
       "  </thead>\n",
       "  <tbody>\n",
       "    <tr>\n",
       "      <th>0</th>\n",
       "      <td>0.045</td>\n",
       "      <td>0.045969</td>\n",
       "      <td>0.057954</td>\n",
       "      <td>0.045225</td>\n",
       "      <td>0.056787</td>\n",
       "      <td>1.152120</td>\n",
       "      <td>1.131716</td>\n",
       "      <td>0.047784</td>\n",
       "      <td>1.759665</td>\n",
       "      <td>1.856772</td>\n",
       "      <td>...</td>\n",
       "      <td>0.012238</td>\n",
       "      <td>0.991528</td>\n",
       "      <td>0.653282</td>\n",
       "      <td>0.0</td>\n",
       "      <td>0.021990</td>\n",
       "      <td>0.000007</td>\n",
       "      <td>0.023936</td>\n",
       "      <td>0.001238</td>\n",
       "      <td>181.0</td>\n",
       "      <td>0.0237</td>\n",
       "    </tr>\n",
       "    <tr>\n",
       "      <th>1</th>\n",
       "      <td>0.045</td>\n",
       "      <td>0.045971</td>\n",
       "      <td>0.057954</td>\n",
       "      <td>0.045227</td>\n",
       "      <td>0.056787</td>\n",
       "      <td>1.152133</td>\n",
       "      <td>1.131715</td>\n",
       "      <td>0.047784</td>\n",
       "      <td>1.759688</td>\n",
       "      <td>1.856772</td>\n",
       "      <td>...</td>\n",
       "      <td>0.012238</td>\n",
       "      <td>0.991528</td>\n",
       "      <td>0.653285</td>\n",
       "      <td>0.0</td>\n",
       "      <td>0.021989</td>\n",
       "      <td>0.000007</td>\n",
       "      <td>0.023936</td>\n",
       "      <td>0.001238</td>\n",
       "      <td>182.0</td>\n",
       "      <td>0.0237</td>\n",
       "    </tr>\n",
       "    <tr>\n",
       "      <th>2</th>\n",
       "      <td>0.045</td>\n",
       "      <td>0.045973</td>\n",
       "      <td>0.057954</td>\n",
       "      <td>0.045230</td>\n",
       "      <td>0.056787</td>\n",
       "      <td>1.152145</td>\n",
       "      <td>1.131715</td>\n",
       "      <td>0.047784</td>\n",
       "      <td>1.759712</td>\n",
       "      <td>1.856771</td>\n",
       "      <td>...</td>\n",
       "      <td>0.012239</td>\n",
       "      <td>0.991528</td>\n",
       "      <td>0.653289</td>\n",
       "      <td>0.0</td>\n",
       "      <td>0.021989</td>\n",
       "      <td>0.000007</td>\n",
       "      <td>0.023936</td>\n",
       "      <td>0.001238</td>\n",
       "      <td>183.0</td>\n",
       "      <td>0.0237</td>\n",
       "    </tr>\n",
       "  </tbody>\n",
       "</table>\n",
       "<p>3 rows × 185 columns</p>\n",
       "</div>"
      ],
      "text/plain": [
       "   ADP_a   ADP_i_a   ADP_i_n  ADP_mi_a  ADP_mi_n  ADP_mx_a  ADP_mx_n  \\\n",
       "0  0.045  0.045969  0.057954  0.045225  0.056787  1.152120  1.131716   \n",
       "1  0.045  0.045971  0.057954  0.045227  0.056787  1.152133  1.131715   \n",
       "2  0.045  0.045973  0.057954  0.045230  0.056787  1.152145  1.131715   \n",
       "\n",
       "      ADP_n  ADPmito_a  ADPmito_n  ...   f26bp_a         h  hIP3Ca_a  \\\n",
       "0  0.047784   1.759665   1.856772  ...  0.012238  0.991528  0.653282   \n",
       "1  0.047784   1.759688   1.856772  ...  0.012238  0.991528  0.653285   \n",
       "2  0.047784   1.759712   1.856771  ...  0.012239  0.991528  0.653289   \n",
       "\n",
       "   mGluRboundRatio_a         n     nBK_a     pgate    sTRP_a  time_s      vV  \n",
       "0                0.0  0.021990  0.000007  0.023936  0.001238   181.0  0.0237  \n",
       "1                0.0  0.021989  0.000007  0.023936  0.001238   182.0  0.0237  \n",
       "2                0.0  0.021989  0.000007  0.023936  0.001238   183.0  0.0237  \n",
       "\n",
       "[3 rows x 185 columns]"
      ]
     },
     "execution_count": 11,
     "metadata": {},
     "output_type": "execute_result"
    }
   ],
   "source": [
    "input_df.head(3)"
   ]
  },
  {
   "cell_type": "code",
   "execution_count": 12,
   "id": "9be6e1ef-0b58-48a7-a513-1cff7b7cc5b8",
   "metadata": {},
   "outputs": [
    {
     "data": {
      "text/plain": [
       "190"
      ]
     },
     "execution_count": 12,
     "metadata": {},
     "output_type": "execute_result"
    }
   ],
   "source": [
    "all_cnds_l = sorted(input_df['condition'].unique())\n",
    "len(all_cnds_l)"
   ]
  },
  {
   "cell_type": "code",
   "execution_count": null,
   "id": "a8d201a0-bc24-4633-a849-8a55f9714315",
   "metadata": {},
   "outputs": [],
   "source": []
  },
  {
   "cell_type": "code",
   "execution_count": null,
   "id": "58a5ed2a-6196-454e-870a-a48afed21cda",
   "metadata": {},
   "outputs": [],
   "source": []
  },
  {
   "cell_type": "markdown",
   "id": "b3f070b1-fff7-4fee-bcb2-0291a127e3f3",
   "metadata": {},
   "source": [
    "### Metric to rank therapies efficiencies"
   ]
  },
  {
   "cell_type": "code",
   "execution_count": 13,
   "id": "a22a2b12-22f8-4e2f-9c8b-4cc89a652cad",
   "metadata": {},
   "outputs": [],
   "source": [
    "ATPsNADs = [i[0:-1] for i in [ \n",
    "\n",
    "    'ATP_a0',\n",
    "    'ATP_i_a0',\n",
    "    'ATP_i_n0',\n",
    "    'ATP_mi_a0',\n",
    "    'ATP_mi_n0',\n",
    "    'ATP_mx_a0',\n",
    "    'ATP_mx_n0',\n",
    "    'ATP_n0',\n",
    "    'ATPmito_a0',\n",
    "    'ATPmito_n0',\n",
    "\n",
    "    'NADH_a0',\n",
    "    'NADH_n0',\n",
    "    'NADHmito_a0',\n",
    "    'NADHmito_n0',\n",
    "    'NADPH_a0',\n",
    "    'NADPH_n0'\n",
    "    \n",
    "]]\n",
    "\n",
    "ATPs  = [i[0:-1] for i in [ \n",
    "\n",
    "    'ATP_a0',\n",
    "    'ATP_i_a0',\n",
    "    'ATP_i_n0',\n",
    "    'ATP_mi_a0',\n",
    "    'ATP_mi_n0',\n",
    "    'ATP_mx_a0',\n",
    "    'ATP_mx_n0',\n",
    "    'ATP_n0',\n",
    "    'ATPmito_a0',\n",
    "    'ATPmito_n0' \n",
    "    \n",
    "]]\n",
    "\n",
    "NADs = [i[0:-1] for i in [ \n",
    "\n",
    "    'NADH_a0',\n",
    "    'NADH_n0',\n",
    "    'NADHmito_a0',\n",
    "    'NADHmito_n0',\n",
    "    'NADPH_a0',\n",
    "    'NADPH_n0'\n",
    "    \n",
    "]]\n",
    "\n",
    "\n",
    "NADs_noNADPs = [i[0:-1] for i in [ \n",
    "\n",
    "    'NADH_a0',\n",
    "    'NADH_n0',\n",
    "    'NADHmito_a0',\n",
    "    'NADHmito_n0'\n",
    "    \n",
    "]]\n",
    "\n",
    "NADPs = [i[0:-1] for i in [ \n",
    "\n",
    "    'NADPH_a0',\n",
    "    'NADPH_n0'\n",
    "    \n",
    "]]"
   ]
  },
  {
   "cell_type": "code",
   "execution_count": 14,
   "id": "1edb14d0-ceda-475b-86dc-bc21062cee1c",
   "metadata": {},
   "outputs": [
    {
     "name": "stdout",
     "output_type": "stream",
     "text": [
      "(130, 16)\n"
     ]
    },
    {
     "data": {
      "text/html": [
       "<div>\n",
       "<style scoped>\n",
       "    .dataframe tbody tr th:only-of-type {\n",
       "        vertical-align: middle;\n",
       "    }\n",
       "\n",
       "    .dataframe tbody tr th {\n",
       "        vertical-align: top;\n",
       "    }\n",
       "\n",
       "    .dataframe thead th {\n",
       "        text-align: right;\n",
       "    }\n",
       "</style>\n",
       "<table border=\"1\" class=\"dataframe\">\n",
       "  <thead>\n",
       "    <tr style=\"text-align: right;\">\n",
       "      <th></th>\n",
       "      <th>ATP_a</th>\n",
       "      <th>ATP_i_a</th>\n",
       "      <th>ATP_i_n</th>\n",
       "      <th>ATP_mi_a</th>\n",
       "      <th>ATP_mi_n</th>\n",
       "      <th>ATP_mx_a</th>\n",
       "      <th>ATP_mx_n</th>\n",
       "      <th>ATP_n</th>\n",
       "      <th>ATPmito_a</th>\n",
       "      <th>ATPmito_n</th>\n",
       "      <th>NADH_a</th>\n",
       "      <th>NADH_n</th>\n",
       "      <th>NADHmito_a</th>\n",
       "      <th>NADHmito_n</th>\n",
       "      <th>NADPH_a</th>\n",
       "      <th>NADPH_n</th>\n",
       "    </tr>\n",
       "  </thead>\n",
       "  <tbody>\n",
       "    <tr>\n",
       "      <th>0</th>\n",
       "      <td>1.294415</td>\n",
       "      <td>1.294711</td>\n",
       "      <td>1.381942</td>\n",
       "      <td>1.179812</td>\n",
       "      <td>1.275726</td>\n",
       "      <td>0.201757</td>\n",
       "      <td>0.201942</td>\n",
       "      <td>1.381358</td>\n",
       "      <td>0.833500</td>\n",
       "      <td>0.728258</td>\n",
       "      <td>0.105559</td>\n",
       "      <td>0.004047</td>\n",
       "      <td>0.358256</td>\n",
       "      <td>0.314535</td>\n",
       "      <td>0.029979</td>\n",
       "      <td>0.030026</td>\n",
       "    </tr>\n",
       "    <tr>\n",
       "      <th>1</th>\n",
       "      <td>1.294420</td>\n",
       "      <td>1.294717</td>\n",
       "      <td>1.381923</td>\n",
       "      <td>1.179817</td>\n",
       "      <td>1.275708</td>\n",
       "      <td>0.201768</td>\n",
       "      <td>0.201906</td>\n",
       "      <td>1.381339</td>\n",
       "      <td>0.833536</td>\n",
       "      <td>0.728142</td>\n",
       "      <td>0.105556</td>\n",
       "      <td>0.004046</td>\n",
       "      <td>0.358258</td>\n",
       "      <td>0.314536</td>\n",
       "      <td>0.029979</td>\n",
       "      <td>0.030026</td>\n",
       "    </tr>\n",
       "    <tr>\n",
       "      <th>2</th>\n",
       "      <td>1.294426</td>\n",
       "      <td>1.294723</td>\n",
       "      <td>1.381903</td>\n",
       "      <td>1.179822</td>\n",
       "      <td>1.275690</td>\n",
       "      <td>0.201779</td>\n",
       "      <td>0.201869</td>\n",
       "      <td>1.381319</td>\n",
       "      <td>0.833573</td>\n",
       "      <td>0.728025</td>\n",
       "      <td>0.105554</td>\n",
       "      <td>0.004046</td>\n",
       "      <td>0.358259</td>\n",
       "      <td>0.314536</td>\n",
       "      <td>0.029979</td>\n",
       "      <td>0.030026</td>\n",
       "    </tr>\n",
       "  </tbody>\n",
       "</table>\n",
       "</div>"
      ],
      "text/plain": [
       "      ATP_a   ATP_i_a   ATP_i_n  ATP_mi_a  ATP_mi_n  ATP_mx_a  ATP_mx_n  \\\n",
       "0  1.294415  1.294711  1.381942  1.179812  1.275726  0.201757  0.201942   \n",
       "1  1.294420  1.294717  1.381923  1.179817  1.275708  0.201768  0.201906   \n",
       "2  1.294426  1.294723  1.381903  1.179822  1.275690  0.201779  0.201869   \n",
       "\n",
       "      ATP_n  ATPmito_a  ATPmito_n    NADH_a    NADH_n  NADHmito_a  NADHmito_n  \\\n",
       "0  1.381358   0.833500   0.728258  0.105559  0.004047    0.358256    0.314535   \n",
       "1  1.381339   0.833536   0.728142  0.105556  0.004046    0.358258    0.314536   \n",
       "2  1.381319   0.833573   0.728025  0.105554  0.004046    0.358259    0.314536   \n",
       "\n",
       "    NADPH_a   NADPH_n  \n",
       "0  0.029979  0.030026  \n",
       "1  0.029979  0.030026  \n",
       "2  0.029979  0.030026  "
      ]
     },
     "execution_count": 14,
     "metadata": {},
     "output_type": "execute_result"
    }
   ],
   "source": [
    "# for more clear figure, calc relative to GLUT1 instead of control and outline control on the figures\n",
    "\n",
    "control_df = input_df.loc[input_df['condition']=='g1_61_def',ATPsNADs].copy()\n",
    "\n",
    "control_df = control_df.reset_index(drop=True)\n",
    "\n",
    "print(control_df.shape)\n",
    "\n",
    "control_df.head(3)"
   ]
  },
  {
   "cell_type": "code",
   "execution_count": 15,
   "id": "82cea61b-3c0d-437d-85f3-c7d9ce7b7f04",
   "metadata": {},
   "outputs": [
    {
     "data": {
      "text/plain": [
       "35"
      ]
     },
     "execution_count": 15,
     "metadata": {},
     "output_type": "execute_result"
    }
   ],
   "source": [
    "therapies_cnds = [i for i in all_cnds_l if ((i.startswith('g1_') and ('_dose1' not in i) and \n",
    "                                             ('_dose2' not in i) and \n",
    "                                             ('_dose3' not in i) and \n",
    "                                             ('_dose4' not in i) and \n",
    "                                             \n",
    "                                             ('_dose6' not in i) and \n",
    "                                             ('_dose7' not in i) and \n",
    "                                             ('_dose8' not in i) and \n",
    "                                             ('_pls' not in i) and ('_PDH' not in i) ) or (i == \"th_191_ATP_dose5\")  or (i == '121_default') ) ]\n",
    "\n",
    "len(therapies_cnds)"
   ]
  },
  {
   "cell_type": "code",
   "execution_count": 16,
   "id": "aefa227b-4ae9-4c01-a928-5d6acdd3a35a",
   "metadata": {},
   "outputs": [
    {
     "data": {
      "text/plain": [
       "['121_default',\n",
       " 'g1_101_blood_lac_ini_dose5',\n",
       " 'g1_106_blood_bhb_ini_dose5',\n",
       " 'g1_111_blood_lacbhb_ini_dose5',\n",
       " 'g1_118_keto_lac_nad',\n",
       " 'g1_119_keto_lac_nad_Qtot_n',\n",
       " 'g1_120_keto_lac_nad_Qtot_na',\n",
       " 'g1_126_AcAcCoA_ini_dose5',\n",
       " 'g1_131_AcCoAmito_na_ini_dose5',\n",
       " 'g1_136_SUCCOAmito_na_ini_dose5',\n",
       " 'g1_21_blood_glc_ini',\n",
       " 'g1_22_blood_lac_ini',\n",
       " 'g1_23_blood_bhb_ini',\n",
       " 'g1_24_aKG_ini',\n",
       " 'g1_25_succoa_ini',\n",
       " 'g1_26_fum_ini',\n",
       " 'g1_27_mal_ini',\n",
       " 'g1_28_oxa_ini',\n",
       " 'g1_37_glclac_ini',\n",
       " 'g1_38_glcbhb_ini',\n",
       " 'g1_39_lacbhb_ini',\n",
       " 'g1_40_glclacbhb_ini',\n",
       " 'g1_61_def',\n",
       " 'g1_65_PCm_keto',\n",
       " 'g1_66_PCm_lac',\n",
       " 'g1_67_PCm',\n",
       " 'g1_68_AcAcCoA',\n",
       " 'g1_69_Acon',\n",
       " 'g1_70_ISOCIT',\n",
       " 'g1_71_LDH_keto',\n",
       " 'g1_72_LDH',\n",
       " 'g1_76_SUCmito',\n",
       " 'g1_90_AcAcCoa_lac',\n",
       " 'g1_96_blood_glc_ini_dose5',\n",
       " 'th_191_ATP_dose5']"
      ]
     },
     "execution_count": 16,
     "metadata": {},
     "output_type": "execute_result"
    }
   ],
   "source": [
    "sorted(therapies_cnds)"
   ]
  },
  {
   "cell_type": "code",
   "execution_count": 17,
   "id": "2d5e26c4-c4ec-4fdd-93b8-09f4c5fc046f",
   "metadata": {},
   "outputs": [
    {
     "name": "stdout",
     "output_type": "stream",
     "text": [
      "(4550, 17)\n"
     ]
    },
    {
     "data": {
      "text/html": [
       "<div>\n",
       "<style scoped>\n",
       "    .dataframe tbody tr th:only-of-type {\n",
       "        vertical-align: middle;\n",
       "    }\n",
       "\n",
       "    .dataframe tbody tr th {\n",
       "        vertical-align: top;\n",
       "    }\n",
       "\n",
       "    .dataframe thead th {\n",
       "        text-align: right;\n",
       "    }\n",
       "</style>\n",
       "<table border=\"1\" class=\"dataframe\">\n",
       "  <thead>\n",
       "    <tr style=\"text-align: right;\">\n",
       "      <th></th>\n",
       "      <th>condition</th>\n",
       "      <th>ATP_a</th>\n",
       "      <th>ATP_i_a</th>\n",
       "      <th>ATP_i_n</th>\n",
       "      <th>ATP_mi_a</th>\n",
       "      <th>ATP_mi_n</th>\n",
       "      <th>ATP_mx_a</th>\n",
       "      <th>ATP_mx_n</th>\n",
       "      <th>ATP_n</th>\n",
       "      <th>ATPmito_a</th>\n",
       "      <th>ATPmito_n</th>\n",
       "      <th>NADH_a</th>\n",
       "      <th>NADH_n</th>\n",
       "      <th>NADHmito_a</th>\n",
       "      <th>NADHmito_n</th>\n",
       "      <th>NADPH_a</th>\n",
       "      <th>NADPH_n</th>\n",
       "    </tr>\n",
       "  </thead>\n",
       "  <tbody>\n",
       "    <tr>\n",
       "      <th>0</th>\n",
       "      <td>121_default</td>\n",
       "      <td>1.295424</td>\n",
       "      <td>1.295709</td>\n",
       "      <td>1.384354</td>\n",
       "      <td>1.180726</td>\n",
       "      <td>1.277963</td>\n",
       "      <td>0.203782</td>\n",
       "      <td>0.206695</td>\n",
       "      <td>1.383807</td>\n",
       "      <td>0.840335</td>\n",
       "      <td>0.743228</td>\n",
       "      <td>0.107943</td>\n",
       "      <td>0.004141</td>\n",
       "      <td>0.358259</td>\n",
       "      <td>0.314409</td>\n",
       "      <td>0.030002</td>\n",
       "      <td>0.030028</td>\n",
       "    </tr>\n",
       "    <tr>\n",
       "      <th>1</th>\n",
       "      <td>121_default</td>\n",
       "      <td>1.295421</td>\n",
       "      <td>1.295706</td>\n",
       "      <td>1.384354</td>\n",
       "      <td>1.180723</td>\n",
       "      <td>1.277963</td>\n",
       "      <td>0.203775</td>\n",
       "      <td>0.206695</td>\n",
       "      <td>1.383807</td>\n",
       "      <td>0.840312</td>\n",
       "      <td>0.743228</td>\n",
       "      <td>0.107940</td>\n",
       "      <td>0.004140</td>\n",
       "      <td>0.358252</td>\n",
       "      <td>0.314409</td>\n",
       "      <td>0.030002</td>\n",
       "      <td>0.030028</td>\n",
       "    </tr>\n",
       "    <tr>\n",
       "      <th>2</th>\n",
       "      <td>121_default</td>\n",
       "      <td>1.295418</td>\n",
       "      <td>1.295703</td>\n",
       "      <td>1.384354</td>\n",
       "      <td>1.180721</td>\n",
       "      <td>1.277964</td>\n",
       "      <td>0.203768</td>\n",
       "      <td>0.206695</td>\n",
       "      <td>1.383808</td>\n",
       "      <td>0.840288</td>\n",
       "      <td>0.743229</td>\n",
       "      <td>0.107937</td>\n",
       "      <td>0.004140</td>\n",
       "      <td>0.358246</td>\n",
       "      <td>0.314409</td>\n",
       "      <td>0.030002</td>\n",
       "      <td>0.030028</td>\n",
       "    </tr>\n",
       "  </tbody>\n",
       "</table>\n",
       "</div>"
      ],
      "text/plain": [
       "     condition     ATP_a   ATP_i_a   ATP_i_n  ATP_mi_a  ATP_mi_n  ATP_mx_a  \\\n",
       "0  121_default  1.295424  1.295709  1.384354  1.180726  1.277963  0.203782   \n",
       "1  121_default  1.295421  1.295706  1.384354  1.180723  1.277963  0.203775   \n",
       "2  121_default  1.295418  1.295703  1.384354  1.180721  1.277964  0.203768   \n",
       "\n",
       "   ATP_mx_n     ATP_n  ATPmito_a  ATPmito_n    NADH_a    NADH_n  NADHmito_a  \\\n",
       "0  0.206695  1.383807   0.840335   0.743228  0.107943  0.004141    0.358259   \n",
       "1  0.206695  1.383807   0.840312   0.743228  0.107940  0.004140    0.358252   \n",
       "2  0.206695  1.383808   0.840288   0.743229  0.107937  0.004140    0.358246   \n",
       "\n",
       "   NADHmito_n   NADPH_a   NADPH_n  \n",
       "0    0.314409  0.030002  0.030028  \n",
       "1    0.314409  0.030002  0.030028  \n",
       "2    0.314409  0.030002  0.030028  "
      ]
     },
     "execution_count": 17,
     "metadata": {},
     "output_type": "execute_result"
    }
   ],
   "source": [
    "therapies_df = input_df.loc[input_df['condition'].isin(therapies_cnds),['condition']+ATPsNADs].copy()\n",
    "\n",
    "therapies_df = therapies_df.reset_index(drop=True)\n",
    "\n",
    "print(therapies_df.shape)\n",
    "\n",
    "therapies_df.head(3)"
   ]
  },
  {
   "cell_type": "code",
   "execution_count": 18,
   "id": "aa7215a9-ac70-4f3f-93f4-70d2d3f81162",
   "metadata": {},
   "outputs": [
    {
     "data": {
      "text/plain": [
       "False"
      ]
     },
     "execution_count": 18,
     "metadata": {},
     "output_type": "execute_result"
    }
   ],
   "source": [
    "therapies_df.loc[therapies_df['condition']=='g13_41_blood_glc_ini',:].shape[0] == control_df.shape[0]"
   ]
  },
  {
   "cell_type": "code",
   "execution_count": 19,
   "id": "e5a33df3-9445-4bb3-aa67-1345e3fca5e1",
   "metadata": {},
   "outputs": [],
   "source": [
    "def efficiency_metric(control,therapy,cnd):\n",
    "    \n",
    "    if therapy.shape[0] != control.shape[0]:\n",
    "        \n",
    "        print(\"ATTENTION, check input shapes for \",cnd)\n",
    "        return(None)\n",
    "    \n",
    "    else:    \n",
    "        eff = np.median(np.sum(100*(therapy.loc[:,control.columns] - control)/control))\n",
    "    \n",
    "        return(eff)"
   ]
  },
  {
   "cell_type": "code",
   "execution_count": 20,
   "id": "cc264156-34a1-4fca-ae35-9502a8bd2e4b",
   "metadata": {},
   "outputs": [
    {
     "data": {
      "text/plain": [
       "0.0"
      ]
     },
     "execution_count": 20,
     "metadata": {},
     "output_type": "execute_result"
    }
   ],
   "source": [
    "np.sum(np.sum(100*(therapies_df.loc[therapies_df['condition']=='g13_41_blood_glc_ini',control_df.columns] - control_df)/control_df))"
   ]
  },
  {
   "cell_type": "code",
   "execution_count": 21,
   "id": "4e650306-7bf3-43a4-9d6f-f9fdfda8c5a1",
   "metadata": {},
   "outputs": [],
   "source": [
    "therapies_ranking = {}\n",
    "\n",
    "for cnd in therapies_cnds:\n",
    "    \n",
    "    therapy = therapies_df.loc[therapies_df['condition']==cnd,control_df.columns].reset_index(drop=True) \n",
    "    control = control_df\n",
    "    \n",
    "    therapies_ranking[cnd] = efficiency_metric(control,therapy,cnd)"
   ]
  },
  {
   "cell_type": "code",
   "execution_count": 22,
   "id": "57f1490f-c261-4c53-aaf0-0c49afd2884a",
   "metadata": {},
   "outputs": [
    {
     "data": {
      "text/html": [
       "<div>\n",
       "<style scoped>\n",
       "    .dataframe tbody tr th:only-of-type {\n",
       "        vertical-align: middle;\n",
       "    }\n",
       "\n",
       "    .dataframe tbody tr th {\n",
       "        vertical-align: top;\n",
       "    }\n",
       "\n",
       "    .dataframe thead th {\n",
       "        text-align: right;\n",
       "    }\n",
       "</style>\n",
       "<table border=\"1\" class=\"dataframe\">\n",
       "  <thead>\n",
       "    <tr style=\"text-align: right;\">\n",
       "      <th></th>\n",
       "      <th>therapy</th>\n",
       "      <th>score</th>\n",
       "    </tr>\n",
       "  </thead>\n",
       "  <tbody>\n",
       "    <tr>\n",
       "      <th>0</th>\n",
       "      <td>121_default</td>\n",
       "      <td>62.026451</td>\n",
       "    </tr>\n",
       "    <tr>\n",
       "      <th>1</th>\n",
       "      <td>g1_40_glclacbhb_ini</td>\n",
       "      <td>43.077359</td>\n",
       "    </tr>\n",
       "    <tr>\n",
       "      <th>2</th>\n",
       "      <td>g1_37_glclac_ini</td>\n",
       "      <td>42.559003</td>\n",
       "    </tr>\n",
       "  </tbody>\n",
       "</table>\n",
       "</div>"
      ],
      "text/plain": [
       "               therapy      score\n",
       "0          121_default  62.026451\n",
       "1  g1_40_glclacbhb_ini  43.077359\n",
       "2     g1_37_glclac_ini  42.559003"
      ]
     },
     "execution_count": 22,
     "metadata": {},
     "output_type": "execute_result"
    }
   ],
   "source": [
    "therapies_ranking_df = pd.DataFrame(dict(sorted(therapies_ranking.items(), key=lambda item: item[1],reverse=True)).items())\n",
    "\n",
    "therapies_ranking_df.columns = ['therapy','score']\n",
    "\n",
    "therapies_ranking_df.head(3)"
   ]
  },
  {
   "cell_type": "code",
   "execution_count": 23,
   "id": "6fec696d-fb44-4cb5-bb3b-3ff9c60d550e",
   "metadata": {},
   "outputs": [
    {
     "data": {
      "text/plain": [
       "(35, 2)"
      ]
     },
     "execution_count": 23,
     "metadata": {},
     "output_type": "execute_result"
    }
   ],
   "source": [
    "therapies_ranking_df.shape\n"
   ]
  },
  {
   "cell_type": "code",
   "execution_count": 24,
   "id": "192f5ac7-1b83-4c98-bd17-181d14710feb",
   "metadata": {},
   "outputs": [
    {
     "data": {
      "text/plain": [
       "['121_default',\n",
       " 'g1_101_blood_lac_ini_dose5',\n",
       " 'g1_106_blood_bhb_ini_dose5',\n",
       " 'g1_111_blood_lacbhb_ini_dose5',\n",
       " 'g1_118_keto_lac_nad',\n",
       " 'g1_119_keto_lac_nad_Qtot_n',\n",
       " 'g1_120_keto_lac_nad_Qtot_na',\n",
       " 'g1_126_AcAcCoA_ini_dose5',\n",
       " 'g1_131_AcCoAmito_na_ini_dose5',\n",
       " 'g1_136_SUCCOAmito_na_ini_dose5',\n",
       " 'g1_21_blood_glc_ini',\n",
       " 'g1_22_blood_lac_ini',\n",
       " 'g1_23_blood_bhb_ini',\n",
       " 'g1_24_aKG_ini',\n",
       " 'g1_25_succoa_ini',\n",
       " 'g1_26_fum_ini',\n",
       " 'g1_27_mal_ini',\n",
       " 'g1_28_oxa_ini',\n",
       " 'g1_37_glclac_ini',\n",
       " 'g1_38_glcbhb_ini',\n",
       " 'g1_39_lacbhb_ini',\n",
       " 'g1_40_glclacbhb_ini',\n",
       " 'g1_61_def',\n",
       " 'g1_65_PCm_keto',\n",
       " 'g1_66_PCm_lac',\n",
       " 'g1_67_PCm',\n",
       " 'g1_68_AcAcCoA',\n",
       " 'g1_69_Acon',\n",
       " 'g1_70_ISOCIT',\n",
       " 'g1_71_LDH_keto',\n",
       " 'g1_72_LDH',\n",
       " 'g1_76_SUCmito',\n",
       " 'g1_90_AcAcCoa_lac',\n",
       " 'g1_96_blood_glc_ini_dose5',\n",
       " 'th_191_ATP_dose5']"
      ]
     },
     "execution_count": 24,
     "metadata": {},
     "output_type": "execute_result"
    }
   ],
   "source": [
    "sorted(therapies_ranking_df.therapy.values)"
   ]
  },
  {
   "cell_type": "code",
   "execution_count": null,
   "id": "defae43f-c838-4c71-863d-3b372ea486af",
   "metadata": {},
   "outputs": [],
   "source": []
  },
  {
   "cell_type": "code",
   "execution_count": 26,
   "id": "0af02d02-b7d1-4d48-a464-c5b42dc43d3d",
   "metadata": {},
   "outputs": [
    {
     "data": {
      "text/plain": [
       "{'121_default': 62.02645059930532,\n",
       " 'g1_40_glclacbhb_ini': 43.07735936480472,\n",
       " 'g1_37_glclac_ini': 42.55900339888833,\n",
       " 'g1_111_blood_lacbhb_ini_dose5': 40.84753657787846,\n",
       " 'g1_39_lacbhb_ini': 33.72507165621854,\n",
       " 'g1_120_keto_lac_nad_Qtot_na': 26.05303657993231,\n",
       " 'g1_101_blood_lac_ini_dose5': 20.306649003200828,\n",
       " 'g1_119_keto_lac_nad_Qtot_n': 18.827165657835064,\n",
       " 'g1_22_blood_lac_ini': 17.49237614732542,\n",
       " 'g1_90_AcAcCoa_lac': 17.37711828882948,\n",
       " 'g1_118_keto_lac_nad': 12.674038829161304,\n",
       " 'g1_66_PCm_lac': 11.605274439094623,\n",
       " 'g1_38_glcbhb_ini': 5.555906725003902,\n",
       " 'g1_69_Acon': 3.4880330693091417,\n",
       " 'g1_106_blood_bhb_ini_dose5': 0.9820565350469217,\n",
       " 'g1_76_SUCmito': 0.971177758874255,\n",
       " 'g1_71_LDH_keto': 0.9498332485812728,\n",
       " 'g1_24_aKG_ini': 0.8388966278781329,\n",
       " 'g1_23_blood_bhb_ini': 0.6974531051407835,\n",
       " 'g1_72_LDH': 0.609601288045216,\n",
       " 'g1_61_def': 0.0,\n",
       " 'g1_126_AcAcCoA_ini_dose5': -0.0006078948159624529,\n",
       " 'g1_68_AcAcCoA': -0.002387639423951354,\n",
       " 'g1_70_ISOCIT': -0.021259817803561995,\n",
       " 'g1_25_succoa_ini': -0.16376391612946936,\n",
       " 'g1_131_AcCoAmito_na_ini_dose5': -0.2524963040274657,\n",
       " 'g1_28_oxa_ini': -0.2728382446447508,\n",
       " 'g1_136_SUCCOAmito_na_ini_dose5': -0.4045648416565515,\n",
       " 'g1_65_PCm_keto': -1.1816129718443282,\n",
       " 'g1_21_blood_glc_ini': -1.4715051370003833,\n",
       " 'g1_26_fum_ini': -3.3474749887909416,\n",
       " 'th_191_ATP_dose5': -3.4680699308172294,\n",
       " 'g1_96_blood_glc_ini_dose5': -4.400604573792169,\n",
       " 'g1_67_PCm': -6.804476442151147,\n",
       " 'g1_27_mal_ini': -24.705394601610607}"
      ]
     },
     "execution_count": 26,
     "metadata": {},
     "output_type": "execute_result"
    }
   ],
   "source": [
    "dict(sorted(therapies_ranking.items(), key=lambda item: item[1],reverse=True))"
   ]
  },
  {
   "cell_type": "code",
   "execution_count": 27,
   "id": "82997180-37e2-4fe1-8030-72e1d989188f",
   "metadata": {},
   "outputs": [
    {
     "data": {
      "text/html": [
       "<div>\n",
       "<style scoped>\n",
       "    .dataframe tbody tr th:only-of-type {\n",
       "        vertical-align: middle;\n",
       "    }\n",
       "\n",
       "    .dataframe tbody tr th {\n",
       "        vertical-align: top;\n",
       "    }\n",
       "\n",
       "    .dataframe thead th {\n",
       "        text-align: right;\n",
       "    }\n",
       "</style>\n",
       "<table border=\"1\" class=\"dataframe\">\n",
       "  <thead>\n",
       "    <tr style=\"text-align: right;\">\n",
       "      <th></th>\n",
       "      <th>therapy</th>\n",
       "      <th>score</th>\n",
       "    </tr>\n",
       "  </thead>\n",
       "  <tbody>\n",
       "    <tr>\n",
       "      <th>20</th>\n",
       "      <td>g1_61_def</td>\n",
       "      <td>0.0</td>\n",
       "    </tr>\n",
       "  </tbody>\n",
       "</table>\n",
       "</div>"
      ],
      "text/plain": [
       "      therapy  score\n",
       "20  g1_61_def    0.0"
      ]
     },
     "execution_count": 27,
     "metadata": {},
     "output_type": "execute_result"
    }
   ],
   "source": [
    "therapies_ranking_df.loc[therapies_ranking_df['therapy']=='g1_61_def',:]"
   ]
  },
  {
   "cell_type": "code",
   "execution_count": 28,
   "id": "7bda321a-5152-48dc-9aa0-cd7a47da9505",
   "metadata": {},
   "outputs": [],
   "source": [
    "therapies_ranking_df['therapy'] = therapies_ranking_df['therapy'].str.replace(\"_\",\" \")"
   ]
  },
  {
   "cell_type": "code",
   "execution_count": 29,
   "id": "a0163c12-5160-4b44-a8e3-5c060ab3b058",
   "metadata": {},
   "outputs": [
    {
     "data": {
      "image/png": "[encoded data removed]",
      "text/plain": [
       "<Figure size 288x720 with 1 Axes>"
      ]
     },
     "metadata": {
      "needs_background": "light"
     },
     "output_type": "display_data"
    }
   ],
   "source": [
    "fig = plt.figure(figsize=(4,10))\n",
    "ax = plt.subplot(111)\n",
    "\n",
    "\n",
    "sns.barplot(ax=ax,\n",
    "            data=therapies_ranking_df, \n",
    "            x='score', y='therapy', orient='h',facecolor='#5a8ec4') \n",
    "            \n",
    "\n",
    "plt.axvline(x=0,color='#fa6f0c',lw=3,linestyle='dashed')\n",
    "plt.axvline(x=therapies_ranking_df.loc[therapies_ranking_df['therapy']=='121 default','score'].values[0],color='#069e1d',lw=3,linestyle='dashed')\n",
    "\n",
    "ax.spines.top.set_visible(False)\n",
    "ax.spines.right.set_visible(False)\n",
    "\n",
    "ax.set_ylabel(\"\")\n",
    "ax.set_xlabel(\"Efficiency score\")\n",
    "\n",
    "plt.show()\n",
    "\n",
    "if savefigures == True:\n",
    "    \n",
    "    spec_id = \"fig4b_therapies_barplot_comboMetric_noPDH_\"\n",
    "    \n",
    "    fig.savefig(outpath +  spec_id +  timestr + \".pdf\",transparent=False, bbox_inches=\"tight\")\n",
    "    fig.savefig(outpath +  spec_id +  timestr + \".png\",dpi=300,transparent=False, bbox_inches=\"tight\")\n"
   ]
  },
  {
   "cell_type": "code",
   "execution_count": null,
   "id": "71f1c1fa-010e-4963-b531-329b556b5a49",
   "metadata": {},
   "outputs": [],
   "source": []
  },
  {
   "cell_type": "code",
   "execution_count": null,
   "id": "7feacd09-d9a4-47d1-bfde-c4d55c72f4c6",
   "metadata": {},
   "outputs": [],
   "source": []
  },
  {
   "cell_type": "code",
   "execution_count": null,
   "id": "8e12c512-8d2c-4bcb-8540-020fd390fd8a",
   "metadata": {},
   "outputs": [],
   "source": []
  }
 ],
 "metadata": {
  "kernelspec": {
   "display_name": "Python 3 (ipykernel)",
   "language": "python",
   "name": "python3"
  },
  "language_info": {
   "codemirror_mode": {
    "name": "ipython",
    "version": 3
   },
   "file_extension": ".py",
   "mimetype": "text/x-python",
   "name": "python",
   "nbconvert_exporter": "python",
   "pygments_lexer": "ipython3",
   "version": "3.9.4"
  }
 },
 "nbformat": 4,
 "nbformat_minor": 5
}
