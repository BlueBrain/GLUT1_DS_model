{
 "cells": [
  {
   "cell_type": "code",
   "execution_count": 1,
   "id": "9dc0a0e4-cec0-453a-84ca-4b477fc54918",
   "metadata": {
    "tags": []
   },
   "outputs": [],
   "source": [
    "import pandas as pd\n",
    "import numpy as np\n",
    "import json\n",
    "from itertools import chain\n",
    "\n",
    "import matplotlib.pyplot as plt\n",
    "import matplotlib as mpl\n",
    "\n",
    "import seaborn as sns\n",
    "\n",
    "from matplotlib.patches import Patch\n",
    "\n",
    "import time\n",
    "import glob\n",
    "\n",
    "params = {\n",
    "   'axes.labelsize': 14,\n",
    "   'font.size': 14,\n",
    "   'legend.fontsize': 14,\n",
    "   'xtick.labelsize': 14,\n",
    "   'ytick.labelsize': 14,\n",
    "   'text.usetex': False,\n",
    "   'figure.figsize': [4.5, 4.5],\n",
    "    'savefig.facecolor':'white'\n",
    "   }\n",
    "\n",
    "mpl.rcParams.update(params)\n",
    "\n",
    "\n",
    "timestr = time.strftime(\"%Y%m%d%H%M\")"
   ]
  },
  {
   "cell_type": "code",
   "execution_count": 2,
   "id": "9bb67f27-e03e-4a0e-add9-33db97a7388f",
   "metadata": {},
   "outputs": [
    {
     "name": "stdout",
     "output_type": "stream",
     "text": [
      "1\n"
     ]
    }
   ],
   "source": [
    "sol_saveat_dt = [1,1e-4][0]\n",
    "\n",
    "print(sol_saveat_dt)\n",
    "\n",
    "inpath = \"output/\"\n",
    "outpath = \"figures/fig2/\" "
   ]
  },
  {
   "cell_type": "code",
   "execution_count": 3,
   "id": "3eb24459-423a-4ca3-94be-c3e8e5ed9a34",
   "metadata": {},
   "outputs": [],
   "source": [
    "##############################################\n",
    "# set to True to save fig\n",
    "\n",
    "savefigures = True #False #True \n",
    "\n",
    "##############################################"
   ]
  },
  {
   "cell_type": "code",
   "execution_count": 4,
   "id": "7b338d80-de58-4cf5-a78e-964bd16fc620",
   "metadata": {},
   "outputs": [
    {
     "name": "stdout",
     "output_type": "stream",
     "text": [
      "190\n"
     ]
    }
   ],
   "source": [
    "print(len(glob.glob(inpath+\"*_u.csv\"))) "
   ]
  },
  {
   "cell_type": "code",
   "execution_count": 5,
   "id": "ff2b52ae-46a5-4b95-9c76-01c3ab482c5a",
   "metadata": {},
   "outputs": [],
   "source": [
    "input_file_ids = [i.rstrip(\"_u.csv\") for i in glob.glob(inpath+\"*_u.csv\")]\n"
   ]
  },
  {
   "cell_type": "code",
   "execution_count": 6,
   "id": "39a27e61-10f7-4738-9e6d-55de20dc5f89",
   "metadata": {},
   "outputs": [],
   "source": [
    "input_file_ids = sorted(input_file_ids)"
   ]
  },
  {
   "cell_type": "code",
   "execution_count": null,
   "id": "c92fe670-7b11-4e57-9c27-10e9e3a81341",
   "metadata": {},
   "outputs": [],
   "source": []
  },
  {
   "cell_type": "code",
   "execution_count": 7,
   "id": "60166afa-3a76-4383-885e-81cf53826faf",
   "metadata": {
    "tags": []
   },
   "outputs": [],
   "source": [
    "input_dfs = []\n",
    "\n",
    "for fid in input_file_ids:\n",
    "\n",
    "    dfn = fid + \"_u.csv\"\n",
    "    tfn = fid + \"_t.csv\"\n",
    "    nfn = fid + \"_unames.csv\"\n",
    "    \n",
    "    df = pd.read_csv(dfn,header=None)\n",
    "    tf = pd.read_csv(tfn,header=None)\n",
    "    nf = pd.read_csv(nfn,header=None)\n",
    "    \n",
    "    df.columns = [i[:-1] for i in nf[0].values.tolist() ]\n",
    "    \n",
    "    df['time_s'] = tf[0].copy()\n",
    "    df['condition'] = fid.replace(\"output/sim_\",\"\").split(\"_extraTag\",1)[0]\n",
    "    \n",
    "    input_dfs.append(df)\n",
    "    \n",
    "input_df = pd.concat(input_dfs, axis=0, ignore_index=True)"
   ]
  },
  {
   "cell_type": "code",
   "execution_count": 8,
   "id": "9fbc2867-d604-4c06-9603-f5279f9b35c4",
   "metadata": {},
   "outputs": [
    {
     "name": "stdout",
     "output_type": "stream",
     "text": [
      "(58900, 185)\n"
     ]
    }
   ],
   "source": [
    "print(input_df.shape)"
   ]
  },
  {
   "cell_type": "code",
   "execution_count": null,
   "id": "988bf959-b7f3-47ee-9f40-827559a0aa29",
   "metadata": {},
   "outputs": [],
   "source": []
  },
  {
   "cell_type": "code",
   "execution_count": 9,
   "id": "8e9f8740-9851-4e01-af4d-81d41bd1c0cf",
   "metadata": {},
   "outputs": [
    {
     "name": "stdout",
     "output_type": "stream",
     "text": [
      "94\n"
     ]
    }
   ],
   "source": [
    "mets2plot2_sel3met = [i[0:-1] for i in [\"Mg_x_n0\",\"NADHmito_n0\", \"QH2mito_n0\", \"CytCredmito_n0\",  \n",
    "            \"ATPmito_n0\", \"ATP_mx_n0\", \"ATP_i_n0\", \"ATP_mi_n0\", \n",
    "             \n",
    "            \"ATP_n0\", \"FUMmito_n0\", \"MALmito_n0\", \"OXAmito_n0\", \"SUCmito_n0\", \"SUCCOAmito_n0\", \"CoAmito_n0\", \n",
    "            \"AKGmito_n0\",  \"ISOCITmito_n0\", \"CITmito_n0\", \"AcCoAmito_n0\", \"AcAc_n0\", \"AcAcCoA_n0\", \"PYRmito_n0\", \"bHB_n0\", \"bHB_ecs0\", \"bHB_b0\",  \"GLU_n0\", \n",
    "            \"NADH_n0\", \"Mg_x_a0\",   \"NADHmito_a0\", \"QH2mito_a0\", \"CytCredmito_a0\",  \n",
    "            \"ATPmito_a0\",   \"ATP_mx_a0\",  \"ATP_i_a0\",   \"ATP_mi_a0\",  \n",
    "             \n",
    "            \"ATP_a0\",  \"FUMmito_a0\", \"MALmito_a0\", \"OXAmito_a0\", \"SUCmito_a0\", \"SUCCOAmito_a0\", \"CoAmito_a0\", \n",
    "            \"AKGmito_a0\", \"ISOCITmito_a0\", \"CITmito_a0\", \"AcCoAmito_a0\", \"PYRmito_a0\", \n",
    "            \"GLN_a0\", \"GLUT_a0\", \n",
    "             \n",
    "            \"ddHb0\", \"O2cap0\", \n",
    "              \"Glc_b0\", \"Glc_t_t0\", \"Glc_ecsBA0\", \"Glc_a0\", \"Glc_ecsAN0\", \"Glc_n0\", \"G6P_n0\", \"G6P_a0\", \"F6P_n0\", \"F6P_a0\", \"FBP_n0\", \"FBP_a0\", \"f26bp_a0\", \"GLY_a0\", \"G1P_a0\", \"GAP_n0\", \"GAP_a0\", \n",
    "              \"DHAP_n0\", \"DHAP_a0\", \"BPG13_n0\", \"BPG13_a0\", \"NADH_a0\", \"PG3_n0\", \"PG3_a0\", \"PG2_n0\", \"PG2_a0\", \"PEP_n0\", \"PEP_a0\", \"Pyr_n0\", \"Pyr_a0\", \"Lac_b0\", \"Lac_ecs0\", \"Lac_a0\", \"Lac_n0\", \n",
    "              \"NADPH_n0\", \"NADPH_a0\", \"R5P_n0\", \"R5P_a0\",  \"E4P_n0\", \"E4P_a0\", \n",
    "              \"GSH_n0\", \"GSH_a0\", \"cAMP_a0\"\n",
    "]]\n",
    "\n",
    "print(len(mets2plot2_sel3met))"
   ]
  },
  {
   "cell_type": "code",
   "execution_count": 10,
   "id": "fb87347b-69d6-4975-81b5-0e40a265d595",
   "metadata": {},
   "outputs": [
    {
     "name": "stdout",
     "output_type": "stream",
     "text": [
      "31\n",
      "38\n"
     ]
    }
   ],
   "source": [
    "all_cnds_l = input_df['condition'].unique()\n",
    "\n",
    "group1_control = [i for i in all_cnds_l if (not i.startswith('g')) and (not i.startswith('th')) and (\"_dose\" not in i) \n",
    "                 ]\n",
    "\n",
    "print(len(group1_control))\n",
    "\n",
    "\n",
    "\n",
    "group2_GLUT1 = [i for i in all_cnds_l if ((i.startswith('g1_')) or (i.startswith('th_')))  and (\"_dose\" not in i) \n",
    "               ]\n",
    "\n",
    "print(len(group2_GLUT1))\n"
   ]
  },
  {
   "cell_type": "code",
   "execution_count": 18,
   "id": "679560e5-007d-4c6b-ab74-a8082209ae27",
   "metadata": {
    "tags": []
   },
   "outputs": [],
   "source": [
    "cnds_groups = {\n",
    "    'group1_control':group1_control,\n",
    "    'group2_GLUT1d':group2_GLUT1\n",
    "}\n"
   ]
  },
  {
   "cell_type": "code",
   "execution_count": 20,
   "id": "2ddb4519-623e-4953-86a7-ccf8f8100e98",
   "metadata": {},
   "outputs": [],
   "source": [
    "cnds_groups_r = {}\n",
    "\n",
    "for k,v in cnds_groups.items():\n",
    "    for i in v:\n",
    "        cnds_groups_r[i] = k"
   ]
  },
  {
   "cell_type": "code",
   "execution_count": 21,
   "id": "a433d92d-30fe-4cd1-9838-16050dcb583e",
   "metadata": {},
   "outputs": [
    {
     "data": {
      "text/html": [
       "<div>\n",
       "<style scoped>\n",
       "    .dataframe tbody tr th:only-of-type {\n",
       "        vertical-align: middle;\n",
       "    }\n",
       "\n",
       "    .dataframe tbody tr th {\n",
       "        vertical-align: top;\n",
       "    }\n",
       "\n",
       "    .dataframe thead th {\n",
       "        text-align: right;\n",
       "    }\n",
       "</style>\n",
       "<table border=\"1\" class=\"dataframe\">\n",
       "  <thead>\n",
       "    <tr style=\"text-align: right;\">\n",
       "      <th></th>\n",
       "      <th>C_H_mitomatr_n</th>\n",
       "      <th>K_x_n</th>\n",
       "      <th>Mg_x_n</th>\n",
       "      <th>NADHmito_n</th>\n",
       "      <th>QH2mito_n</th>\n",
       "      <th>CytCredmito_n</th>\n",
       "      <th>O2_n</th>\n",
       "      <th>ATPmito_n</th>\n",
       "      <th>ADPmito_n</th>\n",
       "      <th>ATP_mx_n</th>\n",
       "      <th>...</th>\n",
       "      <th>PCr_a</th>\n",
       "      <th>cAMP_a</th>\n",
       "      <th>NE_neuromod</th>\n",
       "      <th>UDPgluco_a</th>\n",
       "      <th>UTP_a</th>\n",
       "      <th>GS_a</th>\n",
       "      <th>GPa_a</th>\n",
       "      <th>GPb_a</th>\n",
       "      <th>time_s</th>\n",
       "      <th>condition_grp</th>\n",
       "    </tr>\n",
       "  </thead>\n",
       "  <tbody>\n",
       "    <tr>\n",
       "      <th>179</th>\n",
       "      <td>0.000018</td>\n",
       "      <td>54.885139</td>\n",
       "      <td>0.63959</td>\n",
       "      <td>0.314409</td>\n",
       "      <td>0.015754</td>\n",
       "      <td>0.132538</td>\n",
       "      <td>0.031431</td>\n",
       "      <td>0.743227</td>\n",
       "      <td>1.856773</td>\n",
       "      <td>0.206694</td>\n",
       "      <td>...</td>\n",
       "      <td>4.927256</td>\n",
       "      <td>0.039110</td>\n",
       "      <td>0.0</td>\n",
       "      <td>0.109</td>\n",
       "      <td>0.23</td>\n",
       "      <td>0.003</td>\n",
       "      <td>0.001347</td>\n",
       "      <td>0.068653</td>\n",
       "      <td>180.0</td>\n",
       "      <td>group1_control</td>\n",
       "    </tr>\n",
       "    <tr>\n",
       "      <th>180</th>\n",
       "      <td>0.000018</td>\n",
       "      <td>54.885139</td>\n",
       "      <td>0.63959</td>\n",
       "      <td>0.314409</td>\n",
       "      <td>0.015753</td>\n",
       "      <td>0.132538</td>\n",
       "      <td>0.031431</td>\n",
       "      <td>0.743228</td>\n",
       "      <td>1.856772</td>\n",
       "      <td>0.206695</td>\n",
       "      <td>...</td>\n",
       "      <td>4.927248</td>\n",
       "      <td>0.039110</td>\n",
       "      <td>0.0</td>\n",
       "      <td>0.109</td>\n",
       "      <td>0.23</td>\n",
       "      <td>0.003</td>\n",
       "      <td>0.001347</td>\n",
       "      <td>0.068653</td>\n",
       "      <td>181.0</td>\n",
       "      <td>group1_control</td>\n",
       "    </tr>\n",
       "    <tr>\n",
       "      <th>181</th>\n",
       "      <td>0.000018</td>\n",
       "      <td>54.885139</td>\n",
       "      <td>0.63959</td>\n",
       "      <td>0.314409</td>\n",
       "      <td>0.015753</td>\n",
       "      <td>0.132538</td>\n",
       "      <td>0.031431</td>\n",
       "      <td>0.743228</td>\n",
       "      <td>1.856772</td>\n",
       "      <td>0.206695</td>\n",
       "      <td>...</td>\n",
       "      <td>4.927240</td>\n",
       "      <td>0.039109</td>\n",
       "      <td>0.0</td>\n",
       "      <td>0.109</td>\n",
       "      <td>0.23</td>\n",
       "      <td>0.003</td>\n",
       "      <td>0.001347</td>\n",
       "      <td>0.068653</td>\n",
       "      <td>182.0</td>\n",
       "      <td>group1_control</td>\n",
       "    </tr>\n",
       "  </tbody>\n",
       "</table>\n",
       "<p>3 rows × 185 columns</p>\n",
       "</div>"
      ],
      "text/plain": [
       "     C_H_mitomatr_n      K_x_n   Mg_x_n  NADHmito_n  QH2mito_n  CytCredmito_n  \\\n",
       "179        0.000018  54.885139  0.63959    0.314409   0.015754       0.132538   \n",
       "180        0.000018  54.885139  0.63959    0.314409   0.015753       0.132538   \n",
       "181        0.000018  54.885139  0.63959    0.314409   0.015753       0.132538   \n",
       "\n",
       "         O2_n  ATPmito_n  ADPmito_n  ATP_mx_n  ...     PCr_a    cAMP_a  \\\n",
       "179  0.031431   0.743227   1.856773  0.206694  ...  4.927256  0.039110   \n",
       "180  0.031431   0.743228   1.856772  0.206695  ...  4.927248  0.039110   \n",
       "181  0.031431   0.743228   1.856772  0.206695  ...  4.927240  0.039109   \n",
       "\n",
       "     NE_neuromod  UDPgluco_a  UTP_a   GS_a     GPa_a     GPb_a  time_s  \\\n",
       "179          0.0       0.109   0.23  0.003  0.001347  0.068653   180.0   \n",
       "180          0.0       0.109   0.23  0.003  0.001347  0.068653   181.0   \n",
       "181          0.0       0.109   0.23  0.003  0.001347  0.068653   182.0   \n",
       "\n",
       "      condition_grp  \n",
       "179  group1_control  \n",
       "180  group1_control  \n",
       "181  group1_control  \n",
       "\n",
       "[3 rows x 185 columns]"
      ]
     },
     "execution_count": 21,
     "metadata": {},
     "output_type": "execute_result"
    }
   ],
   "source": [
    "input_df_mp = input_df.loc[(input_df['time_s']>=180),:].copy()  \n",
    "\n",
    "input_df_mp = input_df_mp.loc[(input_df_mp['condition'].isin(group1_control)) | (input_df_mp['condition'].isin(group2_GLUT1)),:].copy() \n",
    "\n",
    "input_df_mp['condition_grp'] = input_df_mp['condition'].map(cnds_groups_r)\n",
    "\n",
    "input_df_mp = input_df_mp.drop(columns='condition')\n",
    "\n",
    "\n",
    "input_df_mp.head(3)"
   ]
  },
  {
   "cell_type": "code",
   "execution_count": 24,
   "id": "de471cda-4073-4851-9eb6-db398813c316",
   "metadata": {},
   "outputs": [
    {
     "name": "stdout",
     "output_type": "stream",
     "text": [
      "(262, 183)\n"
     ]
    },
    {
     "data": {
      "text/html": [
       "<div>\n",
       "<style scoped>\n",
       "    .dataframe tbody tr th:only-of-type {\n",
       "        vertical-align: middle;\n",
       "    }\n",
       "\n",
       "    .dataframe tbody tr th {\n",
       "        vertical-align: top;\n",
       "    }\n",
       "\n",
       "    .dataframe thead th {\n",
       "        text-align: right;\n",
       "    }\n",
       "</style>\n",
       "<table border=\"1\" class=\"dataframe\">\n",
       "  <thead>\n",
       "    <tr style=\"text-align: right;\">\n",
       "      <th></th>\n",
       "      <th>condition_grp</th>\n",
       "      <th>time_s</th>\n",
       "      <th>C_H_mitomatr_n</th>\n",
       "      <th>K_x_n</th>\n",
       "      <th>Mg_x_n</th>\n",
       "      <th>NADHmito_n</th>\n",
       "      <th>QH2mito_n</th>\n",
       "      <th>CytCredmito_n</th>\n",
       "      <th>O2_n</th>\n",
       "      <th>ATPmito_n</th>\n",
       "      <th>...</th>\n",
       "      <th>PCr_n</th>\n",
       "      <th>Cr_a</th>\n",
       "      <th>PCr_a</th>\n",
       "      <th>cAMP_a</th>\n",
       "      <th>NE_neuromod</th>\n",
       "      <th>UDPgluco_a</th>\n",
       "      <th>UTP_a</th>\n",
       "      <th>GS_a</th>\n",
       "      <th>GPa_a</th>\n",
       "      <th>GPb_a</th>\n",
       "    </tr>\n",
       "  </thead>\n",
       "  <tbody>\n",
       "    <tr>\n",
       "      <th>0</th>\n",
       "      <td>group1_control</td>\n",
       "      <td>180.0</td>\n",
       "      <td>1.860745e-16</td>\n",
       "      <td>1.294599e-16</td>\n",
       "      <td>0.000725</td>\n",
       "      <td>0.003804</td>\n",
       "      <td>0.006408</td>\n",
       "      <td>0.002057</td>\n",
       "      <td>0.000901</td>\n",
       "      <td>0.003613</td>\n",
       "      <td>...</td>\n",
       "      <td>0.000887</td>\n",
       "      <td>5.249494e-16</td>\n",
       "      <td>0.000139</td>\n",
       "      <td>0.000381</td>\n",
       "      <td>NaN</td>\n",
       "      <td>0.0</td>\n",
       "      <td>8.447349e-16</td>\n",
       "      <td>0.0</td>\n",
       "      <td>0.009603</td>\n",
       "      <td>0.000187</td>\n",
       "    </tr>\n",
       "    <tr>\n",
       "      <th>1</th>\n",
       "      <td>group1_control</td>\n",
       "      <td>181.0</td>\n",
       "      <td>1.860745e-16</td>\n",
       "      <td>1.294599e-16</td>\n",
       "      <td>0.000726</td>\n",
       "      <td>0.003800</td>\n",
       "      <td>0.006424</td>\n",
       "      <td>0.002062</td>\n",
       "      <td>0.000900</td>\n",
       "      <td>0.003618</td>\n",
       "      <td>...</td>\n",
       "      <td>0.000891</td>\n",
       "      <td>5.249494e-16</td>\n",
       "      <td>0.000140</td>\n",
       "      <td>0.000381</td>\n",
       "      <td>NaN</td>\n",
       "      <td>0.0</td>\n",
       "      <td>8.447349e-16</td>\n",
       "      <td>0.0</td>\n",
       "      <td>0.009615</td>\n",
       "      <td>0.000188</td>\n",
       "    </tr>\n",
       "    <tr>\n",
       "      <th>2</th>\n",
       "      <td>group1_control</td>\n",
       "      <td>182.0</td>\n",
       "      <td>1.860745e-16</td>\n",
       "      <td>1.294599e-16</td>\n",
       "      <td>0.000727</td>\n",
       "      <td>0.003795</td>\n",
       "      <td>0.006439</td>\n",
       "      <td>0.002066</td>\n",
       "      <td>0.000900</td>\n",
       "      <td>0.003623</td>\n",
       "      <td>...</td>\n",
       "      <td>0.000895</td>\n",
       "      <td>5.249494e-16</td>\n",
       "      <td>0.000141</td>\n",
       "      <td>0.000382</td>\n",
       "      <td>NaN</td>\n",
       "      <td>0.0</td>\n",
       "      <td>8.447349e-16</td>\n",
       "      <td>0.0</td>\n",
       "      <td>0.009628</td>\n",
       "      <td>0.000188</td>\n",
       "    </tr>\n",
       "  </tbody>\n",
       "</table>\n",
       "<p>3 rows × 185 columns</p>\n",
       "</div>"
      ],
      "text/plain": [
       "    condition_grp  time_s  C_H_mitomatr_n         K_x_n    Mg_x_n  NADHmito_n  \\\n",
       "0  group1_control   180.0    1.860745e-16  1.294599e-16  0.000725    0.003804   \n",
       "1  group1_control   181.0    1.860745e-16  1.294599e-16  0.000726    0.003800   \n",
       "2  group1_control   182.0    1.860745e-16  1.294599e-16  0.000727    0.003795   \n",
       "\n",
       "   QH2mito_n  CytCredmito_n      O2_n  ATPmito_n  ...     PCr_n          Cr_a  \\\n",
       "0   0.006408       0.002057  0.000901   0.003613  ...  0.000887  5.249494e-16   \n",
       "1   0.006424       0.002062  0.000900   0.003618  ...  0.000891  5.249494e-16   \n",
       "2   0.006439       0.002066  0.000900   0.003623  ...  0.000895  5.249494e-16   \n",
       "\n",
       "      PCr_a    cAMP_a  NE_neuromod  UDPgluco_a         UTP_a  GS_a     GPa_a  \\\n",
       "0  0.000139  0.000381          NaN         0.0  8.447349e-16   0.0  0.009603   \n",
       "1  0.000140  0.000381          NaN         0.0  8.447349e-16   0.0  0.009615   \n",
       "2  0.000141  0.000382          NaN         0.0  8.447349e-16   0.0  0.009628   \n",
       "\n",
       "      GPb_a  \n",
       "0  0.000187  \n",
       "1  0.000188  \n",
       "2  0.000188  \n",
       "\n",
       "[3 rows x 185 columns]"
      ]
     },
     "execution_count": 24,
     "metadata": {},
     "output_type": "execute_result"
    }
   ],
   "source": [
    "input_df_mp_cvAmpl = pd.DataFrame(input_df_mp.groupby([\"condition_grp\",\"time_s\"]).apply(lambda x: np.std(np.abs(x))/np.mean(np.abs(x)) ))\n",
    "\n",
    "print(input_df_mp_cvAmpl.shape)\n",
    "\n",
    "input_df_mp_cvAmpl = input_df_mp_cvAmpl.reset_index(drop=False)\n",
    "\n",
    "\n",
    "input_df_mp_cvAmpl.head(3)"
   ]
  },
  {
   "cell_type": "code",
   "execution_count": 27,
   "id": "cf604ea6-8443-4fbb-8761-3734e7f3766a",
   "metadata": {},
   "outputs": [],
   "source": [
    "input_df_mp_cvAmpl_l = pd.melt(input_df_mp_cvAmpl,id_vars=['time_s','condition_grp'])\n"
   ]
  },
  {
   "cell_type": "code",
   "execution_count": 28,
   "id": "b175ec09-e66f-472c-ad8d-73ae86d5225a",
   "metadata": {},
   "outputs": [
    {
     "data": {
      "text/html": [
       "<div>\n",
       "<style scoped>\n",
       "    .dataframe tbody tr th:only-of-type {\n",
       "        vertical-align: middle;\n",
       "    }\n",
       "\n",
       "    .dataframe tbody tr th {\n",
       "        vertical-align: top;\n",
       "    }\n",
       "\n",
       "    .dataframe thead th {\n",
       "        text-align: right;\n",
       "    }\n",
       "</style>\n",
       "<table border=\"1\" class=\"dataframe\">\n",
       "  <thead>\n",
       "    <tr style=\"text-align: right;\">\n",
       "      <th></th>\n",
       "      <th>time_s</th>\n",
       "      <th>condition_grp</th>\n",
       "      <th>variable</th>\n",
       "      <th>value</th>\n",
       "    </tr>\n",
       "  </thead>\n",
       "  <tbody>\n",
       "    <tr>\n",
       "      <th>0</th>\n",
       "      <td>180.0</td>\n",
       "      <td>group1_control</td>\n",
       "      <td>C_H_mitomatr_n</td>\n",
       "      <td>1.860745e-16</td>\n",
       "    </tr>\n",
       "    <tr>\n",
       "      <th>1</th>\n",
       "      <td>181.0</td>\n",
       "      <td>group1_control</td>\n",
       "      <td>C_H_mitomatr_n</td>\n",
       "      <td>1.860745e-16</td>\n",
       "    </tr>\n",
       "    <tr>\n",
       "      <th>2</th>\n",
       "      <td>182.0</td>\n",
       "      <td>group1_control</td>\n",
       "      <td>C_H_mitomatr_n</td>\n",
       "      <td>1.860745e-16</td>\n",
       "    </tr>\n",
       "  </tbody>\n",
       "</table>\n",
       "</div>"
      ],
      "text/plain": [
       "   time_s   condition_grp        variable         value\n",
       "0   180.0  group1_control  C_H_mitomatr_n  1.860745e-16\n",
       "1   181.0  group1_control  C_H_mitomatr_n  1.860745e-16\n",
       "2   182.0  group1_control  C_H_mitomatr_n  1.860745e-16"
      ]
     },
     "execution_count": 28,
     "metadata": {},
     "output_type": "execute_result"
    }
   ],
   "source": [
    "input_df_mp_cvAmpl_l.head(3)"
   ]
  },
  {
   "cell_type": "code",
   "execution_count": 30,
   "id": "6597fc98-16f6-4605-a632-02f587ec4d76",
   "metadata": {
    "tags": []
   },
   "outputs": [],
   "source": [
    "def get_cmps_index(df):\n",
    "    cmps1 = []\n",
    "    for i in df['variable'].to_list():\n",
    "        if len(i.split(\"_\")) >1:\n",
    "            if i.split(\"_\")[-1] == \"ecsAN0\":\n",
    "                cmps1.append(\"ecs\")\n",
    "            elif i.split(\"_\")[-1] == \"ecsBA0\":\n",
    "                cmps1.append(\"ecs\")\n",
    "            elif i.split(\"_\")[-1] == \"out0\":\n",
    "                cmps1.append(\"ecs\")\n",
    "            else:\n",
    "                cmps1.append(i.split(\"_\")[-1].rstrip(\"0\"))\n",
    "        else:\n",
    "            #print(i)\n",
    "            cmps1.append(\"other\")\n",
    "            \n",
    "    return cmps1\n",
    "\n",
    "cmps = get_cmps_index(input_df_mp_cvAmpl_l)"
   ]
  },
  {
   "cell_type": "code",
   "execution_count": 31,
   "id": "2a75f113-f9d9-4090-8420-7298d2c20dda",
   "metadata": {},
   "outputs": [
    {
     "data": {
      "text/html": [
       "<div>\n",
       "<style scoped>\n",
       "    .dataframe tbody tr th:only-of-type {\n",
       "        vertical-align: middle;\n",
       "    }\n",
       "\n",
       "    .dataframe tbody tr th {\n",
       "        vertical-align: top;\n",
       "    }\n",
       "\n",
       "    .dataframe thead th {\n",
       "        text-align: right;\n",
       "    }\n",
       "</style>\n",
       "<table border=\"1\" class=\"dataframe\">\n",
       "  <thead>\n",
       "    <tr style=\"text-align: right;\">\n",
       "      <th></th>\n",
       "      <th>time_s</th>\n",
       "      <th>condition_grp</th>\n",
       "      <th>variable</th>\n",
       "      <th>value</th>\n",
       "      <th>cmps</th>\n",
       "    </tr>\n",
       "  </thead>\n",
       "  <tbody>\n",
       "    <tr>\n",
       "      <th>0</th>\n",
       "      <td>180.0</td>\n",
       "      <td>group1_control</td>\n",
       "      <td>C_H_mitomatr_n</td>\n",
       "      <td>1.860745e-16</td>\n",
       "      <td>n</td>\n",
       "    </tr>\n",
       "    <tr>\n",
       "      <th>1</th>\n",
       "      <td>181.0</td>\n",
       "      <td>group1_control</td>\n",
       "      <td>C_H_mitomatr_n</td>\n",
       "      <td>1.860745e-16</td>\n",
       "      <td>n</td>\n",
       "    </tr>\n",
       "    <tr>\n",
       "      <th>2</th>\n",
       "      <td>182.0</td>\n",
       "      <td>group1_control</td>\n",
       "      <td>C_H_mitomatr_n</td>\n",
       "      <td>1.860745e-16</td>\n",
       "      <td>n</td>\n",
       "    </tr>\n",
       "  </tbody>\n",
       "</table>\n",
       "</div>"
      ],
      "text/plain": [
       "   time_s   condition_grp        variable         value cmps\n",
       "0   180.0  group1_control  C_H_mitomatr_n  1.860745e-16    n\n",
       "1   181.0  group1_control  C_H_mitomatr_n  1.860745e-16    n\n",
       "2   182.0  group1_control  C_H_mitomatr_n  1.860745e-16    n"
      ]
     },
     "execution_count": 31,
     "metadata": {},
     "output_type": "execute_result"
    }
   ],
   "source": [
    "input_df_mp_cvAmpl_l['cmps'] = cmps\n",
    "input_df_mp_cvAmpl_l.head(3)"
   ]
  },
  {
   "cell_type": "code",
   "execution_count": 32,
   "id": "dc9c0a70-47a0-470d-a8e8-712783250d57",
   "metadata": {},
   "outputs": [
    {
     "data": {
      "text/html": [
       "<div>\n",
       "<style scoped>\n",
       "    .dataframe tbody tr th:only-of-type {\n",
       "        vertical-align: middle;\n",
       "    }\n",
       "\n",
       "    .dataframe tbody tr th {\n",
       "        vertical-align: top;\n",
       "    }\n",
       "\n",
       "    .dataframe thead th {\n",
       "        text-align: right;\n",
       "    }\n",
       "</style>\n",
       "<table border=\"1\" class=\"dataframe\">\n",
       "  <thead>\n",
       "    <tr style=\"text-align: right;\">\n",
       "      <th></th>\n",
       "      <th>time_s</th>\n",
       "      <th>condition_grp</th>\n",
       "      <th>variable</th>\n",
       "      <th>value</th>\n",
       "      <th>cmps</th>\n",
       "      <th>fns</th>\n",
       "    </tr>\n",
       "  </thead>\n",
       "  <tbody>\n",
       "    <tr>\n",
       "      <th>0</th>\n",
       "      <td>180.0</td>\n",
       "      <td>group1_control</td>\n",
       "      <td>C_H_mitomatr_n</td>\n",
       "      <td>1.860745e-16</td>\n",
       "      <td>n</td>\n",
       "      <td>NaN</td>\n",
       "    </tr>\n",
       "    <tr>\n",
       "      <th>1</th>\n",
       "      <td>181.0</td>\n",
       "      <td>group1_control</td>\n",
       "      <td>C_H_mitomatr_n</td>\n",
       "      <td>1.860745e-16</td>\n",
       "      <td>n</td>\n",
       "      <td>NaN</td>\n",
       "    </tr>\n",
       "    <tr>\n",
       "      <th>2</th>\n",
       "      <td>182.0</td>\n",
       "      <td>group1_control</td>\n",
       "      <td>C_H_mitomatr_n</td>\n",
       "      <td>1.860745e-16</td>\n",
       "      <td>n</td>\n",
       "      <td>NaN</td>\n",
       "    </tr>\n",
       "  </tbody>\n",
       "</table>\n",
       "</div>"
      ],
      "text/plain": [
       "   time_s   condition_grp        variable         value cmps  fns\n",
       "0   180.0  group1_control  C_H_mitomatr_n  1.860745e-16    n  NaN\n",
       "1   181.0  group1_control  C_H_mitomatr_n  1.860745e-16    n  NaN\n",
       "2   182.0  group1_control  C_H_mitomatr_n  1.860745e-16    n  NaN"
      ]
     },
     "execution_count": 32,
     "metadata": {},
     "output_type": "execute_result"
    }
   ],
   "source": [
    "fid = '202303211313'\n",
    "with open(f\"data/v2function_{fid}.json\",\"r\") as f:\n",
    "    v2function = json.load(f)\n",
    "\n",
    "lut_funs = {'keto': '#a6cee3',\n",
    " 'ETC': '#1f78b4',\n",
    " 'TCA': '#b2df8a',\n",
    " 'redox': '#33a02c',\n",
    " 'ATDMP': '#fb9a99',\n",
    " 'GLTGLN': '#e31a1c',\n",
    " 'resp': '#fdbf6f',\n",
    " 'GLCLS': '#ff7f00',\n",
    " 'PPP': '#cab2d6'}\n",
    "\n",
    "input_df_mp_cvAmpl_l['fns'] = input_df_mp_cvAmpl_l['variable'].map(v2function)\n",
    "\n",
    "input_df_mp_cvAmpl_l.head(3)"
   ]
  },
  {
   "cell_type": "code",
   "execution_count": 33,
   "id": "165eafec-4f14-45c0-9d19-e9c1f4e6d4fb",
   "metadata": {},
   "outputs": [
    {
     "data": {
      "text/html": [
       "<div>\n",
       "<style scoped>\n",
       "    .dataframe tbody tr th:only-of-type {\n",
       "        vertical-align: middle;\n",
       "    }\n",
       "\n",
       "    .dataframe tbody tr th {\n",
       "        vertical-align: top;\n",
       "    }\n",
       "\n",
       "    .dataframe thead th {\n",
       "        text-align: right;\n",
       "    }\n",
       "</style>\n",
       "<table border=\"1\" class=\"dataframe\">\n",
       "  <thead>\n",
       "    <tr style=\"text-align: right;\">\n",
       "      <th></th>\n",
       "      <th>time_s</th>\n",
       "      <th>condition_grp</th>\n",
       "      <th>variable</th>\n",
       "      <th>value</th>\n",
       "      <th>cmps</th>\n",
       "      <th>fns</th>\n",
       "    </tr>\n",
       "  </thead>\n",
       "  <tbody>\n",
       "    <tr>\n",
       "      <th>30130</th>\n",
       "      <td>180.0</td>\n",
       "      <td>group1_control</td>\n",
       "      <td>Glc_t_t</td>\n",
       "      <td>0.077604</td>\n",
       "      <td>t</td>\n",
       "      <td>GLCLS</td>\n",
       "    </tr>\n",
       "    <tr>\n",
       "      <th>30131</th>\n",
       "      <td>181.0</td>\n",
       "      <td>group1_control</td>\n",
       "      <td>Glc_t_t</td>\n",
       "      <td>0.077803</td>\n",
       "      <td>t</td>\n",
       "      <td>GLCLS</td>\n",
       "    </tr>\n",
       "    <tr>\n",
       "      <th>30132</th>\n",
       "      <td>182.0</td>\n",
       "      <td>group1_control</td>\n",
       "      <td>Glc_t_t</td>\n",
       "      <td>0.078001</td>\n",
       "      <td>t</td>\n",
       "      <td>GLCLS</td>\n",
       "    </tr>\n",
       "  </tbody>\n",
       "</table>\n",
       "</div>"
      ],
      "text/plain": [
       "       time_s   condition_grp variable     value cmps    fns\n",
       "30130   180.0  group1_control  Glc_t_t  0.077604    t  GLCLS\n",
       "30131   181.0  group1_control  Glc_t_t  0.077803    t  GLCLS\n",
       "30132   182.0  group1_control  Glc_t_t  0.078001    t  GLCLS"
      ]
     },
     "execution_count": 33,
     "metadata": {},
     "output_type": "execute_result"
    }
   ],
   "source": [
    "input_df_mp_cvAmpl_l = input_df_mp_cvAmpl_l.sort_values(by=['cmps','fns'],ascending=False)\n",
    "\n",
    "input_df_mp_cvAmpl_l.head(3)"
   ]
  },
  {
   "cell_type": "code",
   "execution_count": 34,
   "id": "4da696fe-3bf1-41df-9e6d-ccbc2347cc84",
   "metadata": {},
   "outputs": [],
   "source": [
    "input_df_mp_cvAmpl_l[[\"variable_id\",\"variable_cmp\"]] = input_df_mp_cvAmpl_l['variable'].str.split(\"_\",1, expand=True)"
   ]
  },
  {
   "cell_type": "code",
   "execution_count": null,
   "id": "e88c92ac-ffbf-4c6b-9f38-e7d711d75b0d",
   "metadata": {},
   "outputs": [],
   "source": []
  },
  {
   "cell_type": "code",
   "execution_count": 45,
   "id": "e2a598f5-c130-473d-940d-cdb9700e4024",
   "metadata": {},
   "outputs": [],
   "source": [
    "mypal_cmps = ['#03befc','#1b5ea1','red'] \n",
    "lut_cmps = dict(zip(['n','a','b_ecs'], mypal_cmps))"
   ]
  },
  {
   "cell_type": "code",
   "execution_count": null,
   "id": "451a978d-9826-484e-aebd-8da4cc39bc15",
   "metadata": {},
   "outputs": [],
   "source": []
  },
  {
   "cell_type": "code",
   "execution_count": 36,
   "id": "0022e1b9-45d3-4e58-96f1-7722f19c4166",
   "metadata": {},
   "outputs": [],
   "source": [
    "input_df_mp_cvAmpl_l_sel = input_df_mp_cvAmpl_l.loc[input_df_mp_cvAmpl_l['variable'].isin(mets2plot2_sel3met),:].copy()"
   ]
  },
  {
   "cell_type": "code",
   "execution_count": 37,
   "id": "8f704577-0e99-498f-9893-cc88e48355f4",
   "metadata": {},
   "outputs": [
    {
     "data": {
      "text/html": [
       "<div>\n",
       "<style scoped>\n",
       "    .dataframe tbody tr th:only-of-type {\n",
       "        vertical-align: middle;\n",
       "    }\n",
       "\n",
       "    .dataframe tbody tr th {\n",
       "        vertical-align: top;\n",
       "    }\n",
       "\n",
       "    .dataframe thead th {\n",
       "        text-align: right;\n",
       "    }\n",
       "</style>\n",
       "<table border=\"1\" class=\"dataframe\">\n",
       "  <thead>\n",
       "    <tr style=\"text-align: right;\">\n",
       "      <th></th>\n",
       "      <th>time_s</th>\n",
       "      <th>condition_grp</th>\n",
       "      <th>variable</th>\n",
       "      <th>value</th>\n",
       "      <th>cmps</th>\n",
       "      <th>fns</th>\n",
       "      <th>variable_id</th>\n",
       "      <th>variable_cmp</th>\n",
       "    </tr>\n",
       "  </thead>\n",
       "  <tbody>\n",
       "    <tr>\n",
       "      <th>30130</th>\n",
       "      <td>180.0</td>\n",
       "      <td>group1_control</td>\n",
       "      <td>Glc_t_t</td>\n",
       "      <td>0.077604</td>\n",
       "      <td>t</td>\n",
       "      <td>GLCLS</td>\n",
       "      <td>Glc</td>\n",
       "      <td>t_t</td>\n",
       "    </tr>\n",
       "    <tr>\n",
       "      <th>30131</th>\n",
       "      <td>181.0</td>\n",
       "      <td>group1_control</td>\n",
       "      <td>Glc_t_t</td>\n",
       "      <td>0.077803</td>\n",
       "      <td>t</td>\n",
       "      <td>GLCLS</td>\n",
       "      <td>Glc</td>\n",
       "      <td>t_t</td>\n",
       "    </tr>\n",
       "    <tr>\n",
       "      <th>30132</th>\n",
       "      <td>182.0</td>\n",
       "      <td>group1_control</td>\n",
       "      <td>Glc_t_t</td>\n",
       "      <td>0.078001</td>\n",
       "      <td>t</td>\n",
       "      <td>GLCLS</td>\n",
       "      <td>Glc</td>\n",
       "      <td>t_t</td>\n",
       "    </tr>\n",
       "    <tr>\n",
       "      <th>30133</th>\n",
       "      <td>183.0</td>\n",
       "      <td>group1_control</td>\n",
       "      <td>Glc_t_t</td>\n",
       "      <td>0.078199</td>\n",
       "      <td>t</td>\n",
       "      <td>GLCLS</td>\n",
       "      <td>Glc</td>\n",
       "      <td>t_t</td>\n",
       "    </tr>\n",
       "    <tr>\n",
       "      <th>30134</th>\n",
       "      <td>184.0</td>\n",
       "      <td>group1_control</td>\n",
       "      <td>Glc_t_t</td>\n",
       "      <td>0.078397</td>\n",
       "      <td>t</td>\n",
       "      <td>GLCLS</td>\n",
       "      <td>Glc</td>\n",
       "      <td>t_t</td>\n",
       "    </tr>\n",
       "  </tbody>\n",
       "</table>\n",
       "</div>"
      ],
      "text/plain": [
       "       time_s   condition_grp variable     value cmps    fns variable_id  \\\n",
       "30130   180.0  group1_control  Glc_t_t  0.077604    t  GLCLS         Glc   \n",
       "30131   181.0  group1_control  Glc_t_t  0.077803    t  GLCLS         Glc   \n",
       "30132   182.0  group1_control  Glc_t_t  0.078001    t  GLCLS         Glc   \n",
       "30133   183.0  group1_control  Glc_t_t  0.078199    t  GLCLS         Glc   \n",
       "30134   184.0  group1_control  Glc_t_t  0.078397    t  GLCLS         Glc   \n",
       "\n",
       "      variable_cmp  \n",
       "30130          t_t  \n",
       "30131          t_t  \n",
       "30132          t_t  \n",
       "30133          t_t  \n",
       "30134          t_t  "
      ]
     },
     "execution_count": 37,
     "metadata": {},
     "output_type": "execute_result"
    }
   ],
   "source": [
    "input_df_mp_cvAmpl_l_sel.head()"
   ]
  },
  {
   "cell_type": "code",
   "execution_count": 38,
   "id": "da56ed86-bd91-4f56-9913-f52b784b8126",
   "metadata": {},
   "outputs": [
    {
     "data": {
      "text/plain": [
       "34"
      ]
     },
     "execution_count": 38,
     "metadata": {},
     "output_type": "execute_result"
    }
   ],
   "source": [
    "# remove met that are present only in one of the cell types\n",
    "\n",
    "met_n = []\n",
    "met_a = []\n",
    "\n",
    "for i,row in input_df_mp_cvAmpl_l_sel.iterrows():\n",
    "    if row['cmps'] == 'n':\n",
    "        met_n.append(row['variable_id'])\n",
    "    elif row['cmps'] == 'a':\n",
    "        met_a.append(row['variable_id'])\n",
    "        \n",
    "met_na = list(set(set(met_n).intersection(met_a)))\n",
    "\n",
    "len(met_na)"
   ]
  },
  {
   "cell_type": "code",
   "execution_count": 39,
   "id": "548eb07d-1ed8-4839-971c-d064026621df",
   "metadata": {},
   "outputs": [
    {
     "data": {
      "text/plain": [
       "['AKGmito',\n",
       " 'ATP',\n",
       " 'ATPmito',\n",
       " 'AcCoAmito',\n",
       " 'BPG13',\n",
       " 'CITmito',\n",
       " 'CoAmito',\n",
       " 'CytCredmito',\n",
       " 'DHAP',\n",
       " 'E4P',\n",
       " 'F6P',\n",
       " 'FBP',\n",
       " 'FUMmito',\n",
       " 'G6P',\n",
       " 'GAP',\n",
       " 'GSH',\n",
       " 'Glc',\n",
       " 'ISOCITmito',\n",
       " 'Lac',\n",
       " 'MALmito',\n",
       " 'Mg',\n",
       " 'NADH',\n",
       " 'NADHmito',\n",
       " 'NADPH',\n",
       " 'OXAmito',\n",
       " 'PEP',\n",
       " 'PG2',\n",
       " 'PG3',\n",
       " 'PYRmito',\n",
       " 'Pyr',\n",
       " 'QH2mito',\n",
       " 'R5P',\n",
       " 'SUCCOAmito',\n",
       " 'SUCmito']"
      ]
     },
     "execution_count": 39,
     "metadata": {},
     "output_type": "execute_result"
    }
   ],
   "source": [
    "sorted(met_na)"
   ]
  },
  {
   "cell_type": "code",
   "execution_count": 40,
   "id": "adf12191-5ebf-4563-a47a-992c926a4b4d",
   "metadata": {},
   "outputs": [],
   "source": [
    "input_df_mp_cvAmpl_l_sel = input_df_mp_cvAmpl_l.loc[input_df_mp_cvAmpl_l['variable_id'].isin(met_na),:].copy()"
   ]
  },
  {
   "cell_type": "code",
   "execution_count": 41,
   "id": "216fbfe9-765d-4497-af10-a6db1e551be2",
   "metadata": {},
   "outputs": [
    {
     "data": {
      "text/plain": [
       "(20960, 8)"
      ]
     },
     "execution_count": 41,
     "metadata": {},
     "output_type": "execute_result"
    }
   ],
   "source": [
    "input_df_mp_cvAmpl_l_sel.shape"
   ]
  },
  {
   "cell_type": "code",
   "execution_count": 42,
   "id": "285a8301-c11c-4ed1-9e92-79fc919554a3",
   "metadata": {},
   "outputs": [
    {
     "data": {
      "text/html": [
       "<div>\n",
       "<style scoped>\n",
       "    .dataframe tbody tr th:only-of-type {\n",
       "        vertical-align: middle;\n",
       "    }\n",
       "\n",
       "    .dataframe tbody tr th {\n",
       "        vertical-align: top;\n",
       "    }\n",
       "\n",
       "    .dataframe thead th {\n",
       "        text-align: right;\n",
       "    }\n",
       "</style>\n",
       "<table border=\"1\" class=\"dataframe\">\n",
       "  <thead>\n",
       "    <tr style=\"text-align: right;\">\n",
       "      <th></th>\n",
       "      <th>time_s</th>\n",
       "      <th>condition_grp</th>\n",
       "      <th>variable</th>\n",
       "      <th>value</th>\n",
       "      <th>cmps</th>\n",
       "      <th>fns</th>\n",
       "      <th>variable_id</th>\n",
       "      <th>variable_cmp</th>\n",
       "    </tr>\n",
       "  </thead>\n",
       "  <tbody>\n",
       "    <tr>\n",
       "      <th>30130</th>\n",
       "      <td>180.0</td>\n",
       "      <td>group1_control</td>\n",
       "      <td>Glc_t_t</td>\n",
       "      <td>0.077604</td>\n",
       "      <td>t</td>\n",
       "      <td>GLCLS</td>\n",
       "      <td>Glc</td>\n",
       "      <td>t_t</td>\n",
       "    </tr>\n",
       "    <tr>\n",
       "      <th>30131</th>\n",
       "      <td>181.0</td>\n",
       "      <td>group1_control</td>\n",
       "      <td>Glc_t_t</td>\n",
       "      <td>0.077803</td>\n",
       "      <td>t</td>\n",
       "      <td>GLCLS</td>\n",
       "      <td>Glc</td>\n",
       "      <td>t_t</td>\n",
       "    </tr>\n",
       "    <tr>\n",
       "      <th>30132</th>\n",
       "      <td>182.0</td>\n",
       "      <td>group1_control</td>\n",
       "      <td>Glc_t_t</td>\n",
       "      <td>0.078001</td>\n",
       "      <td>t</td>\n",
       "      <td>GLCLS</td>\n",
       "      <td>Glc</td>\n",
       "      <td>t_t</td>\n",
       "    </tr>\n",
       "  </tbody>\n",
       "</table>\n",
       "</div>"
      ],
      "text/plain": [
       "       time_s   condition_grp variable     value cmps    fns variable_id  \\\n",
       "30130   180.0  group1_control  Glc_t_t  0.077604    t  GLCLS         Glc   \n",
       "30131   181.0  group1_control  Glc_t_t  0.077803    t  GLCLS         Glc   \n",
       "30132   182.0  group1_control  Glc_t_t  0.078001    t  GLCLS         Glc   \n",
       "\n",
       "      variable_cmp  \n",
       "30130          t_t  \n",
       "30131          t_t  \n",
       "30132          t_t  "
      ]
     },
     "execution_count": 42,
     "metadata": {},
     "output_type": "execute_result"
    }
   ],
   "source": [
    "input_df_mp_cvAmpl_l_sel.head(3)"
   ]
  },
  {
   "cell_type": "code",
   "execution_count": null,
   "id": "b0c42ff0-2de2-4430-ae16-0ec156b23648",
   "metadata": {},
   "outputs": [],
   "source": []
  },
  {
   "cell_type": "code",
   "execution_count": 46,
   "id": "0075f148-d3a4-4656-ad98-5e447f4cc153",
   "metadata": {
    "tags": []
   },
   "outputs": [
    {
     "data": {
      "image/png": "[encoded data removed]",
      "text/plain": [
       "<Figure size 288x144 with 1 Axes>"
      ]
     },
     "metadata": {
      "needs_background": "light"
     },
     "output_type": "display_data"
    }
   ],
   "source": [
    "fig = plt.figure(figsize=(4,2))\n",
    "ax = plt.subplot(111)\n",
    "\n",
    "\n",
    "sns.barplot(ax=ax,\n",
    "            data=input_df_mp_cvAmpl_l_sel.loc[input_df_mp_cvAmpl_l_sel['cmps'].isin(['n','a']),['value','cmps','condition_grp']], \n",
    "            x='value', y='condition_grp', \n",
    "            hue=\"cmps\",palette=lut_cmps,orient='h', ci=95)\n",
    "\n",
    "\n",
    "ax.spines.top.set_visible(False)\n",
    "ax.spines.right.set_visible(False)\n",
    "\n",
    "ax.set_ylabel(\"\")\n",
    "ax.set_xlabel(\"Coefficient of variation, a.u.\")\n",
    "\n",
    "\n",
    "ax.legend(bbox_to_anchor=(1.05, 0.6),frameon=False)\n",
    "\n",
    "plt.show()\n",
    "\n",
    "\n",
    "\n",
    "if savefigures == True:\n",
    "    fig.savefig(outpath + \"fig2b_combo_\" + timestr + \".pdf\",transparent=False)\n",
    "    fig.savefig(outpath + \"fig2b_combo_\" + timestr + \".png\",transparent=False, bbox_inches=\"tight\")\n",
    "\n"
   ]
  },
  {
   "cell_type": "code",
   "execution_count": null,
   "id": "9bee298e-32bb-4c2e-938a-056b07ce86b6",
   "metadata": {},
   "outputs": [],
   "source": [
    "pd.DataFrame(input_df_mp_cvAmpl_l_sel.loc[input_df_mp_cvAmpl_l_sel['cmps'].isin(['n','a']),['value','cmps','condition_grp']].groupby(['condition_grp','cmps'])['value'].mean())\n"
   ]
  },
  {
   "cell_type": "code",
   "execution_count": null,
   "id": "e252fb75-9f3f-48bc-857a-bc221d2a76ac",
   "metadata": {},
   "outputs": [],
   "source": [
    "pd.DataFrame(input_df_mp_cvAmpl_l_sel.loc[input_df_mp_cvAmpl_l_sel['cmps'].isin(['n','a']),['value','cmps','condition_grp']].groupby(['condition_grp','cmps'])['value'].std())"
   ]
  },
  {
   "cell_type": "code",
   "execution_count": null,
   "id": "e497aaf6-6ddd-45eb-926e-315ec7c8fc56",
   "metadata": {},
   "outputs": [],
   "source": []
  }
 ],
 "metadata": {
  "kernelspec": {
   "display_name": "Python 3 (ipykernel)",
   "language": "python",
   "name": "python3"
  },
  "language_info": {
   "codemirror_mode": {
    "name": "ipython",
    "version": 3
   },
   "file_extension": ".py",
   "mimetype": "text/x-python",
   "name": "python",
   "nbconvert_exporter": "python",
   "pygments_lexer": "ipython3",
   "version": "3.9.4"
  }
 },
 "nbformat": 4,
 "nbformat_minor": 5
}
