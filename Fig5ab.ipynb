{
 "cells": [
  {
   "cell_type": "code",
   "execution_count": 1,
   "id": "21b64206-65c6-4bd4-a7c8-28a55ab1d318",
   "metadata": {
    "tags": []
   },
   "outputs": [],
   "source": [
    "import pandas as pd\n",
    "import numpy as np\n",
    "import json\n",
    "from itertools import chain\n",
    "\n",
    "import matplotlib.pyplot as plt\n",
    "import matplotlib as mpl\n",
    "\n",
    "import seaborn as sns\n",
    "\n",
    "import time\n",
    "\n",
    "import glob\n",
    "\n",
    "params = {\n",
    "   'axes.labelsize': 14,\n",
    "   'font.size': 14,\n",
    "   'legend.fontsize': 14,\n",
    "   'xtick.labelsize': 14,\n",
    "   'ytick.labelsize': 14,\n",
    "   'text.usetex': False,\n",
    "   'figure.figsize': [4.5, 4.5],\n",
    "    'savefig.facecolor':'white'\n",
    "   }\n",
    "\n",
    "mpl.rcParams.update(params)\n",
    "\n",
    "\n",
    "timestr = time.strftime(\"%Y%m%d%H%M\")\n",
    "\n",
    "import random \n",
    "random.seed(12357)\n",
    "np.random.seed(12357)"
   ]
  },
  {
   "cell_type": "code",
   "execution_count": null,
   "id": "e9a83627-f7b8-4c72-9898-fb2e90acb4c3",
   "metadata": {},
   "outputs": [],
   "source": []
  },
  {
   "cell_type": "code",
   "execution_count": 2,
   "id": "65c2b254-3dd1-45c6-86cb-393414bafcd4",
   "metadata": {},
   "outputs": [
    {
     "name": "stdout",
     "output_type": "stream",
     "text": [
      "0.0001\n"
     ]
    }
   ],
   "source": [
    "sol_saveat_dt = [1,1e-4][1]\n",
    "\n",
    "print(sol_saveat_dt)\n",
    "\n",
    "inpath = \"output_1e4/\"\n",
    "\n",
    "outpath = \"figures/fig5/\" "
   ]
  },
  {
   "cell_type": "code",
   "execution_count": 3,
   "id": "68a20e24-5052-4f7f-ad00-82a4ac0f8869",
   "metadata": {},
   "outputs": [],
   "source": [
    "##############################################\n",
    "# set to True to save fig\n",
    "\n",
    "savefigures = True #False #True \n",
    "\n",
    "##############################################"
   ]
  },
  {
   "cell_type": "code",
   "execution_count": 4,
   "id": "2c78cb7f-93d2-4b79-969a-48a4b6123a8c",
   "metadata": {},
   "outputs": [
    {
     "name": "stdout",
     "output_type": "stream",
     "text": [
      "15\n"
     ]
    }
   ],
   "source": [
    "print(len(glob.glob(inpath+\"*_u.csv\"))) "
   ]
  },
  {
   "cell_type": "code",
   "execution_count": 5,
   "id": "cc2b3428-f0ea-4a32-bb73-69a0f5cb62dd",
   "metadata": {},
   "outputs": [],
   "source": [
    "input_file_ids = [i.rstrip(\"_u.csv\") for i in glob.glob(inpath+\"*_u.csv\")]\n"
   ]
  },
  {
   "cell_type": "code",
   "execution_count": 6,
   "id": "0b2d26c1-7d5b-4e4c-a629-5834725f1259",
   "metadata": {},
   "outputs": [
    {
     "name": "stdout",
     "output_type": "stream",
     "text": [
      "105\n"
     ]
    }
   ],
   "source": [
    "mets2plot2_sel3 = [i[0:-1] for i in [\"Mg_x_n0\",\"NADHmito_n0\", \"QH2mito_n0\", \"CytCredmito_n0\",  \n",
    "            \"ATPmito_n0\", \"ATP_mx_n0\", \"ATP_i_n0\", \"ATP_mi_n0\", \n",
    "            \"MitoMembrPotent_n0\", \"ATP_n0\", \"FUMmito_n0\", \"MALmito_n0\", \"OXAmito_n0\", \"SUCmito_n0\", \"SUCCOAmito_n0\", \"CoAmito_n0\", \n",
    "            \"AKGmito_n0\",  \"ISOCITmito_n0\", \"CITmito_n0\", \"AcCoAmito_n0\", \"AcAc_n0\", \"AcAcCoA_n0\", \"PYRmito_n0\", \"bHB_n0\", \"bHB_ecs0\", \"bHB_b0\",  \"GLU_n0\", \n",
    "            \"NADH_n0\", \"Mg_x_a0\",   \"NADHmito_a0\", \"QH2mito_a0\", \"CytCredmito_a0\",  \n",
    "            \"ATPmito_a0\",   \"ATP_mx_a0\",  \"ATP_i_a0\",   \"ATP_mi_a0\",  \n",
    "            \"MitoMembrPotent_a0\", \"ATP_a0\",  \"FUMmito_a0\", \"MALmito_a0\", \"OXAmito_a0\", \"SUCmito_a0\", \"SUCCOAmito_a0\", \"CoAmito_a0\", \n",
    "            \"AKGmito_a0\", \"ISOCITmito_a0\", \"CITmito_a0\", \"AcCoAmito_a0\", \"PYRmito_a0\", \"GLN_a0\", \"GLUT_a0\", \"Va0\", \"Na_a0\", \"K_a0\", \"K_out0\", \n",
    "              \"VNeu0\", \"Na_n0\",  \"Ca_n0\",   \"Ca_a0\", \"EET_a0\", \"ddHb0\", \"O2cap0\", \n",
    "              \"Glc_b0\", \"Glc_t_t0\", \"Glc_ecsBA0\", \"Glc_a0\", \"Glc_ecsAN0\", \"Glc_n0\", \"G6P_n0\", \"G6P_a0\", \"F6P_n0\", \"F6P_a0\", \"FBP_n0\", \"FBP_a0\", \"f26bp_a0\", \"GLY_a0\", \"G1P_a0\", \"GAP_n0\", \"GAP_a0\", \n",
    "              \"DHAP_n0\", \"DHAP_a0\", \"BPG13_n0\", \"BPG13_a0\", \"NADH_a0\", \"PG3_n0\", \"PG3_a0\", \"PG2_n0\", \"PG2_a0\", \"PEP_n0\", \"PEP_a0\", \"Pyr_n0\", \"Pyr_a0\", \"Lac_b0\", \"Lac_ecs0\", \"Lac_a0\", \"Lac_n0\", \n",
    "              \"NADPH_n0\", \"NADPH_a0\", \"R5P_n0\", \"R5P_a0\",  \"E4P_n0\", \"E4P_a0\", \n",
    "              \"GSH_n0\", \"GSH_a0\", \"cAMP_a0\"\n",
    "]]\n",
    "\n",
    "print(len(mets2plot2_sel3))"
   ]
  },
  {
   "cell_type": "code",
   "execution_count": 7,
   "id": "d3b2d5d0-9751-463b-a41d-21db2642253d",
   "metadata": {},
   "outputs": [],
   "source": [
    "input_file_ids = sorted(input_file_ids)"
   ]
  },
  {
   "cell_type": "code",
   "execution_count": 8,
   "id": "583e48ed-7944-440d-a1c6-271a2099de75",
   "metadata": {},
   "outputs": [],
   "source": [
    "input_file_ids_def_glut1_th = [i for i in input_file_ids if ('121_default' in i) or  ('g1_61_def' in i) or ('g1_40' in i) or ('g1_93_blood_glc_ini_dose2' in i)  or ('g1_120_keto_lac_nad_Qtot_na' in i)]\n"
   ]
  },
  {
   "cell_type": "code",
   "execution_count": 9,
   "id": "6737dda9-72b4-4fca-9dd7-5145fea7eaeb",
   "metadata": {},
   "outputs": [
    {
     "data": {
      "text/plain": [
       "['output_1e4/sim_121_default_extraTag_default__0929_1631',\n",
       " 'output_1e4/sim_g1_120_keto_lac_nad_Qtot_na_extraTag_g1_120_keto_lac_nad_Qtot_na_1.7459_3.2_6.32_0.00512_1010_1304',\n",
       " 'output_1e4/sim_g1_40_glclacbhb_ini_extraTag_g1_40_glclacbhb_ini_1.7459_3.2_6.32_0.00512_1005_1534',\n",
       " 'output_1e4/sim_g1_61_def_extraTag_g1_61_def_1.7459_3.2_6.32_0.00512_0929_1626',\n",
       " 'output_1e4/sim_g1_93_blood_glc_ini_dose2_extraTag_g1_93_blood_glc_ini_dose2_1.7459_3.2_6.32_0.00512_1006_1551']"
      ]
     },
     "execution_count": 9,
     "metadata": {},
     "output_type": "execute_result"
    }
   ],
   "source": [
    "input_file_ids_def_glut1_th"
   ]
  },
  {
   "cell_type": "code",
   "execution_count": null,
   "id": "a2339ae5-a75c-4ff6-a8f3-d8994baf90c6",
   "metadata": {},
   "outputs": [],
   "source": []
  },
  {
   "cell_type": "code",
   "execution_count": 11,
   "id": "8cdce6e1-52ed-42c5-9d70-a7d9ad719931",
   "metadata": {
    "tags": []
   },
   "outputs": [
    {
     "name": "stdout",
     "output_type": "stream",
     "text": [
      "output_1e4/sim_121_default_extraTag_default__0929_1631\n",
      "output_1e4/sim_g1_120_keto_lac_nad_Qtot_na_extraTag_g1_120_keto_lac_nad_Qtot_na_1.7459_3.2_6.32_0.00512_1010_1304\n",
      "output_1e4/sim_g1_40_glclacbhb_ini_extraTag_g1_40_glclacbhb_ini_1.7459_3.2_6.32_0.00512_1005_1534\n",
      "output_1e4/sim_g1_61_def_extraTag_g1_61_def_1.7459_3.2_6.32_0.00512_0929_1626\n",
      "output_1e4/sim_g1_93_blood_glc_ini_dose2_extraTag_g1_93_blood_glc_ini_dose2_1.7459_3.2_6.32_0.00512_1006_1551\n"
     ]
    }
   ],
   "source": [
    "input_dfs = []\n",
    "\n",
    "for fid in input_file_ids_def_glut1_th:\n",
    "\n",
    "    \n",
    "    print(fid)\n",
    "    \n",
    "    dfn = fid + \"_u.csv\"\n",
    "    tfn = fid + \"_t.csv\"\n",
    "    nfn = fid + \"_unames.csv\"\n",
    "    \n",
    "    df = pd.read_csv(dfn,header=None)\n",
    "    tf = pd.read_csv(tfn,header=None)\n",
    "    nf = pd.read_csv(nfn,header=None)\n",
    "    \n",
    "    df.columns = [i[:-1] for i in nf[0].values.tolist() ]\n",
    "    \n",
    "    df['time_s'] = tf[0].copy()\n",
    "    df['condition'] = fid.replace(\"output_1e4/sim_\",\"\").split(\"_extraTag\",1)[0]\n",
    "    \n",
    "    input_dfs.append(df)\n",
    "    \n",
    "input_df = pd.concat(input_dfs, axis=0, ignore_index=True)"
   ]
  },
  {
   "cell_type": "code",
   "execution_count": 12,
   "id": "75503e83-7165-4793-95c2-baef13b17364",
   "metadata": {},
   "outputs": [
    {
     "name": "stdout",
     "output_type": "stream",
     "text": [
      "(15450005, 185)\n"
     ]
    }
   ],
   "source": [
    "print(input_df.shape)"
   ]
  },
  {
   "cell_type": "code",
   "execution_count": 13,
   "id": "11a86fb8-c6f5-4371-8478-b7ab38760d4d",
   "metadata": {},
   "outputs": [],
   "source": [
    "input_df = input_df.reindex(sorted(input_df.columns), axis=1)"
   ]
  },
  {
   "cell_type": "code",
   "execution_count": 14,
   "id": "9956808f-9104-4a52-8fd1-a32795f71083",
   "metadata": {},
   "outputs": [
    {
     "data": {
      "text/html": [
       "<div>\n",
       "<style scoped>\n",
       "    .dataframe tbody tr th:only-of-type {\n",
       "        vertical-align: middle;\n",
       "    }\n",
       "\n",
       "    .dataframe tbody tr th {\n",
       "        vertical-align: top;\n",
       "    }\n",
       "\n",
       "    .dataframe thead th {\n",
       "        text-align: right;\n",
       "    }\n",
       "</style>\n",
       "<table border=\"1\" class=\"dataframe\">\n",
       "  <thead>\n",
       "    <tr style=\"text-align: right;\">\n",
       "      <th></th>\n",
       "      <th>ADP_a</th>\n",
       "      <th>ADP_i_a</th>\n",
       "      <th>ADP_i_n</th>\n",
       "      <th>ADP_mi_a</th>\n",
       "      <th>ADP_mi_n</th>\n",
       "      <th>ADP_mx_a</th>\n",
       "      <th>ADP_mx_n</th>\n",
       "      <th>ADP_n</th>\n",
       "      <th>ADPmito_a</th>\n",
       "      <th>ADPmito_n</th>\n",
       "      <th>...</th>\n",
       "      <th>f26bp_a</th>\n",
       "      <th>h</th>\n",
       "      <th>hIP3Ca_a</th>\n",
       "      <th>mGluRboundRatio_a</th>\n",
       "      <th>n</th>\n",
       "      <th>nBK_a</th>\n",
       "      <th>pgate</th>\n",
       "      <th>sTRP_a</th>\n",
       "      <th>time_s</th>\n",
       "      <th>vV</th>\n",
       "    </tr>\n",
       "  </thead>\n",
       "  <tbody>\n",
       "    <tr>\n",
       "      <th>0</th>\n",
       "      <td>0.045</td>\n",
       "      <td>0.044347</td>\n",
       "      <td>0.057207</td>\n",
       "      <td>0.043629</td>\n",
       "      <td>0.056055</td>\n",
       "      <td>1.144319</td>\n",
       "      <td>1.129008</td>\n",
       "      <td>0.047784</td>\n",
       "      <td>1.74456</td>\n",
       "      <td>1.851257</td>\n",
       "      <td>...</td>\n",
       "      <td>0.01217</td>\n",
       "      <td>0.981124</td>\n",
       "      <td>0.653157</td>\n",
       "      <td>0.0</td>\n",
       "      <td>0.034674</td>\n",
       "      <td>0.000007</td>\n",
       "      <td>0.035539</td>\n",
       "      <td>0.001247</td>\n",
       "      <td>1.0000</td>\n",
       "      <td>0.0237</td>\n",
       "    </tr>\n",
       "    <tr>\n",
       "      <th>1</th>\n",
       "      <td>0.045</td>\n",
       "      <td>0.044347</td>\n",
       "      <td>0.057207</td>\n",
       "      <td>0.043629</td>\n",
       "      <td>0.056055</td>\n",
       "      <td>1.144319</td>\n",
       "      <td>1.129008</td>\n",
       "      <td>0.047784</td>\n",
       "      <td>1.74456</td>\n",
       "      <td>1.851257</td>\n",
       "      <td>...</td>\n",
       "      <td>0.01217</td>\n",
       "      <td>0.981127</td>\n",
       "      <td>0.653157</td>\n",
       "      <td>0.0</td>\n",
       "      <td>0.034671</td>\n",
       "      <td>0.000007</td>\n",
       "      <td>0.035539</td>\n",
       "      <td>0.001247</td>\n",
       "      <td>1.0001</td>\n",
       "      <td>0.0237</td>\n",
       "    </tr>\n",
       "    <tr>\n",
       "      <th>2</th>\n",
       "      <td>0.045</td>\n",
       "      <td>0.044347</td>\n",
       "      <td>0.057207</td>\n",
       "      <td>0.043629</td>\n",
       "      <td>0.056055</td>\n",
       "      <td>1.144319</td>\n",
       "      <td>1.129008</td>\n",
       "      <td>0.047784</td>\n",
       "      <td>1.74456</td>\n",
       "      <td>1.851257</td>\n",
       "      <td>...</td>\n",
       "      <td>0.01217</td>\n",
       "      <td>0.981137</td>\n",
       "      <td>0.653157</td>\n",
       "      <td>0.0</td>\n",
       "      <td>0.034662</td>\n",
       "      <td>0.000007</td>\n",
       "      <td>0.035539</td>\n",
       "      <td>0.001247</td>\n",
       "      <td>1.0002</td>\n",
       "      <td>0.0237</td>\n",
       "    </tr>\n",
       "  </tbody>\n",
       "</table>\n",
       "<p>3 rows × 185 columns</p>\n",
       "</div>"
      ],
      "text/plain": [
       "   ADP_a   ADP_i_a   ADP_i_n  ADP_mi_a  ADP_mi_n  ADP_mx_a  ADP_mx_n  \\\n",
       "0  0.045  0.044347  0.057207  0.043629  0.056055  1.144319  1.129008   \n",
       "1  0.045  0.044347  0.057207  0.043629  0.056055  1.144319  1.129008   \n",
       "2  0.045  0.044347  0.057207  0.043629  0.056055  1.144319  1.129008   \n",
       "\n",
       "      ADP_n  ADPmito_a  ADPmito_n  ...  f26bp_a         h  hIP3Ca_a  \\\n",
       "0  0.047784    1.74456   1.851257  ...  0.01217  0.981124  0.653157   \n",
       "1  0.047784    1.74456   1.851257  ...  0.01217  0.981127  0.653157   \n",
       "2  0.047784    1.74456   1.851257  ...  0.01217  0.981137  0.653157   \n",
       "\n",
       "   mGluRboundRatio_a         n     nBK_a     pgate    sTRP_a  time_s      vV  \n",
       "0                0.0  0.034674  0.000007  0.035539  0.001247  1.0000  0.0237  \n",
       "1                0.0  0.034671  0.000007  0.035539  0.001247  1.0001  0.0237  \n",
       "2                0.0  0.034662  0.000007  0.035539  0.001247  1.0002  0.0237  \n",
       "\n",
       "[3 rows x 185 columns]"
      ]
     },
     "execution_count": 14,
     "metadata": {},
     "output_type": "execute_result"
    }
   ],
   "source": [
    "input_df.head(3)"
   ]
  },
  {
   "cell_type": "code",
   "execution_count": 15,
   "id": "9b3509cb-c4ec-4b2a-a1ba-45799c0bfde6",
   "metadata": {},
   "outputs": [],
   "source": [
    "all_cnds_l = sorted(input_df['condition'].unique())"
   ]
  },
  {
   "cell_type": "code",
   "execution_count": 16,
   "id": "eaea7fad-61fb-4267-b21b-595dc54e98f3",
   "metadata": {},
   "outputs": [
    {
     "data": {
      "text/plain": [
       "['121_default',\n",
       " 'g1_120_keto_lac_nad_Qtot_na',\n",
       " 'g1_40_glclacbhb_ini',\n",
       " 'g1_61_def',\n",
       " 'g1_93_blood_glc_ini_dose2']"
      ]
     },
     "execution_count": 16,
     "metadata": {},
     "output_type": "execute_result"
    }
   ],
   "source": [
    "all_cnds_l"
   ]
  },
  {
   "cell_type": "code",
   "execution_count": null,
   "id": "2905902a-d7a3-407a-9f6b-4725f9e1a765",
   "metadata": {},
   "outputs": [],
   "source": []
  },
  {
   "cell_type": "code",
   "execution_count": 17,
   "id": "4a6172d7-9298-41ee-800e-c83cedb2b786",
   "metadata": {},
   "outputs": [
    {
     "data": {
      "image/png": "[encoded data removed]",
      "text/plain": [
       "<Figure size 432x216 with 1 Axes>"
      ]
     },
     "metadata": {
      "needs_background": "light"
     },
     "output_type": "display_data"
    }
   ],
   "source": [
    "fig, ax = plt.subplots(figsize=(6,3))\n",
    "\n",
    "ax.axvspan(200, 230, color='lightgrey', alpha=0.5)\n",
    "\n",
    "ax.plot(input_df.loc[(input_df['time_s']>=180)&(input_df['condition']=='121_default'),'time_s'],input_df.loc[(input_df['time_s']>=180)&(input_df['condition']=='121_default'),'VNeu'],\n",
    "        color='#069e1d',alpha=0.5, label='control')\n",
    "\n",
    "ax.plot(input_df.loc[(input_df['time_s']>=180)&(input_df['condition']=='g1_61_def'),'time_s'],input_df.loc[(input_df['time_s']>=180)&(input_df['condition']=='g1_61_def'),'VNeu'],\n",
    "        color='#fa6f0c',alpha=0.5, label='GLUT1-def.')\n",
    "\n",
    "ax.plot(input_df.loc[(input_df['time_s']>=180)&(input_df['condition']=='g1_93_blood_glc_ini_dose2'),'time_s'],input_df.loc[(input_df['time_s']>=180)&(input_df['condition']=='g1_93_blood_glc_ini_dose2'),'VNeu'],\n",
    "         color='#8a0fd1',alpha=0.8,label='glc')\n",
    "\n",
    "ax.plot(input_df.loc[(input_df['time_s']>=180)&(input_df['condition']=='g1_40_glclacbhb_ini'),'time_s'],input_df.loc[(input_df['time_s']>=180)&(input_df['condition']=='g1_40_glclacbhb_ini'),'VNeu'],\n",
    "        color='#0390fc',alpha=0.8,label='glc-lac-bHB')\n",
    "\n",
    "ax.plot(input_df.loc[(input_df['time_s']>=180)&(input_df['condition']=='g1_120_keto_lac_nad_Qtot_na'),'time_s'],input_df.loc[(input_df['time_s']>=180)&(input_df['condition']=='g1_120_keto_lac_nad_Qtot_na'),'VNeu'],\n",
    "         color='#f70ff7',alpha=0.8,label='lac-bHB-NADH-Q')\n",
    "\n",
    "ax.set_xlabel(\"t, s\")\n",
    "ax.set_ylabel(\"Vm, mV\")\n",
    "\n",
    "#add a legend\n",
    "ax.legend(bbox_to_anchor=(1.05, 1), loc='upper left',frameon=False)\n",
    "\n",
    "ax.spines.top.set_visible(False)\n",
    "ax.spines.right.set_visible(False)\n",
    "\n",
    "plt.show()\n",
    "\n",
    "if savefigures == True:\n",
    "    fig.savefig(outpath + \"Vm_withGlcPrevBest_\" + timestr + \".pdf\",transparent=False)\n",
    "    fig.savefig(outpath + \"Vm_withGlcPrevBest_\" + timestr + \".png\",dpi=300,transparent=False, bbox_inches=\"tight\")\n"
   ]
  },
  {
   "cell_type": "code",
   "execution_count": null,
   "id": "55e9b244-31f4-4824-a701-4ede190a49fc",
   "metadata": {},
   "outputs": [],
   "source": []
  },
  {
   "cell_type": "code",
   "execution_count": 18,
   "id": "f33c5625-f4e9-49b6-b0c2-c85bc77014eb",
   "metadata": {},
   "outputs": [
    {
     "data": {
      "image/png": "[encoded data removed]",
      "text/plain": [
       "<Figure size 180x180 with 1 Axes>"
      ]
     },
     "metadata": {
      "needs_background": "light"
     },
     "output_type": "display_data"
    }
   ],
   "source": [
    "fig, ax = plt.subplots(figsize=(2.5,2.5))\n",
    "\n",
    "ax.axvspan(200, 230, color='lightgrey', alpha=0.5)\n",
    "\n",
    "ax.plot(input_df.loc[(input_df['time_s']>=180)&(input_df['condition']=='121_default'),'time_s'],input_df.loc[(input_df['time_s']>=180)&(input_df['condition']=='121_default'),'VNeu'],\n",
    "        color='#069e1d',alpha=1, label='control')\n",
    "\n",
    "ax.set_xlabel(\"t, s\")\n",
    "ax.set_ylabel(\"Vm, mV\")\n",
    "\n",
    "#add a legend\n",
    "ax.legend(bbox_to_anchor=(1.05, 1), loc='upper left',frameon=False)\n",
    "\n",
    "ax.spines.top.set_visible(False)\n",
    "ax.spines.right.set_visible(False)\n",
    "\n",
    "plt.show()\n",
    "\n",
    "if savefigures == True:\n",
    "    fig.savefig(outpath + \"Vm_fig5b_1_\" + timestr + \".pdf\",transparent=False)\n",
    "    fig.savefig(outpath + \"Vm_fig5b_1_\" + timestr + \".png\",dpi=300,transparent=False, bbox_inches=\"tight\")\n"
   ]
  },
  {
   "cell_type": "code",
   "execution_count": 19,
   "id": "5b266012-faa9-431f-974b-2325ee163c8a",
   "metadata": {},
   "outputs": [
    {
     "data": {
      "image/png": "[encoded data removed]",
      "text/plain": [
       "<Figure size 180x180 with 1 Axes>"
      ]
     },
     "metadata": {
      "needs_background": "light"
     },
     "output_type": "display_data"
    }
   ],
   "source": [
    "fig, ax = plt.subplots(figsize=(2.5,2.5))\n",
    "\n",
    "ax.axvspan(200, 230, color='lightgrey', alpha=0.5)\n",
    "\n",
    "ax.plot(input_df.loc[(input_df['time_s']>=180)&(input_df['condition']=='g1_61_def'),'time_s'],input_df.loc[(input_df['time_s']>=180)&(input_df['condition']=='g1_61_def'),'VNeu'],\n",
    "        color='#fa6f0c',alpha=1, label='GLUT1-def.')\n",
    "\n",
    "ax.set_xlabel(\"t, s\")\n",
    "ax.set_ylabel(\"Vm, mV\")\n",
    "\n",
    "#add a legend\n",
    "ax.legend(bbox_to_anchor=(1.05, 1), loc='upper left',frameon=False)\n",
    "\n",
    "ax.spines.top.set_visible(False)\n",
    "ax.spines.right.set_visible(False)\n",
    "\n",
    "plt.show()\n",
    "\n",
    "if savefigures == True:\n",
    "    fig.savefig(outpath + \"Vm_fig5b_2_\" + timestr + \".pdf\",transparent=False)\n",
    "    fig.savefig(outpath + \"Vm_fig5b_2_\" + timestr + \".png\",dpi=300,transparent=False, bbox_inches=\"tight\")\n"
   ]
  },
  {
   "cell_type": "code",
   "execution_count": 20,
   "id": "dad2ea70-2260-4193-bcb2-3ffe7ef9d37c",
   "metadata": {},
   "outputs": [
    {
     "data": {
      "image/png": "[encoded data removed]",
      "text/plain": [
       "<Figure size 180x180 with 1 Axes>"
      ]
     },
     "metadata": {
      "needs_background": "light"
     },
     "output_type": "display_data"
    }
   ],
   "source": [
    "fig, ax = plt.subplots(figsize=(2.5,2.5))\n",
    "\n",
    "ax.axvspan(200, 230, color='lightgrey', alpha=0.5)\n",
    "\n",
    "ax.plot(input_df.loc[(input_df['time_s']>=180)&(input_df['condition']=='g1_93_blood_glc_ini_dose2'),'time_s'],input_df.loc[(input_df['time_s']>=180)&(input_df['condition']=='g1_93_blood_glc_ini_dose2'),'VNeu'],\n",
    "         color='#8a0fd1',alpha=1,label='glc')\n",
    "\n",
    "ax.set_xlabel(\"t, s\")\n",
    "ax.set_ylabel(\"Vm, mV\")\n",
    "\n",
    "#add a legend\n",
    "ax.legend(bbox_to_anchor=(1.05, 1), loc='upper left',frameon=False)\n",
    "\n",
    "ax.spines.top.set_visible(False)\n",
    "ax.spines.right.set_visible(False)\n",
    "\n",
    "plt.show()\n",
    "\n",
    "if savefigures == True:\n",
    "    fig.savefig(outpath + \"Vm_fig5b_3_\" + timestr + \".pdf\",transparent=False)\n",
    "    fig.savefig(outpath + \"Vm_fig5b_3_\" + timestr + \".png\",dpi=300,transparent=False, bbox_inches=\"tight\")\n"
   ]
  },
  {
   "cell_type": "code",
   "execution_count": 21,
   "id": "c9a0eae6-ad2d-4382-9649-5ac29dbd58ee",
   "metadata": {},
   "outputs": [
    {
     "data": {
      "image/png": "[encoded data removed]",
      "text/plain": [
       "<Figure size 180x180 with 1 Axes>"
      ]
     },
     "metadata": {
      "needs_background": "light"
     },
     "output_type": "display_data"
    }
   ],
   "source": [
    "fig, ax = plt.subplots(figsize=(2.5,2.5))\n",
    "\n",
    "ax.axvspan(200, 230, color='lightgrey', alpha=0.5)\n",
    "\n",
    "ax.plot(input_df.loc[(input_df['time_s']>=180)&(input_df['condition']=='g1_40_glclacbhb_ini'),'time_s'],input_df.loc[(input_df['time_s']>=180)&(input_df['condition']=='g1_40_glclacbhb_ini'),'VNeu'],\n",
    "        color='#0390fc',alpha=1,label='glc-lac-bHB')\n",
    "\n",
    "ax.set_xlabel(\"t, s\")\n",
    "ax.set_ylabel(\"Vm, mV\")\n",
    "\n",
    "#add a legend\n",
    "ax.legend(bbox_to_anchor=(1.05, 1), loc='upper left',frameon=False)\n",
    "\n",
    "ax.spines.top.set_visible(False)\n",
    "ax.spines.right.set_visible(False)\n",
    "\n",
    "plt.show()\n",
    "\n",
    "if savefigures == True:\n",
    "    fig.savefig(outpath + \"Vm_fig5b_4_\" + timestr + \".pdf\",transparent=False)\n",
    "    fig.savefig(outpath + \"Vm_fig5b_4_\" + timestr + \".png\",dpi=300,transparent=False, bbox_inches=\"tight\")\n"
   ]
  },
  {
   "cell_type": "code",
   "execution_count": 22,
   "id": "1ede8bf5-d049-49e5-92e5-aadd3ee26a2b",
   "metadata": {},
   "outputs": [
    {
     "data": {
      "image/png": "[encoded data removed]",
      "text/plain": [
       "<Figure size 180x180 with 1 Axes>"
      ]
     },
     "metadata": {
      "needs_background": "light"
     },
     "output_type": "display_data"
    }
   ],
   "source": [
    "fig, ax = plt.subplots(figsize=(2.5,2.5))\n",
    "\n",
    "ax.axvspan(200, 230, color='lightgrey', alpha=0.5)\n",
    "\n",
    "ax.plot(input_df.loc[(input_df['time_s']>=180)&(input_df['condition']=='g1_120_keto_lac_nad_Qtot_na'),'time_s'],input_df.loc[(input_df['time_s']>=180)&(input_df['condition']=='g1_120_keto_lac_nad_Qtot_na'),'VNeu'],\n",
    "         color='#f70ff7',alpha=1,label='lac-bHB-NADH-Q')\n",
    "\n",
    "ax.set_xlabel(\"t, s\")\n",
    "ax.set_ylabel(\"Vm, mV\")\n",
    "\n",
    "#add a legend\n",
    "ax.legend(bbox_to_anchor=(1.05, 1), loc='upper left',frameon=False)\n",
    "\n",
    "ax.spines.top.set_visible(False)\n",
    "ax.spines.right.set_visible(False)\n",
    "\n",
    "plt.show()\n",
    "\n",
    "if savefigures == True:\n",
    "    fig.savefig(outpath + \"Vm_fig5b_5_\" + timestr + \".pdf\",transparent=False)\n",
    "    fig.savefig(outpath + \"Vm_fig5b_5_\" + timestr + \".png\",dpi=300,transparent=False, bbox_inches=\"tight\")\n"
   ]
  },
  {
   "cell_type": "code",
   "execution_count": null,
   "id": "a638ceff-e84f-4888-b343-3358d66586f2",
   "metadata": {},
   "outputs": [],
   "source": []
  },
  {
   "cell_type": "markdown",
   "id": "1218c685-aba4-49d7-b046-cf4b81a75a41",
   "metadata": {},
   "source": [
    "### ATP"
   ]
  },
  {
   "cell_type": "code",
   "execution_count": 23,
   "id": "4df6780d-f9e9-42e4-940f-411e684a2d55",
   "metadata": {},
   "outputs": [
    {
     "data": {
      "image/png": "[encoded data removed]",
      "text/plain": [
       "<Figure size 432x216 with 1 Axes>"
      ]
     },
     "metadata": {
      "needs_background": "light"
     },
     "output_type": "display_data"
    }
   ],
   "source": [
    "fig, ax = plt.subplots(figsize=(6,3))\n",
    "\n",
    "ax.axvspan(200, 230, color='lightgrey', alpha=0.5)\n",
    "\n",
    "ax.plot(input_df.loc[(input_df['time_s']>=180)&(input_df['condition']=='g1_61_def'),'time_s'],input_df.loc[(input_df['time_s']>=180)&(input_df['condition']=='g1_61_def'),'ATP_n'],color='#fa6f0c',alpha=0.8, label='GLUT1-def.')\n",
    "\n",
    "ax.plot(input_df.loc[(input_df['time_s']>=180)&(input_df['condition']=='121_default'),'time_s'],input_df.loc[(input_df['time_s']>=180)&(input_df['condition']=='121_default'),'ATP_n'],color='#069e1d',alpha=0.8, label='control')\n",
    "\n",
    "ax.plot(input_df.loc[(input_df['time_s']>=180)&(input_df['condition']=='g1_40_glclacbhb_ini'),'time_s'],input_df.loc[(input_df['time_s']>=180)&(input_df['condition']=='g1_40_glclacbhb_ini'),'ATP_n'],color='#0390fc',alpha=0.8,label='Glc-Lac-bHB therapy')\n",
    "\n",
    "ax.plot(input_df.loc[(input_df['time_s']>=180)&(input_df['condition']=='g1_93_blood_glc_ini_dose2'),'time_s'],input_df.loc[(input_df['time_s']>=180)&(input_df['condition']=='g1_93_blood_glc_ini_dose2'),'ATP_n'],\n",
    "         color='#8a0fd1',alpha=0.8,label='Glc therapy')\n",
    "\n",
    "ax.plot(input_df.loc[(input_df['time_s']>=180)&(input_df['condition']=='g1_120_keto_lac_nad_Qtot_na'),'time_s'],input_df.loc[(input_df['time_s']>=180)&(input_df['condition']=='g1_120_keto_lac_nad_Qtot_na'),'ATP_n'],\n",
    "         color='#f70ff7',alpha=0.8,label='Lac-bHB-NADH-Q therapy')\n",
    "\n",
    "\n",
    "ax.set_xlabel(\"t, s\")\n",
    "ax.set_ylabel(\"ATP n, mM\")\n",
    "\n",
    "#add a legend\n",
    "ax.legend(bbox_to_anchor=(1.05, 1), loc='upper left',frameon=False)\n",
    "\n",
    "ax.spines.top.set_visible(False)\n",
    "ax.spines.right.set_visible(False)\n",
    "\n",
    "plt.show()\n",
    "\n",
    "if savefigures == True:\n",
    "    fig.savefig(outpath + \"ATP_withGlcPrevBest_\" + timestr + \".pdf\",transparent=False)\n",
    "    fig.savefig(outpath + \"ATP_withGlcPrevBest_\" + timestr + \".png\",dpi=300,transparent=False, bbox_inches=\"tight\")\n"
   ]
  },
  {
   "cell_type": "code",
   "execution_count": null,
   "id": "e969abd7-e753-469f-b830-125bdcdfff16",
   "metadata": {},
   "outputs": [],
   "source": []
  },
  {
   "cell_type": "code",
   "execution_count": null,
   "id": "28f13a2b-a7c7-4942-bd75-9ac2a7c154a9",
   "metadata": {},
   "outputs": [],
   "source": []
  },
  {
   "cell_type": "code",
   "execution_count": null,
   "id": "0656028e-29a1-49a7-8a8f-e8d59950eb21",
   "metadata": {},
   "outputs": [],
   "source": []
  }
 ],
 "metadata": {
  "kernelspec": {
   "display_name": "Python 3 (ipykernel)",
   "language": "python",
   "name": "python3"
  },
  "language_info": {
   "codemirror_mode": {
    "name": "ipython",
    "version": 3
   },
   "file_extension": ".py",
   "mimetype": "text/x-python",
   "name": "python",
   "nbconvert_exporter": "python",
   "pygments_lexer": "ipython3",
   "version": "3.9.4"
  }
 },
 "nbformat": 4,
 "nbformat_minor": 5
}
