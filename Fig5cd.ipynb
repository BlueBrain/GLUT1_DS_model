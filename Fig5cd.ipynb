{
 "cells": [
  {
   "cell_type": "code",
   "execution_count": 1,
   "id": "21b64206-65c6-4bd4-a7c8-28a55ab1d318",
   "metadata": {
    "tags": []
   },
   "outputs": [],
   "source": [
    "import pandas as pd\n",
    "import numpy as np\n",
    "import json\n",
    "from itertools import chain\n",
    "\n",
    "import matplotlib.pyplot as plt\n",
    "import matplotlib as mpl\n",
    "\n",
    "import seaborn as sns\n",
    "\n",
    "import time\n",
    "\n",
    "import glob\n",
    "params = {\n",
    "   'axes.labelsize': 14,\n",
    "   'font.size': 14,\n",
    "   'legend.fontsize': 14,\n",
    "   'xtick.labelsize': 14,\n",
    "   'ytick.labelsize': 14,\n",
    "   'text.usetex': False,\n",
    "   'figure.figsize': [4.5, 4.5],\n",
    "    'savefig.facecolor':'white'\n",
    "   }\n",
    "\n",
    "mpl.rcParams.update(params)\n",
    "\n",
    "\n",
    "timestr = time.strftime(\"%Y%m%d%H%M\")\n",
    "\n",
    "import random \n",
    "random.seed(12357)\n",
    "np.random.seed(12357)"
   ]
  },
  {
   "cell_type": "code",
   "execution_count": 2,
   "id": "65c2b254-3dd1-45c6-86cb-393414bafcd4",
   "metadata": {},
   "outputs": [
    {
     "name": "stdout",
     "output_type": "stream",
     "text": [
      "0.0001\n"
     ]
    }
   ],
   "source": [
    "sol_saveat_dt = [1,1e-4][1]\n",
    "\n",
    "print(sol_saveat_dt)\n",
    "\n",
    "inpath = \"output_1e4/\"\n",
    "#outpath = \"figures/firing_ATP_doses/\" \n",
    "outpath = \"figures/fig5/\" "
   ]
  },
  {
   "cell_type": "code",
   "execution_count": 3,
   "id": "68a20e24-5052-4f7f-ad00-82a4ac0f8869",
   "metadata": {},
   "outputs": [],
   "source": [
    "##############################################\n",
    "# set to True to save fig\n",
    "\n",
    "savefigures = True #False #True \n",
    "\n",
    "##############################################"
   ]
  },
  {
   "cell_type": "code",
   "execution_count": 4,
   "id": "5d1f84ab-29c4-443e-9a47-c46ad1cfcd77",
   "metadata": {},
   "outputs": [
    {
     "name": "stdout",
     "output_type": "stream",
     "text": [
      "190\n"
     ]
    }
   ],
   "source": [
    "! ls -lh output | grep \"_u\\.\" | grep \"sim_\" | wc -l"
   ]
  },
  {
   "cell_type": "code",
   "execution_count": 5,
   "id": "2c78cb7f-93d2-4b79-969a-48a4b6123a8c",
   "metadata": {},
   "outputs": [
    {
     "name": "stdout",
     "output_type": "stream",
     "text": [
      "15\n"
     ]
    }
   ],
   "source": [
    "print(len(glob.glob(inpath+\"*_u.csv\"))) "
   ]
  },
  {
   "cell_type": "code",
   "execution_count": 6,
   "id": "cc2b3428-f0ea-4a32-bb73-69a0f5cb62dd",
   "metadata": {},
   "outputs": [],
   "source": [
    "input_file_ids = [i.rstrip(\"_u.csv\") for i in glob.glob(inpath+\"*_u.csv\")]\n"
   ]
  },
  {
   "cell_type": "code",
   "execution_count": 7,
   "id": "0b2d26c1-7d5b-4e4c-a629-5834725f1259",
   "metadata": {},
   "outputs": [
    {
     "name": "stdout",
     "output_type": "stream",
     "text": [
      "105\n"
     ]
    }
   ],
   "source": [
    "mets2plot2_sel3 = [i[0:-1] for i in [\"Mg_x_n0\",\"NADHmito_n0\", \"QH2mito_n0\", \"CytCredmito_n0\",  \n",
    "            \"ATPmito_n0\", \"ATP_mx_n0\", \"ATP_i_n0\", \"ATP_mi_n0\", \n",
    "            \"MitoMembrPotent_n0\", \"ATP_n0\", \"FUMmito_n0\", \"MALmito_n0\", \"OXAmito_n0\", \"SUCmito_n0\", \"SUCCOAmito_n0\", \"CoAmito_n0\", \n",
    "            \"AKGmito_n0\",  \"ISOCITmito_n0\", \"CITmito_n0\", \"AcCoAmito_n0\", \"AcAc_n0\", \"AcAcCoA_n0\", \"PYRmito_n0\", \"bHB_n0\", \"bHB_ecs0\", \"bHB_b0\",  \"GLU_n0\", \n",
    "            \"NADH_n0\", \"Mg_x_a0\",   \"NADHmito_a0\", \"QH2mito_a0\", \"CytCredmito_a0\",  \n",
    "            \"ATPmito_a0\",   \"ATP_mx_a0\",  \"ATP_i_a0\",   \"ATP_mi_a0\",  \n",
    "            \"MitoMembrPotent_a0\", \"ATP_a0\",  \"FUMmito_a0\", \"MALmito_a0\", \"OXAmito_a0\", \"SUCmito_a0\", \"SUCCOAmito_a0\", \"CoAmito_a0\", \n",
    "            \"AKGmito_a0\", \"ISOCITmito_a0\", \"CITmito_a0\", \"AcCoAmito_a0\", \"PYRmito_a0\", \"GLN_a0\", \"GLUT_a0\", \"Va0\", \"Na_a0\", \"K_a0\", \"K_out0\", \n",
    "              \"VNeu0\", \"Na_n0\",  \"Ca_n0\",   \"Ca_a0\", \"EET_a0\", \"ddHb0\", \"O2cap0\", \n",
    "              \"Glc_b0\", \"Glc_t_t0\", \"Glc_ecsBA0\", \"Glc_a0\", \"Glc_ecsAN0\", \"Glc_n0\", \"G6P_n0\", \"G6P_a0\", \"F6P_n0\", \"F6P_a0\", \"FBP_n0\", \"FBP_a0\", \"f26bp_a0\", \"GLY_a0\", \"G1P_a0\", \"GAP_n0\", \"GAP_a0\", \n",
    "              \"DHAP_n0\", \"DHAP_a0\", \"BPG13_n0\", \"BPG13_a0\", \"NADH_a0\", \"PG3_n0\", \"PG3_a0\", \"PG2_n0\", \"PG2_a0\", \"PEP_n0\", \"PEP_a0\", \"Pyr_n0\", \"Pyr_a0\", \"Lac_b0\", \"Lac_ecs0\", \"Lac_a0\", \"Lac_n0\", \n",
    "              \"NADPH_n0\", \"NADPH_a0\", \"R5P_n0\", \"R5P_a0\",  \"E4P_n0\", \"E4P_a0\", \n",
    "              \"GSH_n0\", \"GSH_a0\", \"cAMP_a0\"\n",
    "]]\n",
    "\n",
    "print(len(mets2plot2_sel3))"
   ]
  },
  {
   "cell_type": "code",
   "execution_count": 8,
   "id": "d3b2d5d0-9751-463b-a41d-21db2642253d",
   "metadata": {},
   "outputs": [],
   "source": [
    "input_file_ids = sorted(input_file_ids)"
   ]
  },
  {
   "cell_type": "code",
   "execution_count": 9,
   "id": "2d039db0-9402-47a4-8aee-a8100b8c8635",
   "metadata": {},
   "outputs": [
    {
     "data": {
      "text/plain": [
       "['output_1e4/sim_121_default_extraTag_default__0929_1631',\n",
       " 'output_1e4/sim_g13_47_mal_ini_extraTag_g13_47_mal_ini_1.7459_3.2_6.32_0.00512_0.31600000000000006_1006_1039',\n",
       " 'output_1e4/sim_g1_101_blood_lac_ini_dose5_extraTag_g1_101_blood_lac_ini_dose5_1.7459_3.2_6.32_0.00512_1006_1046',\n",
       " 'output_1e4/sim_g1_106_blood_bhb_ini_dose5_extraTag_g1_106_blood_bhb_ini_dose5_1.7459_3.2_6.32_0.00512_1006_1045',\n",
       " 'output_1e4/sim_g1_111_blood_lacbhb_ini_dose5_extraTag_g1_111_blood_lacbhb_ini_dose5_1.7459_3.2_6.32_0.00512_1006_1042',\n",
       " 'output_1e4/sim_g1_120_keto_lac_nad_Qtot_na_extraTag_g1_120_keto_lac_nad_Qtot_na_1.7459_3.2_6.32_0.00512_1010_1304',\n",
       " 'output_1e4/sim_g1_27_mal_ini_extraTag_g1_27_mal_ini_1.7459_3.2_6.32_0.00512_1009_1451',\n",
       " 'output_1e4/sim_g1_40_glclacbhb_ini_extraTag_g1_40_glclacbhb_ini_1.7459_3.2_6.32_0.00512_1005_1534',\n",
       " 'output_1e4/sim_g1_61_def_extraTag_g1_61_def_1.7459_3.2_6.32_0.00512_0929_1626',\n",
       " 'output_1e4/sim_g1_93_blood_glc_ini_dose2_extraTag_g1_93_blood_glc_ini_dose2_1.7459_3.2_6.32_0.00512_1006_1551',\n",
       " 'output_1e4/sim_th_187_ATP_dose1_extraTag_th_187_ATP_dose1_1.7459_3.2_6.32_0.00512_1011_0920',\n",
       " 'output_1e4/sim_th_188_ATP_dose2_extraTag_th_188_ATP_dose2_1.7459_3.2_6.32_0.00512_1011_0942',\n",
       " 'output_1e4/sim_th_189_ATP_dose3_extraTag_th_189_ATP_dose3_1.7459_3.2_6.32_0.00512_1011_1003',\n",
       " 'output_1e4/sim_th_190_ATP_dose4_extraTag_th_190_ATP_dose4_1.7459_3.2_6.32_0.00512_1011_1022',\n",
       " 'output_1e4/sim_th_191_ATP_dose5_extraTag_th_191_ATP_dose5_1.7459_3.2_6.32_0.00512_1011_1041']"
      ]
     },
     "execution_count": 9,
     "metadata": {},
     "output_type": "execute_result"
    }
   ],
   "source": [
    "input_file_ids"
   ]
  },
  {
   "cell_type": "code",
   "execution_count": 10,
   "id": "1f5215e8-e4de-4798-adba-3816d7e3e088",
   "metadata": {},
   "outputs": [
    {
     "data": {
      "text/plain": [
       "['output_1e4/sim_121_default_extraTag_default__0929_1631',\n",
       " 'output_1e4/sim_g1_61_def_extraTag_g1_61_def_1.7459_3.2_6.32_0.00512_0929_1626',\n",
       " 'output_1e4/sim_th_187_ATP_dose1_extraTag_th_187_ATP_dose1_1.7459_3.2_6.32_0.00512_1011_0920',\n",
       " 'output_1e4/sim_th_188_ATP_dose2_extraTag_th_188_ATP_dose2_1.7459_3.2_6.32_0.00512_1011_0942',\n",
       " 'output_1e4/sim_th_189_ATP_dose3_extraTag_th_189_ATP_dose3_1.7459_3.2_6.32_0.00512_1011_1003',\n",
       " 'output_1e4/sim_th_190_ATP_dose4_extraTag_th_190_ATP_dose4_1.7459_3.2_6.32_0.00512_1011_1022',\n",
       " 'output_1e4/sim_th_191_ATP_dose5_extraTag_th_191_ATP_dose5_1.7459_3.2_6.32_0.00512_1011_1041']"
      ]
     },
     "execution_count": 10,
     "metadata": {},
     "output_type": "execute_result"
    }
   ],
   "source": [
    "input_file_ids_extra = [i for i in input_file_ids if ('121_default' in i) or  ('g1_61_def' in i) or (i.startswith(\"output_1e4/sim_th_\"))   ]\n",
    "\n",
    "input_file_ids_extra"
   ]
  },
  {
   "cell_type": "code",
   "execution_count": null,
   "id": "e75292e7-58ca-4791-b0c9-ba4ad5fedb85",
   "metadata": {},
   "outputs": [],
   "source": []
  },
  {
   "cell_type": "code",
   "execution_count": 11,
   "id": "8cdce6e1-52ed-42c5-9d70-a7d9ad719931",
   "metadata": {
    "tags": []
   },
   "outputs": [
    {
     "name": "stdout",
     "output_type": "stream",
     "text": [
      "output_1e4/sim_121_default_extraTag_default__0929_1631\n",
      "output_1e4/sim_g1_61_def_extraTag_g1_61_def_1.7459_3.2_6.32_0.00512_0929_1626\n",
      "output_1e4/sim_th_187_ATP_dose1_extraTag_th_187_ATP_dose1_1.7459_3.2_6.32_0.00512_1011_0920\n",
      "output_1e4/sim_th_188_ATP_dose2_extraTag_th_188_ATP_dose2_1.7459_3.2_6.32_0.00512_1011_0942\n",
      "output_1e4/sim_th_189_ATP_dose3_extraTag_th_189_ATP_dose3_1.7459_3.2_6.32_0.00512_1011_1003\n",
      "output_1e4/sim_th_190_ATP_dose4_extraTag_th_190_ATP_dose4_1.7459_3.2_6.32_0.00512_1011_1022\n",
      "output_1e4/sim_th_191_ATP_dose5_extraTag_th_191_ATP_dose5_1.7459_3.2_6.32_0.00512_1011_1041\n"
     ]
    }
   ],
   "source": [
    "input_dfs = []\n",
    "\n",
    "for fid in input_file_ids_extra:\n",
    "\n",
    "    print(fid)\n",
    "    \n",
    "    dfn = fid + \"_u.csv\"\n",
    "    tfn = fid + \"_t.csv\"\n",
    "    nfn = fid + \"_unames.csv\"\n",
    "    \n",
    "    df = pd.read_csv(dfn,header=None)\n",
    "    tf = pd.read_csv(tfn,header=None)\n",
    "    nf = pd.read_csv(nfn,header=None)\n",
    "    \n",
    "    df.columns = [i[:-1] for i in nf[0].values.tolist() ]\n",
    "    \n",
    "    df['time_s'] = tf[0].copy()\n",
    "    df['condition'] = fid.replace(\"output_1e4/sim_\",\"\").split(\"_extraTag\",1)[0]\n",
    "    \n",
    "    input_dfs.append(df)\n",
    "    \n",
    "input_df = pd.concat(input_dfs, axis=0, ignore_index=True)"
   ]
  },
  {
   "cell_type": "code",
   "execution_count": 12,
   "id": "deaeb5b7-b534-4c02-85c7-6893f80b2e5f",
   "metadata": {},
   "outputs": [
    {
     "data": {
      "text/html": [
       "<div>\n",
       "<style scoped>\n",
       "    .dataframe tbody tr th:only-of-type {\n",
       "        vertical-align: middle;\n",
       "    }\n",
       "\n",
       "    .dataframe tbody tr th {\n",
       "        vertical-align: top;\n",
       "    }\n",
       "\n",
       "    .dataframe thead th {\n",
       "        text-align: right;\n",
       "    }\n",
       "</style>\n",
       "<table border=\"1\" class=\"dataframe\">\n",
       "  <thead>\n",
       "    <tr style=\"text-align: right;\">\n",
       "      <th></th>\n",
       "      <th>ADP_a</th>\n",
       "      <th>ADP_i_a</th>\n",
       "      <th>ADP_i_n</th>\n",
       "      <th>ADP_mi_a</th>\n",
       "      <th>ADP_mi_n</th>\n",
       "      <th>ADP_mx_a</th>\n",
       "      <th>ADP_mx_n</th>\n",
       "      <th>ADP_n</th>\n",
       "      <th>ADPmito_a</th>\n",
       "      <th>ADPmito_n</th>\n",
       "      <th>...</th>\n",
       "      <th>f26bp_a</th>\n",
       "      <th>h</th>\n",
       "      <th>hIP3Ca_a</th>\n",
       "      <th>mGluRboundRatio_a</th>\n",
       "      <th>n</th>\n",
       "      <th>nBK_a</th>\n",
       "      <th>pgate</th>\n",
       "      <th>sTRP_a</th>\n",
       "      <th>time_s</th>\n",
       "      <th>vV</th>\n",
       "    </tr>\n",
       "  </thead>\n",
       "  <tbody>\n",
       "    <tr>\n",
       "      <th>0</th>\n",
       "      <td>0.045</td>\n",
       "      <td>0.044347</td>\n",
       "      <td>0.057207</td>\n",
       "      <td>0.043629</td>\n",
       "      <td>0.056055</td>\n",
       "      <td>1.144319</td>\n",
       "      <td>1.129008</td>\n",
       "      <td>0.047784</td>\n",
       "      <td>1.74456</td>\n",
       "      <td>1.851257</td>\n",
       "      <td>...</td>\n",
       "      <td>0.01217</td>\n",
       "      <td>0.981124</td>\n",
       "      <td>0.653157</td>\n",
       "      <td>0.0</td>\n",
       "      <td>0.034674</td>\n",
       "      <td>0.000007</td>\n",
       "      <td>0.035539</td>\n",
       "      <td>0.001247</td>\n",
       "      <td>1.0000</td>\n",
       "      <td>0.0237</td>\n",
       "    </tr>\n",
       "    <tr>\n",
       "      <th>1</th>\n",
       "      <td>0.045</td>\n",
       "      <td>0.044347</td>\n",
       "      <td>0.057207</td>\n",
       "      <td>0.043629</td>\n",
       "      <td>0.056055</td>\n",
       "      <td>1.144319</td>\n",
       "      <td>1.129008</td>\n",
       "      <td>0.047784</td>\n",
       "      <td>1.74456</td>\n",
       "      <td>1.851257</td>\n",
       "      <td>...</td>\n",
       "      <td>0.01217</td>\n",
       "      <td>0.981127</td>\n",
       "      <td>0.653157</td>\n",
       "      <td>0.0</td>\n",
       "      <td>0.034671</td>\n",
       "      <td>0.000007</td>\n",
       "      <td>0.035539</td>\n",
       "      <td>0.001247</td>\n",
       "      <td>1.0001</td>\n",
       "      <td>0.0237</td>\n",
       "    </tr>\n",
       "    <tr>\n",
       "      <th>2</th>\n",
       "      <td>0.045</td>\n",
       "      <td>0.044347</td>\n",
       "      <td>0.057207</td>\n",
       "      <td>0.043629</td>\n",
       "      <td>0.056055</td>\n",
       "      <td>1.144319</td>\n",
       "      <td>1.129008</td>\n",
       "      <td>0.047784</td>\n",
       "      <td>1.74456</td>\n",
       "      <td>1.851257</td>\n",
       "      <td>...</td>\n",
       "      <td>0.01217</td>\n",
       "      <td>0.981137</td>\n",
       "      <td>0.653157</td>\n",
       "      <td>0.0</td>\n",
       "      <td>0.034662</td>\n",
       "      <td>0.000007</td>\n",
       "      <td>0.035539</td>\n",
       "      <td>0.001247</td>\n",
       "      <td>1.0002</td>\n",
       "      <td>0.0237</td>\n",
       "    </tr>\n",
       "  </tbody>\n",
       "</table>\n",
       "<p>3 rows × 185 columns</p>\n",
       "</div>"
      ],
      "text/plain": [
       "   ADP_a   ADP_i_a   ADP_i_n  ADP_mi_a  ADP_mi_n  ADP_mx_a  ADP_mx_n  \\\n",
       "0  0.045  0.044347  0.057207  0.043629  0.056055  1.144319  1.129008   \n",
       "1  0.045  0.044347  0.057207  0.043629  0.056055  1.144319  1.129008   \n",
       "2  0.045  0.044347  0.057207  0.043629  0.056055  1.144319  1.129008   \n",
       "\n",
       "      ADP_n  ADPmito_a  ADPmito_n  ...  f26bp_a         h  hIP3Ca_a  \\\n",
       "0  0.047784    1.74456   1.851257  ...  0.01217  0.981124  0.653157   \n",
       "1  0.047784    1.74456   1.851257  ...  0.01217  0.981127  0.653157   \n",
       "2  0.047784    1.74456   1.851257  ...  0.01217  0.981137  0.653157   \n",
       "\n",
       "   mGluRboundRatio_a         n     nBK_a     pgate    sTRP_a  time_s      vV  \n",
       "0                0.0  0.034674  0.000007  0.035539  0.001247  1.0000  0.0237  \n",
       "1                0.0  0.034671  0.000007  0.035539  0.001247  1.0001  0.0237  \n",
       "2                0.0  0.034662  0.000007  0.035539  0.001247  1.0002  0.0237  \n",
       "\n",
       "[3 rows x 185 columns]"
      ]
     },
     "execution_count": 12,
     "metadata": {},
     "output_type": "execute_result"
    }
   ],
   "source": [
    "input_df = input_df.reindex(sorted(input_df.columns), axis=1)\n",
    "\n",
    "input_df.head(3)"
   ]
  },
  {
   "cell_type": "code",
   "execution_count": 13,
   "id": "f5c129dc-6845-4f81-a69f-148aadc2250d",
   "metadata": {},
   "outputs": [
    {
     "data": {
      "text/plain": [
       "['121_default',\n",
       " 'g1_61_def',\n",
       " 'th_187_ATP_dose1',\n",
       " 'th_188_ATP_dose2',\n",
       " 'th_189_ATP_dose3',\n",
       " 'th_190_ATP_dose4',\n",
       " 'th_191_ATP_dose5']"
      ]
     },
     "execution_count": 13,
     "metadata": {},
     "output_type": "execute_result"
    }
   ],
   "source": [
    "all_cnds_l = sorted(input_df['condition'].unique())\n",
    "\n",
    "all_cnds_l"
   ]
  },
  {
   "cell_type": "code",
   "execution_count": null,
   "id": "1b03dddb-f705-4d79-9831-349a89d2e7f2",
   "metadata": {},
   "outputs": [],
   "source": []
  },
  {
   "cell_type": "code",
   "execution_count": 14,
   "id": "67d3c378-91bd-4216-a743-e504aac2bf55",
   "metadata": {},
   "outputs": [
    {
     "data": {
      "image/png": "[encoded data removed]",
      "text/plain": [
       "<Figure size 432x216 with 1 Axes>"
      ]
     },
     "metadata": {
      "needs_background": "light"
     },
     "output_type": "display_data"
    }
   ],
   "source": [
    "fig, ax = plt.subplots(figsize=(6,3))\n",
    "\n",
    "ax.axvspan(200, 230, color='lightgrey', alpha=0.5)\n",
    "\n",
    "ax.plot(input_df.loc[(input_df['time_s']>=180)&(input_df['condition']=='g1_61_def'),'time_s'],input_df.loc[(input_df['time_s']>=180)&(input_df['condition']=='g1_61_def'),'VNeu'],color='#fa6f0c',alpha=0.8, label='GLUT1-def.')\n",
    "\n",
    "ax.plot(input_df.loc[(input_df['time_s']>=180)&(input_df['condition']=='121_default'),'time_s'],input_df.loc[(input_df['time_s']>=180)&(input_df['condition']=='121_default'),'VNeu'],color='#069e1d',alpha=0.8, label='control')\n",
    "\n",
    "ax.plot(input_df.loc[(input_df['time_s']>=180)&(input_df['condition']=='th_187_ATP_dose1'),'time_s'],input_df.loc[(input_df['time_s']>=180)&(input_df['condition']=='th_187_ATP_dose1'),'VNeu'],\n",
    "         color='#00bbff',alpha=0.8,label='ATP dose 1')\n",
    "\n",
    "ax.plot(input_df.loc[(input_df['time_s']>=180)&(input_df['condition']=='th_188_ATP_dose2'),'time_s'],input_df.loc[(input_df['time_s']>=180)&(input_df['condition']=='th_188_ATP_dose2'),'VNeu'],\n",
    "         color='#027be6',alpha=0.8,label='ATP dose 2')\n",
    "\n",
    "ax.plot(input_df.loc[(input_df['time_s']>=180)&(input_df['condition']=='th_189_ATP_dose3'),'time_s'],input_df.loc[(input_df['time_s']>=180)&(input_df['condition']=='th_189_ATP_dose3'),'VNeu'],\n",
    "         color='#0e4ea1',alpha=0.8,label='ATP dose 3')\n",
    "\n",
    "ax.plot(input_df.loc[(input_df['time_s']>=180)&(input_df['condition']=='th_190_ATP_dose4'),'time_s'],input_df.loc[(input_df['time_s']>=180)&(input_df['condition']=='th_190_ATP_dose4'),'VNeu'],\n",
    "         color='#040fdb',alpha=0.8,label='ATP dose 4')\n",
    "\n",
    "ax.plot(input_df.loc[(input_df['time_s']>=180)&(input_df['condition']=='th_191_ATP_dose5'),'time_s'],input_df.loc[(input_df['time_s']>=180)&(input_df['condition']=='th_191_ATP_dose5'),'VNeu'],\n",
    "         color='#0a022b',alpha=0.8,label='ATP dose 5')\n",
    "\n",
    "\n",
    "ax.set_xlabel(\"t, s\")\n",
    "ax.set_ylabel(\"Vm, mV\")\n",
    "\n",
    "ax.spines.top.set_visible(False)\n",
    "ax.spines.right.set_visible(False)\n",
    "\n",
    "\n",
    "#add a legend\n",
    "ax.legend(bbox_to_anchor=(1.05, 1), loc='upper left',frameon=False)\n",
    "\n",
    "\n",
    "plt.show()\n",
    "\n",
    "if savefigures == True:\n",
    "    fig.savefig(outpath + \"Vm_ATPdoses_\" + timestr + \".pdf\",transparent=False)\n",
    "    fig.savefig(outpath + \"Vm_ATPdoses_\" + timestr + \".png\",dpi=300,transparent=False, bbox_inches=\"tight\")\n"
   ]
  },
  {
   "cell_type": "code",
   "execution_count": null,
   "id": "7fc6dc72-e1ce-4de6-8f3b-a48aff00904e",
   "metadata": {},
   "outputs": [],
   "source": []
  },
  {
   "cell_type": "code",
   "execution_count": 15,
   "id": "681f177b-4ea5-478f-9168-33b7153ba93f",
   "metadata": {},
   "outputs": [
    {
     "data": {
      "image/png": "[encoded data removed]",
      "text/plain": [
       "<Figure size 180x180 with 1 Axes>"
      ]
     },
     "metadata": {
      "needs_background": "light"
     },
     "output_type": "display_data"
    }
   ],
   "source": [
    "fig, ax = plt.subplots(figsize=(2.5,2.5))\n",
    "\n",
    "ax.axvspan(200, 230, color='lightgrey', alpha=0.5)\n",
    "\n",
    "ax.plot(input_df.loc[(input_df['time_s']>=180)&(input_df['condition']=='th_187_ATP_dose1'),'time_s'],input_df.loc[(input_df['time_s']>=180)&(input_df['condition']=='th_187_ATP_dose1'),'VNeu'],\n",
    "         color='#00bbff',alpha=0.8,label='ATP dose 1')\n",
    "\n",
    "\n",
    "ax.set_xlabel(\"t, s\")\n",
    "ax.set_ylabel(\"Vm, mV\")\n",
    "\n",
    "#add a legend\n",
    "ax.legend(bbox_to_anchor=(1.05, 1), loc='upper left',frameon=False)\n",
    "\n",
    "ax.spines.top.set_visible(False)\n",
    "ax.spines.right.set_visible(False)\n",
    "\n",
    "\n",
    "plt.show()\n",
    "\n",
    "if savefigures == True:\n",
    "    fig.savefig(outpath + \"Vm_ATPdose1only_\" + timestr + \".pdf\",transparent=False)\n",
    "    fig.savefig(outpath + \"Vm_ATPdose1only_\" + timestr + \".png\",dpi=300,transparent=False, bbox_inches=\"tight\")\n"
   ]
  },
  {
   "cell_type": "code",
   "execution_count": 16,
   "id": "cdc79d39-0a17-48b9-bd43-492131d1cf6b",
   "metadata": {},
   "outputs": [
    {
     "data": {
      "image/png": "[encoded data removed]",
      "text/plain": [
       "<Figure size 180x180 with 1 Axes>"
      ]
     },
     "metadata": {
      "needs_background": "light"
     },
     "output_type": "display_data"
    }
   ],
   "source": [
    "fig, ax = plt.subplots(figsize=(2.5,2.5))\n",
    "\n",
    "ax.axvspan(200, 230, color='lightgrey', alpha=0.5)\n",
    "\n",
    "ax.plot(input_df.loc[(input_df['time_s']>=180)&(input_df['condition']=='th_188_ATP_dose2'),'time_s'],input_df.loc[(input_df['time_s']>=180)&(input_df['condition']=='th_188_ATP_dose2'),'VNeu'],\n",
    "         color='#027be6',alpha=0.8,label='ATP dose 2')\n",
    "\n",
    "\n",
    "ax.set_xlabel(\"t, s\")\n",
    "ax.set_ylabel(\"Vm, mV\")\n",
    "\n",
    "#add a legend\n",
    "ax.legend(bbox_to_anchor=(1.05, 1), loc='upper left',frameon=False)\n",
    "\n",
    "ax.spines.top.set_visible(False)\n",
    "ax.spines.right.set_visible(False)\n",
    "\n",
    "\n",
    "plt.show()\n",
    "\n",
    "if savefigures == True:\n",
    "    fig.savefig(outpath + \"Vm_ATPdose2only_\" + timestr + \".pdf\",transparent=False)\n",
    "    fig.savefig(outpath + \"Vm_ATPdose2only_\" + timestr + \".png\",dpi=300,transparent=False, bbox_inches=\"tight\")\n"
   ]
  },
  {
   "cell_type": "code",
   "execution_count": 17,
   "id": "55a6812c-107f-4d68-a5cb-e1f3bfd91209",
   "metadata": {},
   "outputs": [
    {
     "data": {
      "image/png": "[encoded data removed]",
      "text/plain": [
       "<Figure size 180x180 with 1 Axes>"
      ]
     },
     "metadata": {
      "needs_background": "light"
     },
     "output_type": "display_data"
    }
   ],
   "source": [
    "fig, ax = plt.subplots(figsize=(2.5,2.5))\n",
    "\n",
    "ax.axvspan(200, 230, color='lightgrey', alpha=0.5)\n",
    "\n",
    "ax.plot(input_df.loc[(input_df['time_s']>=180)&(input_df['condition']=='th_189_ATP_dose3'),'time_s'],input_df.loc[(input_df['time_s']>=180)&(input_df['condition']=='th_189_ATP_dose3'),'VNeu'],\n",
    "         color='#0e4ea1',alpha=0.8,label='ATP dose 3')\n",
    "\n",
    "ax.set_xlabel(\"t, s\")\n",
    "ax.set_ylabel(\"Vm, mV\")\n",
    "\n",
    "#add a legend\n",
    "plt.legend(bbox_to_anchor=(1.05, 1), loc='upper left',frameon=False)\n",
    "\n",
    "ax.spines.top.set_visible(False)\n",
    "ax.spines.right.set_visible(False)\n",
    "\n",
    "\n",
    "plt.show()\n",
    "\n",
    "if savefigures == True:\n",
    "    fig.savefig(outpath + \"Vm_ATPdose3only_\" + timestr + \".pdf\",transparent=False)\n",
    "    fig.savefig(outpath + \"Vm_ATPdose3only_\" + timestr + \".png\",dpi=300,transparent=False, bbox_inches=\"tight\")\n"
   ]
  },
  {
   "cell_type": "code",
   "execution_count": 18,
   "id": "48e09278-6c1d-498d-8a89-611f6283df1c",
   "metadata": {},
   "outputs": [
    {
     "data": {
      "image/png": "[encoded data removed]",
      "text/plain": [
       "<Figure size 180x180 with 1 Axes>"
      ]
     },
     "metadata": {
      "needs_background": "light"
     },
     "output_type": "display_data"
    }
   ],
   "source": [
    "fig, ax = plt.subplots(figsize=(2.5,2.5))\n",
    "\n",
    "ax.axvspan(200, 230, color='lightgrey', alpha=0.5)\n",
    "\n",
    "ax.plot(input_df.loc[(input_df['time_s']>=180)&(input_df['condition']=='th_190_ATP_dose4'),'time_s'],input_df.loc[(input_df['time_s']>=180)&(input_df['condition']=='th_190_ATP_dose4'),'VNeu'],\n",
    "         color='#040fdb',alpha=0.8,label='ATP dose 4')\n",
    "\n",
    "ax.set_xlabel(\"t, s\")\n",
    "ax.set_ylabel(\"Vm, mV\")\n",
    "\n",
    "#add a legend\n",
    "ax.legend(bbox_to_anchor=(1.05, 1), loc='upper left',frameon=False)\n",
    "\n",
    "ax.spines.top.set_visible(False)\n",
    "ax.spines.right.set_visible(False)\n",
    "\n",
    "\n",
    "plt.show()\n",
    "\n",
    "if savefigures == True:\n",
    "    fig.savefig(outpath + \"Vm_ATPdose4only_\" + timestr + \".pdf\",transparent=False)\n",
    "    fig.savefig(outpath + \"Vm_ATPdose4only_\" + timestr + \".png\",dpi=300,transparent=False, bbox_inches=\"tight\")\n"
   ]
  },
  {
   "cell_type": "code",
   "execution_count": 19,
   "id": "da0707b7-194c-4c64-8ee0-85a3489f1848",
   "metadata": {},
   "outputs": [
    {
     "data": {
      "image/png": "[encoded data removed]",
      "text/plain": [
       "<Figure size 180x180 with 1 Axes>"
      ]
     },
     "metadata": {
      "needs_background": "light"
     },
     "output_type": "display_data"
    }
   ],
   "source": [
    "fig, ax = plt.subplots(figsize=(2.5,2.5))\n",
    "\n",
    "ax.axvspan(200, 230, color='lightgrey', alpha=0.5)\n",
    "\n",
    "ax.plot(input_df.loc[(input_df['time_s']>=180)&(input_df['condition']=='th_191_ATP_dose5'),'time_s'],input_df.loc[(input_df['time_s']>=180)&(input_df['condition']=='th_191_ATP_dose5'),'VNeu'],\n",
    "         color='#0a022b',alpha=0.8,label='ATP dose 5')\n",
    "\n",
    "ax.set_xlabel(\"t, s\")\n",
    "ax.set_ylabel(\"Vm, mV\")\n",
    "\n",
    "#add a legend\n",
    "ax.legend(bbox_to_anchor=(1.05, 1), loc='upper left',frameon=False)\n",
    "\n",
    "ax.spines.top.set_visible(False)\n",
    "ax.spines.right.set_visible(False)\n",
    "\n",
    "\n",
    "plt.show()\n",
    "\n",
    "if savefigures == True:\n",
    "    fig.savefig(outpath + \"Vm_ATPdose5only_\" + timestr + \".pdf\",transparent=False)\n",
    "    fig.savefig(outpath + \"Vm_ATPdose5only_\" + timestr + \".png\",dpi=300,transparent=False, bbox_inches=\"tight\")\n"
   ]
  },
  {
   "cell_type": "code",
   "execution_count": null,
   "id": "3c1bc849-218f-4054-9d1f-31382baf91d1",
   "metadata": {},
   "outputs": [],
   "source": []
  },
  {
   "cell_type": "code",
   "execution_count": null,
   "id": "a638ceff-e84f-4888-b343-3358d66586f2",
   "metadata": {},
   "outputs": [],
   "source": []
  },
  {
   "cell_type": "code",
   "execution_count": null,
   "id": "28dc8e7f-c2c5-4165-ba59-2c23be79992c",
   "metadata": {},
   "outputs": [],
   "source": []
  },
  {
   "cell_type": "markdown",
   "id": "1218c685-aba4-49d7-b046-cf4b81a75a41",
   "metadata": {},
   "source": [
    "### ATP"
   ]
  },
  {
   "cell_type": "code",
   "execution_count": 20,
   "id": "5187970c-09b9-49e2-860f-9e815479ccc3",
   "metadata": {},
   "outputs": [
    {
     "data": {
      "image/png": "[encoded data removed]",
      "text/plain": [
       "<Figure size 432x216 with 1 Axes>"
      ]
     },
     "metadata": {
      "needs_background": "light"
     },
     "output_type": "display_data"
    }
   ],
   "source": [
    "fig, ax = plt.subplots(figsize=(6,3))\n",
    "\n",
    "ax.axvspan(200, 230, color='lightgrey', alpha=0.5)\n",
    "\n",
    "ax.plot(input_df.loc[(input_df['time_s']>=180)&(input_df['condition']=='g1_61_def'),'time_s'],input_df.loc[(input_df['time_s']>=180)&(input_df['condition']=='g1_61_def'),'ATP_n'],color='#fa6f0c',alpha=0.8, label='GLUT1-def.')\n",
    "\n",
    "ax.plot(input_df.loc[(input_df['time_s']>=180)&(input_df['condition']=='121_default'),'time_s'],input_df.loc[(input_df['time_s']>=180)&(input_df['condition']=='121_default'),'ATP_n'],color='#069e1d',alpha=0.8, label='control')\n",
    "\n",
    "\n",
    "ax.plot(input_df.loc[(input_df['time_s']>=180)&(input_df['condition']=='th_187_ATP_dose1'),'time_s'],input_df.loc[(input_df['time_s']>=180)&(input_df['condition']=='th_187_ATP_dose1'),'ATP_n'],\n",
    "         color='#00bbff',alpha=0.8,label='ATP dose 1')\n",
    "\n",
    "ax.plot(input_df.loc[(input_df['time_s']>=180)&(input_df['condition']=='th_188_ATP_dose2'),'time_s'],input_df.loc[(input_df['time_s']>=180)&(input_df['condition']=='th_188_ATP_dose2'),'ATP_n'],\n",
    "         color='#027be6',alpha=0.8,label='ATP dose 2')\n",
    "\n",
    "ax.plot(input_df.loc[(input_df['time_s']>=180)&(input_df['condition']=='th_189_ATP_dose3'),'time_s'],input_df.loc[(input_df['time_s']>=180)&(input_df['condition']=='th_189_ATP_dose3'),'ATP_n'],\n",
    "         color='#0e4ea1',alpha=0.8,label='ATP dose 3')\n",
    "\n",
    "ax.plot(input_df.loc[(input_df['time_s']>=180)&(input_df['condition']=='th_190_ATP_dose4'),'time_s'],input_df.loc[(input_df['time_s']>=180)&(input_df['condition']=='th_190_ATP_dose4'),'ATP_n'],\n",
    "         color='#040fdb',alpha=0.8,label='ATP dose 4')\n",
    "\n",
    "ax.plot(input_df.loc[(input_df['time_s']>=180)&(input_df['condition']=='th_191_ATP_dose5'),'time_s'],input_df.loc[(input_df['time_s']>=180)&(input_df['condition']=='th_191_ATP_dose5'),'ATP_n'],\n",
    "         color='#0a022b',alpha=0.8,label='ATP dose 5')\n",
    "\n",
    "\n",
    "ax.set_xlabel(\"t, s\")\n",
    "ax.set_ylabel(\"ATP n, mM\")\n",
    "\n",
    "#add a legend\n",
    "ax.legend(bbox_to_anchor=(1.05, 1), loc='upper left',frameon=False)\n",
    "\n",
    "ax.spines.top.set_visible(False)\n",
    "ax.spines.right.set_visible(False)\n",
    "\n",
    "\n",
    "plt.show()\n",
    "\n",
    "if savefigures == True:\n",
    "    fig.savefig(outpath + \"ATPn_ATPdoses_\" + timestr + \".pdf\",transparent=False)\n",
    "    fig.savefig(outpath + \"ATPn_ATPdoses_\" + timestr + \".png\",dpi=300,transparent=False, bbox_inches=\"tight\")\n"
   ]
  },
  {
   "cell_type": "code",
   "execution_count": null,
   "id": "9b907421-f90f-4c84-a979-e8063d469299",
   "metadata": {},
   "outputs": [],
   "source": []
  },
  {
   "cell_type": "code",
   "execution_count": null,
   "id": "2102031f-7e3e-4a58-9f46-fb53549a5e4a",
   "metadata": {},
   "outputs": [],
   "source": []
  },
  {
   "cell_type": "code",
   "execution_count": null,
   "id": "79ed24fe-85dd-4d45-9cea-24416a77c70b",
   "metadata": {},
   "outputs": [],
   "source": []
  }
 ],
 "metadata": {
  "kernelspec": {
   "display_name": "Python 3 (ipykernel)",
   "language": "python",
   "name": "python3"
  },
  "language_info": {
   "codemirror_mode": {
    "name": "ipython",
    "version": 3
   },
   "file_extension": ".py",
   "mimetype": "text/x-python",
   "name": "python",
   "nbconvert_exporter": "python",
   "pygments_lexer": "ipython3",
   "version": "3.9.4"
  }
 },
 "nbformat": 4,
 "nbformat_minor": 5
}
