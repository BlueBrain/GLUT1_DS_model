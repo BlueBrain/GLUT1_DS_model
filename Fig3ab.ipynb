{
 "cells": [
  {
   "cell_type": "code",
   "execution_count": 1,
   "id": "9dc0a0e4-cec0-453a-84ca-4b477fc54918",
   "metadata": {
    "tags": []
   },
   "outputs": [],
   "source": [
    "import pandas as pd\n",
    "import numpy as np\n",
    "import json\n",
    "from itertools import chain\n",
    "\n",
    "import matplotlib.pyplot as plt\n",
    "import matplotlib as mpl\n",
    "\n",
    "import seaborn as sns\n",
    "\n",
    "import time\n",
    "\n",
    "import glob\n",
    "\n",
    "\n",
    "params = {\n",
    "   'axes.labelsize': 14,\n",
    "   'font.size': 14,\n",
    "   'legend.fontsize': 14,\n",
    "   'xtick.labelsize': 14,\n",
    "   'ytick.labelsize': 14,\n",
    "   'text.usetex': False,\n",
    "   'figure.figsize': [4.5, 4.5],\n",
    "    'savefig.facecolor':'white'\n",
    "   }\n",
    "\n",
    "mpl.rcParams.update(params)\n",
    "\n",
    "\n",
    "timestr = time.strftime(\"%Y%m%d%H%M\")"
   ]
  },
  {
   "cell_type": "code",
   "execution_count": 2,
   "id": "9bb67f27-e03e-4a0e-add9-33db97a7388f",
   "metadata": {},
   "outputs": [
    {
     "name": "stdout",
     "output_type": "stream",
     "text": [
      "1\n"
     ]
    }
   ],
   "source": [
    "sol_saveat_dt = [1,1e-4][0]\n",
    "\n",
    "print(sol_saveat_dt)\n",
    "\n",
    "inpath = \"output/\"\n",
    "outpath = \"figures/supp2a/\" "
   ]
  },
  {
   "cell_type": "code",
   "execution_count": 3,
   "id": "3eb24459-423a-4ca3-94be-c3e8e5ed9a34",
   "metadata": {},
   "outputs": [],
   "source": [
    "##############################################\n",
    "# set to True to save fig\n",
    "\n",
    "savefigures = True #False #True \n",
    "\n",
    "##############################################"
   ]
  },
  {
   "cell_type": "code",
   "execution_count": 4,
   "id": "67b563e3-a900-4778-b4fb-9452fb16f9f7",
   "metadata": {},
   "outputs": [
    {
     "name": "stdout",
     "output_type": "stream",
     "text": [
      "190\n"
     ]
    }
   ],
   "source": [
    "! ls -lh output | grep \"_u\\.\" | grep \"sim_\" | wc -l"
   ]
  },
  {
   "cell_type": "code",
   "execution_count": 5,
   "id": "753bd907-9c3b-497a-a507-044e38706426",
   "metadata": {},
   "outputs": [
    {
     "name": "stdout",
     "output_type": "stream",
     "text": [
      "190\n"
     ]
    }
   ],
   "source": [
    "print(len(glob.glob(inpath+\"*_u.csv\"))) "
   ]
  },
  {
   "cell_type": "code",
   "execution_count": 6,
   "id": "6d4cf2ec-0b5f-421a-b261-45389520da41",
   "metadata": {},
   "outputs": [],
   "source": [
    "input_file_ids = [i.rstrip(\"_u.csv\") for i in glob.glob(inpath+\"*_u.csv\")]\n"
   ]
  },
  {
   "cell_type": "code",
   "execution_count": null,
   "id": "e5f06e8f-dfe0-4700-a03f-b1628af8d9bf",
   "metadata": {},
   "outputs": [],
   "source": []
  },
  {
   "cell_type": "code",
   "execution_count": 7,
   "id": "74af76c0-5de1-4f80-b7df-22c48d7750c2",
   "metadata": {},
   "outputs": [],
   "source": [
    "input_file_ids = sorted(input_file_ids)"
   ]
  },
  {
   "cell_type": "code",
   "execution_count": 8,
   "id": "521ab90d-037a-482c-bdd3-acc96acb7e0d",
   "metadata": {
    "tags": []
   },
   "outputs": [],
   "source": [
    "input_dfs = []\n",
    "\n",
    "for fid in input_file_ids:\n",
    "\n",
    "    dfn = fid + \"_u.csv\"\n",
    "    tfn = fid + \"_t.csv\"\n",
    "    nfn = fid + \"_unames.csv\"\n",
    "    \n",
    "    df = pd.read_csv(dfn,header=None)\n",
    "    tf = pd.read_csv(tfn,header=None)\n",
    "    nf = pd.read_csv(nfn,header=None)\n",
    "    \n",
    "    df.columns = [i[:-1] for i in nf[0].values.tolist() ]\n",
    "    \n",
    "    df['time_s'] = tf[0].copy()\n",
    "    df['condition'] = fid.replace(\"output/sim_\",\"\").split(\"_extraTag\",1)[0] \n",
    "    \n",
    "    input_dfs.append(df)\n",
    "    \n",
    "input_df = pd.concat(input_dfs, axis=0, ignore_index=True)"
   ]
  },
  {
   "cell_type": "code",
   "execution_count": 9,
   "id": "d0f12bf9-edc7-4720-964b-300649638715",
   "metadata": {},
   "outputs": [
    {
     "name": "stdout",
     "output_type": "stream",
     "text": [
      "(58900, 185)\n"
     ]
    }
   ],
   "source": [
    "print(input_df.shape)"
   ]
  },
  {
   "cell_type": "code",
   "execution_count": 10,
   "id": "9759053a-0cb3-4ec5-9a8a-30da7cd35cd5",
   "metadata": {},
   "outputs": [],
   "source": [
    "input_df = input_df.reindex(sorted(input_df.columns), axis=1)"
   ]
  },
  {
   "cell_type": "code",
   "execution_count": 11,
   "id": "cd2edbb9-15b5-4f3d-9d31-8da6f0634f7f",
   "metadata": {},
   "outputs": [
    {
     "data": {
      "text/html": [
       "<div>\n",
       "<style scoped>\n",
       "    .dataframe tbody tr th:only-of-type {\n",
       "        vertical-align: middle;\n",
       "    }\n",
       "\n",
       "    .dataframe tbody tr th {\n",
       "        vertical-align: top;\n",
       "    }\n",
       "\n",
       "    .dataframe thead th {\n",
       "        text-align: right;\n",
       "    }\n",
       "</style>\n",
       "<table border=\"1\" class=\"dataframe\">\n",
       "  <thead>\n",
       "    <tr style=\"text-align: right;\">\n",
       "      <th></th>\n",
       "      <th>ADP_a</th>\n",
       "      <th>ADP_i_a</th>\n",
       "      <th>ADP_i_n</th>\n",
       "      <th>ADP_mi_a</th>\n",
       "      <th>ADP_mi_n</th>\n",
       "      <th>ADP_mx_a</th>\n",
       "      <th>ADP_mx_n</th>\n",
       "      <th>ADP_n</th>\n",
       "      <th>ADPmito_a</th>\n",
       "      <th>ADPmito_n</th>\n",
       "      <th>...</th>\n",
       "      <th>f26bp_a</th>\n",
       "      <th>h</th>\n",
       "      <th>hIP3Ca_a</th>\n",
       "      <th>mGluRboundRatio_a</th>\n",
       "      <th>n</th>\n",
       "      <th>nBK_a</th>\n",
       "      <th>pgate</th>\n",
       "      <th>sTRP_a</th>\n",
       "      <th>time_s</th>\n",
       "      <th>vV</th>\n",
       "    </tr>\n",
       "  </thead>\n",
       "  <tbody>\n",
       "    <tr>\n",
       "      <th>0</th>\n",
       "      <td>0.045</td>\n",
       "      <td>0.044347</td>\n",
       "      <td>0.057207</td>\n",
       "      <td>0.043629</td>\n",
       "      <td>0.056055</td>\n",
       "      <td>1.144319</td>\n",
       "      <td>1.129008</td>\n",
       "      <td>0.047784</td>\n",
       "      <td>1.744560</td>\n",
       "      <td>1.851257</td>\n",
       "      <td>...</td>\n",
       "      <td>0.012170</td>\n",
       "      <td>0.981124</td>\n",
       "      <td>0.653157</td>\n",
       "      <td>0.0</td>\n",
       "      <td>0.034674</td>\n",
       "      <td>0.000007</td>\n",
       "      <td>0.035539</td>\n",
       "      <td>0.001247</td>\n",
       "      <td>1.0</td>\n",
       "      <td>0.0237</td>\n",
       "    </tr>\n",
       "    <tr>\n",
       "      <th>1</th>\n",
       "      <td>0.045</td>\n",
       "      <td>0.044306</td>\n",
       "      <td>0.057167</td>\n",
       "      <td>0.043589</td>\n",
       "      <td>0.056016</td>\n",
       "      <td>1.144333</td>\n",
       "      <td>1.128973</td>\n",
       "      <td>0.047784</td>\n",
       "      <td>1.744587</td>\n",
       "      <td>1.851184</td>\n",
       "      <td>...</td>\n",
       "      <td>0.012171</td>\n",
       "      <td>0.990555</td>\n",
       "      <td>0.653153</td>\n",
       "      <td>0.0</td>\n",
       "      <td>0.023402</td>\n",
       "      <td>0.000007</td>\n",
       "      <td>0.025259</td>\n",
       "      <td>0.001247</td>\n",
       "      <td>2.0</td>\n",
       "      <td>0.0237</td>\n",
       "    </tr>\n",
       "    <tr>\n",
       "      <th>2</th>\n",
       "      <td>0.045</td>\n",
       "      <td>0.044290</td>\n",
       "      <td>0.057161</td>\n",
       "      <td>0.043573</td>\n",
       "      <td>0.056010</td>\n",
       "      <td>1.144311</td>\n",
       "      <td>1.128928</td>\n",
       "      <td>0.047784</td>\n",
       "      <td>1.744545</td>\n",
       "      <td>1.851093</td>\n",
       "      <td>...</td>\n",
       "      <td>0.012172</td>\n",
       "      <td>0.990651</td>\n",
       "      <td>0.653133</td>\n",
       "      <td>0.0</td>\n",
       "      <td>0.023267</td>\n",
       "      <td>0.000007</td>\n",
       "      <td>0.025131</td>\n",
       "      <td>0.001247</td>\n",
       "      <td>3.0</td>\n",
       "      <td>0.0237</td>\n",
       "    </tr>\n",
       "  </tbody>\n",
       "</table>\n",
       "<p>3 rows × 185 columns</p>\n",
       "</div>"
      ],
      "text/plain": [
       "   ADP_a   ADP_i_a   ADP_i_n  ADP_mi_a  ADP_mi_n  ADP_mx_a  ADP_mx_n  \\\n",
       "0  0.045  0.044347  0.057207  0.043629  0.056055  1.144319  1.129008   \n",
       "1  0.045  0.044306  0.057167  0.043589  0.056016  1.144333  1.128973   \n",
       "2  0.045  0.044290  0.057161  0.043573  0.056010  1.144311  1.128928   \n",
       "\n",
       "      ADP_n  ADPmito_a  ADPmito_n  ...   f26bp_a         h  hIP3Ca_a  \\\n",
       "0  0.047784   1.744560   1.851257  ...  0.012170  0.981124  0.653157   \n",
       "1  0.047784   1.744587   1.851184  ...  0.012171  0.990555  0.653153   \n",
       "2  0.047784   1.744545   1.851093  ...  0.012172  0.990651  0.653133   \n",
       "\n",
       "   mGluRboundRatio_a         n     nBK_a     pgate    sTRP_a  time_s      vV  \n",
       "0                0.0  0.034674  0.000007  0.035539  0.001247     1.0  0.0237  \n",
       "1                0.0  0.023402  0.000007  0.025259  0.001247     2.0  0.0237  \n",
       "2                0.0  0.023267  0.000007  0.025131  0.001247     3.0  0.0237  \n",
       "\n",
       "[3 rows x 185 columns]"
      ]
     },
     "execution_count": 11,
     "metadata": {},
     "output_type": "execute_result"
    }
   ],
   "source": [
    "input_df.head(3)"
   ]
  },
  {
   "cell_type": "code",
   "execution_count": 12,
   "id": "cb83a159-5e35-4934-bf4f-dea4065625d3",
   "metadata": {},
   "outputs": [
    {
     "name": "stdout",
     "output_type": "stream",
     "text": [
      "1\n",
      "1\n"
     ]
    }
   ],
   "source": [
    "all_cnds_l = input_df['condition'].unique()\n",
    "\n",
    "group1_control = [i for i in all_cnds_l if i.startswith('121_def') ]\n",
    "\n",
    "print(len(group1_control))\n",
    "\n",
    "\n",
    "group2_GLUT1 = [i for i in all_cnds_l if i.startswith('g1_61') and (\"_dose\" not in i) ]\n",
    "\n",
    "print(len(group2_GLUT1))\n"
   ]
  },
  {
   "cell_type": "code",
   "execution_count": 13,
   "id": "fbcbe8f3-7712-4005-96c3-2c2f5c1fe010",
   "metadata": {},
   "outputs": [],
   "source": [
    "selected_cnds_all = group1_control + group2_GLUT1"
   ]
  },
  {
   "cell_type": "code",
   "execution_count": 14,
   "id": "84306270-f6d4-4302-8fcb-1a8f7979d5da",
   "metadata": {},
   "outputs": [],
   "source": [
    "NADtot_c = 0.212 # mM # cyto\n",
    "NADPtot = 0.0303 # mM\n",
    "NADtot_m = 0.726 # mM\n",
    "\n",
    "ATDPtot_n = 1.4449961078157665\n",
    "ATDPtot_a = 1.3434724532826217\n",
    "qAK = 0.92\n"
   ]
  },
  {
   "cell_type": "code",
   "execution_count": 15,
   "id": "6c6972bb-febc-4680-9194-7da1d0e285a1",
   "metadata": {},
   "outputs": [
    {
     "data": {
      "text/plain": [
       "['121_default', 'g1_61_def']"
      ]
     },
     "execution_count": 15,
     "metadata": {},
     "output_type": "execute_result"
    }
   ],
   "source": [
    "selected_cnds_all"
   ]
  },
  {
   "cell_type": "code",
   "execution_count": 17,
   "id": "777f1256-13fc-4874-a293-b35d407a537c",
   "metadata": {},
   "outputs": [],
   "source": [
    "lut_ratios = {\n",
    "    \n",
    " '121_default': \"#069e1d\",\n",
    " 'g1_61_def': \"#fa6f0c\"\n",
    "}"
   ]
  },
  {
   "cell_type": "code",
   "execution_count": 21,
   "id": "5f074636-61be-4717-af72-a50071869ea1",
   "metadata": {},
   "outputs": [],
   "source": [
    "ratios2plot_names = [ \"NADc/NADHc n\", \"NADc/NADHc a\", \"NADm/NADHm n\",\"NADm/NADHm a\", \"NADPc/NADPHc n\",\"NADPc/NADPHc a\", \n",
    "                     \"ATPc/ADPc n\",\"ATPc/ADPc a\", \"ATPm/ADPm n\",\"ATPm/ADPm a\", \"ATPi/ADPi n\",\"ATPi/ADPi a\"]\n",
    "    "
   ]
  },
  {
   "cell_type": "code",
   "execution_count": null,
   "id": "41ab30f5-7beb-42f8-bed3-d1369792b8a8",
   "metadata": {},
   "outputs": [],
   "source": []
  },
  {
   "cell_type": "code",
   "execution_count": 22,
   "id": "e7e5fbca-da13-4f48-ab58-4a83b9fcbf21",
   "metadata": {
    "tags": []
   },
   "outputs": [
    {
     "data": {
      "image/png": "[encoded data removed]",
      "text/plain": [
       "<Figure size 360x864 with 12 Axes>"
      ]
     },
     "metadata": {
      "needs_background": "light"
     },
     "output_type": "display_data"
    }
   ],
   "source": [
    "fig, axs = plt.subplots(nrows=6, ncols=2, figsize=(5,12)) \n",
    "\n",
    "\n",
    "for i,selected_cnds in enumerate(selected_cnds_all):\n",
    "    \n",
    "    NADcNADHc_n = (NADtot_c - input_df.loc[(input_df['time_s']>=180) & (input_df['condition']==selected_cnds) ,\"NADH_n\"].values)/input_df.loc[(input_df['time_s']>=180) & (input_df['condition']==selected_cnds) ,\"NADH_n\"].values\n",
    "    NADcNADHc_a = (NADtot_c - input_df.loc[(input_df['time_s']>=180) & (input_df['condition']==selected_cnds) ,\"NADH_a\"].values)/input_df.loc[(input_df['time_s']>=180) & (input_df['condition']==selected_cnds) ,\"NADH_a\"].values\n",
    "\n",
    "    NADmNADHm_n = (NADtot_m - input_df.loc[(input_df['time_s']>=180) & (input_df['condition']==selected_cnds) ,\"NADHmito_n\"].values)/input_df.loc[(input_df['time_s']>=180) & (input_df['condition']==selected_cnds) ,\"NADHmito_n\"].values\n",
    "    NADmNADHm_a = (NADtot_m - input_df.loc[(input_df['time_s']>=180) & (input_df['condition']==selected_cnds) ,\"NADHmito_a\"].values)/input_df.loc[(input_df['time_s']>=180) & (input_df['condition']==selected_cnds) ,\"NADHmito_a\"].values\n",
    "\n",
    "    NADPcNADPHc_n = (NADtot_c - input_df.loc[(input_df['time_s']>=180) & (input_df['condition']==selected_cnds) ,\"NADH_n\"].values)/input_df.loc[(input_df['time_s']>=180) & (input_df['condition']==selected_cnds) ,\"NADH_n\"].values\n",
    "    NADPcNADPHc_a = (NADtot_c - input_df.loc[(input_df['time_s']>=180) & (input_df['condition']==selected_cnds) ,\"NADH_a\"].values)/input_df.loc[(input_df['time_s']>=180) & (input_df['condition']==selected_cnds) ,\"NADH_a\"].values\n",
    "\n",
    "    ADP_n = (input_df.loc[(input_df['time_s']>=180) & (input_df['condition']==selected_cnds) ,\"ATP_n\"].values)/2*(-qAK+np.sqrt(qAK*qAK+4*qAK*(ATDPtot_n/(input_df.loc[(input_df['time_s']>=180) & (input_df['condition']==selected_cnds) ,\"ATP_n\"].values)-1)))\n",
    "    ADP_a = (input_df.loc[(input_df['time_s']>=180) & (input_df['condition']==selected_cnds) ,\"ATP_a\"].values)/2*(-qAK+np.sqrt(qAK*qAK+4*qAK*(ATDPtot_a/(input_df.loc[(input_df['time_s']>=180) & (input_df['condition']==selected_cnds) ,\"ATP_a\"].values)-1)))\n",
    "\n",
    "    ATPADPc_n = input_df.loc[(input_df['time_s']>=180) & (input_df['condition']==selected_cnds) ,\"ATP_n\"].values / ADP_n\n",
    "    ATPADPc_a = input_df.loc[(input_df['time_s']>=180) & (input_df['condition']==selected_cnds) ,\"ATP_a\"].values / ADP_a\n",
    "\n",
    "    ATPADPm_n = input_df.loc[(input_df['time_s']>=180) & (input_df['condition']==selected_cnds) ,\"ATPmito_n\"].values / input_df.loc[(input_df['time_s']>=180) & (input_df['condition']==selected_cnds) ,\"ADPmito_n\"].values \n",
    "    ATPADPm_a = input_df.loc[(input_df['time_s']>=180) & (input_df['condition']==selected_cnds) ,\"ATPmito_a\"].values / input_df.loc[(input_df['time_s']>=180) & (input_df['condition']==selected_cnds) ,\"ADPmito_a\"].values \n",
    "    \n",
    "    ATPADPi_n = input_df.loc[(input_df['time_s']>=180) & (input_df['condition']==selected_cnds) ,\"ATP_i_n\"].values / input_df.loc[(input_df['time_s']>=180) & (input_df['condition']==selected_cnds) ,\"ADP_i_n\"].values \n",
    "    ATPADPi_a = input_df.loc[(input_df['time_s']>=180) & (input_df['condition']==selected_cnds) ,\"ATP_i_a\"].values / input_df.loc[(input_df['time_s']>=180) & (input_df['condition']==selected_cnds) ,\"ADP_i_a\"].values \n",
    "    \n",
    "\n",
    "    ratios2plot = [ NADcNADHc_n, NADcNADHc_a, NADmNADHm_n,NADmNADHm_a, NADPcNADPHc_n,NADPcNADPHc_a, ATPADPc_n,ATPADPc_a, ATPADPm_n,ATPADPm_a, ATPADPi_n,ATPADPi_a ]\n",
    "    \n",
    "    j = 0\n",
    "    \n",
    "    for met, ax in zip(ratios2plot, axs.ravel()):\n",
    "\n",
    "        \n",
    "        ax.axvspan(200, 230, color='lightgrey', alpha=0.5)\n",
    "\n",
    "        g = sns.lineplot(x=np.arange(180,int(1+input_df['time_s'].max())), y=met, lw=2,alpha=0.75, ax=ax,\n",
    "                        color=lut_ratios[selected_cnds],label=selected_cnds_all[i] ) \n",
    "        \n",
    "        # if you don't like lines having different style, remove from this line the following: ,style=\"condition\"\n",
    "\n",
    "        ax.legend([],[], frameon=False)\n",
    "\n",
    "        \n",
    "        \n",
    "        ax.set_xlabel(\"t, s\")\n",
    "        ax.set_ylabel(\"Ratio, a.u.\")\n",
    "\n",
    "        ax.set_title(ratios2plot_names[j] ) # + \" \" + selected_cnds\n",
    "        \n",
    "        j = j + 1\n",
    "        \n",
    "        ax.spines.top.set_visible(False)\n",
    "        ax.spines.right.set_visible(False)\n",
    "\n",
    "        \n",
    "        \n",
    "plt.subplots_adjust(hspace=1)        \n",
    "plt.subplots_adjust(wspace=0.35)        \n",
    "\n",
    "\n",
    "handles, labels = ax.get_legend_handles_labels()\n",
    "\n",
    "labels2names = {'121_default':'control', 'g1_61_def':'GLUT1-def.'}\n",
    "\n",
    "fig.legend(handles, [labels2names[i] for i in labels],bbox_to_anchor=(1.5, 1.0),frameon=False)  \n",
    "\n",
    "fig.tight_layout()\n",
    "plt.show()    \n"
   ]
  },
  {
   "cell_type": "code",
   "execution_count": 23,
   "id": "fe752d9a-a85c-47b0-8f5b-9df2f5cea9d0",
   "metadata": {},
   "outputs": [],
   "source": [
    "if savefigures == True:\n",
    "    \n",
    "    spec_id = \"ratios_\"\n",
    "    \n",
    "    fig.savefig(outpath +  spec_id +  timestr + \".pdf\",transparent=False, bbox_inches=\"tight\")\n",
    "    fig.savefig(outpath +  spec_id +  timestr + \".png\",dpi=300,transparent=False, bbox_inches=\"tight\")\n"
   ]
  },
  {
   "cell_type": "code",
   "execution_count": null,
   "id": "149c9f7a-e1bd-4104-acbc-d8b7ed3c9079",
   "metadata": {},
   "outputs": [],
   "source": []
  },
  {
   "cell_type": "code",
   "execution_count": null,
   "id": "0e240682-1cde-486e-b6a6-26655b5c6186",
   "metadata": {},
   "outputs": [],
   "source": []
  },
  {
   "cell_type": "code",
   "execution_count": null,
   "id": "d50ff007-399c-44ef-9e79-e8651d94c4b7",
   "metadata": {},
   "outputs": [],
   "source": []
  }
 ],
 "metadata": {
  "kernelspec": {
   "display_name": "Python 3 (ipykernel)",
   "language": "python",
   "name": "python3"
  },
  "language_info": {
   "codemirror_mode": {
    "name": "ipython",
    "version": 3
   },
   "file_extension": ".py",
   "mimetype": "text/x-python",
   "name": "python",
   "nbconvert_exporter": "python",
   "pygments_lexer": "ipython3",
   "version": "3.9.4"
  }
 },
 "nbformat": 4,
 "nbformat_minor": 5
}
