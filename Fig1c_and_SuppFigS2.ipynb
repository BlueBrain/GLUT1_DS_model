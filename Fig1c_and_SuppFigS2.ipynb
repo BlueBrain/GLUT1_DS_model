{
 "cells": [
  {
   "cell_type": "code",
   "execution_count": 1,
   "id": "bc66269b-0c5a-4d5f-b860-19c7f85c5e6a",
   "metadata": {},
   "outputs": [
    {
     "name": "stdout",
     "output_type": "stream",
     "text": [
      "202310301520\n"
     ]
    }
   ],
   "source": [
    "import pandas as pd\n",
    "import numpy as np\n",
    "import json\n",
    "from itertools import chain\n",
    "\n",
    "import matplotlib.pyplot as plt\n",
    "import matplotlib as mpl\n",
    "\n",
    "import seaborn as sns\n",
    "\n",
    "import time\n",
    "import glob\n",
    "\n",
    "\n",
    "params = {\n",
    "   'axes.labelsize': 14,\n",
    "   'font.size': 14,\n",
    "   'legend.fontsize': 14,\n",
    "   'xtick.labelsize': 14,\n",
    "   'ytick.labelsize': 14,\n",
    "   'text.usetex': False,\n",
    "   'figure.figsize': [4.5, 4.5],\n",
    "    'savefig.facecolor':'white'\n",
    "   }\n",
    "\n",
    "mpl.rcParams.update(params)\n",
    "\n",
    "\n",
    "import random \n",
    "random.seed(12357)\n",
    "np.random.seed(12357)\n",
    "\n",
    "\n",
    "import pprint \n",
    "ppdict = pprint.PrettyPrinter(indent=4, sort_dicts=False)\n",
    "\n",
    "\n",
    "from sklearn.preprocessing import StandardScaler\n",
    "from sklearn.decomposition import PCA\n",
    "\n",
    "import umap\n",
    "import hdbscan\n",
    "import sklearn.cluster as cluster\n",
    "from sklearn.metrics import adjusted_rand_score, adjusted_mutual_info_score\n",
    "\n",
    "\n",
    "timestr = time.strftime(\"%Y%m%d%H%M\")\n",
    "print(timestr) "
   ]
  },
  {
   "cell_type": "code",
   "execution_count": 2,
   "id": "ec79ffb8-4748-451f-9e09-da4fb97290ce",
   "metadata": {},
   "outputs": [
    {
     "name": "stdout",
     "output_type": "stream",
     "text": [
      "1\n"
     ]
    }
   ],
   "source": [
    "sol_saveat_dt = [1,1e-4][0]\n",
    "\n",
    "print(sol_saveat_dt)\n",
    "\n",
    "inpath = \"output/\"\n",
    "outpath = \"figures/fig3/\" "
   ]
  },
  {
   "cell_type": "code",
   "execution_count": 3,
   "id": "362cf4c6-8571-416c-895f-4c98ab21d22c",
   "metadata": {},
   "outputs": [],
   "source": [
    "##############################################\n",
    "# set to True to save fig\n",
    "\n",
    "savefigures = True #False #True \n",
    "\n",
    "##############################################"
   ]
  },
  {
   "cell_type": "code",
   "execution_count": 4,
   "id": "076a1ac5-9b51-4347-ae72-e72405a25595",
   "metadata": {},
   "outputs": [
    {
     "name": "stdout",
     "output_type": "stream",
     "text": [
      "190\n"
     ]
    }
   ],
   "source": [
    "! ls -lh output | grep \"_u\\.\" | grep \"sim_\" | wc -l"
   ]
  },
  {
   "cell_type": "code",
   "execution_count": 5,
   "id": "7652545c-2367-49a2-8aba-cce2f81e7813",
   "metadata": {},
   "outputs": [
    {
     "name": "stdout",
     "output_type": "stream",
     "text": [
      "190\n"
     ]
    }
   ],
   "source": [
    "print(len(glob.glob(inpath+\"*_u.csv\"))) "
   ]
  },
  {
   "cell_type": "code",
   "execution_count": 6,
   "id": "2e9d4f1e-d2ce-4704-9767-8629bfd31040",
   "metadata": {},
   "outputs": [],
   "source": [
    "input_file_ids = [i.rstrip(\"_u.csv\") for i in glob.glob(inpath+\"*_u.csv\")]\n",
    "\n",
    "\n",
    "input_file_ids = sorted(input_file_ids)"
   ]
  },
  {
   "cell_type": "code",
   "execution_count": 7,
   "id": "1c4e28f1-18d0-47bd-a39a-fc5ebf8bae0b",
   "metadata": {
    "tags": []
   },
   "outputs": [],
   "source": [
    "input_dfs = []\n",
    "\n",
    "for fid in input_file_ids:\n",
    "\n",
    "    dfn = fid + \"_u.csv\"\n",
    "    tfn = fid + \"_t.csv\"\n",
    "    nfn = fid + \"_unames.csv\"\n",
    "    \n",
    "    df = pd.read_csv(dfn,header=None)\n",
    "    tf = pd.read_csv(tfn,header=None)\n",
    "    nf = pd.read_csv(nfn,header=None)\n",
    "    \n",
    "    df.columns = [i[:-1] for i in nf[0].values.tolist() ]\n",
    "    \n",
    "    df['time_s'] = tf[0].copy()\n",
    "    df['condition'] = fid.replace(\"output/sim_\",\"\").split(\"_extraTag\",1)[0]\n",
    "    \n",
    "    input_dfs.append(df)\n",
    "    \n",
    "input_df = pd.concat(input_dfs, axis=0, ignore_index=True)"
   ]
  },
  {
   "cell_type": "code",
   "execution_count": 8,
   "id": "3b0f2a57-e5fc-44cd-89e9-d42d93278704",
   "metadata": {},
   "outputs": [
    {
     "name": "stdout",
     "output_type": "stream",
     "text": [
      "(58900, 185)\n"
     ]
    }
   ],
   "source": [
    "print(input_df.shape)"
   ]
  },
  {
   "cell_type": "code",
   "execution_count": 9,
   "id": "ac3642b9-ef06-4a95-98bb-09dcc98b2aad",
   "metadata": {},
   "outputs": [],
   "source": [
    "input_df = input_df.reindex(sorted(input_df.columns), axis=1)"
   ]
  },
  {
   "cell_type": "code",
   "execution_count": 10,
   "id": "7daeb693-b85a-491e-a588-03514f44a022",
   "metadata": {},
   "outputs": [],
   "source": [
    "input_df = input_df.loc[input_df['time_s']>180,:]\n",
    "input_df = input_df.reset_index(drop=True)"
   ]
  },
  {
   "cell_type": "code",
   "execution_count": 11,
   "id": "acbb632f-a389-43a7-8c87-1855ab9197a1",
   "metadata": {},
   "outputs": [
    {
     "data": {
      "text/html": [
       "<div>\n",
       "<style scoped>\n",
       "    .dataframe tbody tr th:only-of-type {\n",
       "        vertical-align: middle;\n",
       "    }\n",
       "\n",
       "    .dataframe tbody tr th {\n",
       "        vertical-align: top;\n",
       "    }\n",
       "\n",
       "    .dataframe thead th {\n",
       "        text-align: right;\n",
       "    }\n",
       "</style>\n",
       "<table border=\"1\" class=\"dataframe\">\n",
       "  <thead>\n",
       "    <tr style=\"text-align: right;\">\n",
       "      <th></th>\n",
       "      <th>ADP_a</th>\n",
       "      <th>ADP_i_a</th>\n",
       "      <th>ADP_i_n</th>\n",
       "      <th>ADP_mi_a</th>\n",
       "      <th>ADP_mi_n</th>\n",
       "      <th>ADP_mx_a</th>\n",
       "      <th>ADP_mx_n</th>\n",
       "      <th>ADP_n</th>\n",
       "      <th>ADPmito_a</th>\n",
       "      <th>ADPmito_n</th>\n",
       "      <th>...</th>\n",
       "      <th>f26bp_a</th>\n",
       "      <th>h</th>\n",
       "      <th>hIP3Ca_a</th>\n",
       "      <th>mGluRboundRatio_a</th>\n",
       "      <th>n</th>\n",
       "      <th>nBK_a</th>\n",
       "      <th>pgate</th>\n",
       "      <th>sTRP_a</th>\n",
       "      <th>time_s</th>\n",
       "      <th>vV</th>\n",
       "    </tr>\n",
       "  </thead>\n",
       "  <tbody>\n",
       "    <tr>\n",
       "      <th>0</th>\n",
       "      <td>0.045</td>\n",
       "      <td>0.045969</td>\n",
       "      <td>0.057954</td>\n",
       "      <td>0.045225</td>\n",
       "      <td>0.056787</td>\n",
       "      <td>1.152120</td>\n",
       "      <td>1.131716</td>\n",
       "      <td>0.047784</td>\n",
       "      <td>1.759665</td>\n",
       "      <td>1.856772</td>\n",
       "      <td>...</td>\n",
       "      <td>0.012238</td>\n",
       "      <td>0.991528</td>\n",
       "      <td>0.653282</td>\n",
       "      <td>0.0</td>\n",
       "      <td>0.021990</td>\n",
       "      <td>0.000007</td>\n",
       "      <td>0.023936</td>\n",
       "      <td>0.001238</td>\n",
       "      <td>181.0</td>\n",
       "      <td>0.0237</td>\n",
       "    </tr>\n",
       "    <tr>\n",
       "      <th>1</th>\n",
       "      <td>0.045</td>\n",
       "      <td>0.045971</td>\n",
       "      <td>0.057954</td>\n",
       "      <td>0.045227</td>\n",
       "      <td>0.056787</td>\n",
       "      <td>1.152133</td>\n",
       "      <td>1.131715</td>\n",
       "      <td>0.047784</td>\n",
       "      <td>1.759688</td>\n",
       "      <td>1.856772</td>\n",
       "      <td>...</td>\n",
       "      <td>0.012238</td>\n",
       "      <td>0.991528</td>\n",
       "      <td>0.653285</td>\n",
       "      <td>0.0</td>\n",
       "      <td>0.021989</td>\n",
       "      <td>0.000007</td>\n",
       "      <td>0.023936</td>\n",
       "      <td>0.001238</td>\n",
       "      <td>182.0</td>\n",
       "      <td>0.0237</td>\n",
       "    </tr>\n",
       "    <tr>\n",
       "      <th>2</th>\n",
       "      <td>0.045</td>\n",
       "      <td>0.045973</td>\n",
       "      <td>0.057954</td>\n",
       "      <td>0.045230</td>\n",
       "      <td>0.056787</td>\n",
       "      <td>1.152145</td>\n",
       "      <td>1.131715</td>\n",
       "      <td>0.047784</td>\n",
       "      <td>1.759712</td>\n",
       "      <td>1.856771</td>\n",
       "      <td>...</td>\n",
       "      <td>0.012239</td>\n",
       "      <td>0.991528</td>\n",
       "      <td>0.653289</td>\n",
       "      <td>0.0</td>\n",
       "      <td>0.021989</td>\n",
       "      <td>0.000007</td>\n",
       "      <td>0.023936</td>\n",
       "      <td>0.001238</td>\n",
       "      <td>183.0</td>\n",
       "      <td>0.0237</td>\n",
       "    </tr>\n",
       "  </tbody>\n",
       "</table>\n",
       "<p>3 rows × 185 columns</p>\n",
       "</div>"
      ],
      "text/plain": [
       "   ADP_a   ADP_i_a   ADP_i_n  ADP_mi_a  ADP_mi_n  ADP_mx_a  ADP_mx_n  \\\n",
       "0  0.045  0.045969  0.057954  0.045225  0.056787  1.152120  1.131716   \n",
       "1  0.045  0.045971  0.057954  0.045227  0.056787  1.152133  1.131715   \n",
       "2  0.045  0.045973  0.057954  0.045230  0.056787  1.152145  1.131715   \n",
       "\n",
       "      ADP_n  ADPmito_a  ADPmito_n  ...   f26bp_a         h  hIP3Ca_a  \\\n",
       "0  0.047784   1.759665   1.856772  ...  0.012238  0.991528  0.653282   \n",
       "1  0.047784   1.759688   1.856772  ...  0.012238  0.991528  0.653285   \n",
       "2  0.047784   1.759712   1.856771  ...  0.012239  0.991528  0.653289   \n",
       "\n",
       "   mGluRboundRatio_a         n     nBK_a     pgate    sTRP_a  time_s      vV  \n",
       "0                0.0  0.021990  0.000007  0.023936  0.001238   181.0  0.0237  \n",
       "1                0.0  0.021989  0.000007  0.023936  0.001238   182.0  0.0237  \n",
       "2                0.0  0.021989  0.000007  0.023936  0.001238   183.0  0.0237  \n",
       "\n",
       "[3 rows x 185 columns]"
      ]
     },
     "execution_count": 11,
     "metadata": {},
     "output_type": "execute_result"
    }
   ],
   "source": [
    "input_df.head(3)"
   ]
  },
  {
   "cell_type": "code",
   "execution_count": 12,
   "id": "63787583-8828-4500-b2b2-0882aa53abfe",
   "metadata": {},
   "outputs": [
    {
     "data": {
      "text/plain": [
       "190"
      ]
     },
     "execution_count": 12,
     "metadata": {},
     "output_type": "execute_result"
    }
   ],
   "source": [
    "all_cnds_l = sorted(input_df['condition'].unique())\n",
    "len(all_cnds_l)"
   ]
  },
  {
   "cell_type": "code",
   "execution_count": 13,
   "id": "39dc2772-0363-48af-ad88-0aa89500f075",
   "metadata": {},
   "outputs": [],
   "source": [
    "sel_cnds = [\"121_default\",\"g1_61_def\"]"
   ]
  },
  {
   "cell_type": "code",
   "execution_count": 14,
   "id": "dbdffc8e-65ee-4c2b-9437-ebbd657ebdfa",
   "metadata": {},
   "outputs": [
    {
     "name": "stdout",
     "output_type": "stream",
     "text": [
      "37\n"
     ]
    }
   ],
   "source": [
    "sel_mets = [i[0:-1] for i in [     \n",
    "                    \"Glc_t_t0\", \"Glc_ecsBA0\", \"Glc_a0\", \"Glc_ecsAN0\", \"Glc_n0\", \"FBP_n0\", \"FBP_a0\", \"DHAP_n0\", \"DHAP_a0\",\"GAP_n0\", \"GAP_a0\", \"Lac_b0\", \"Lac_ecs0\", \"Lac_a0\", \"Lac_n0\",\n",
    "    \"FUMmito_n0\", \"MALmito_n0\", \"OXAmito_n0\", \"SUCmito_n0\", \"SUCCOAmito_n0\", \"CoAmito_n0\", \n",
    "            \"AKGmito_n0\",  \"ISOCITmito_n0\", \"CITmito_n0\", \"AcCoAmito_n0\",  \"PYRmito_n0\",  \n",
    "    \"FUMmito_a0\", \"MALmito_a0\", \"OXAmito_a0\", \"SUCmito_a0\", \"SUCCOAmito_a0\", \"CoAmito_a0\", \n",
    "            \"AKGmito_a0\", \"ISOCITmito_a0\", \"CITmito_a0\", \"AcCoAmito_a0\", \"PYRmito_a0\"\n",
    "    \n",
    "]]\n",
    "\n",
    "\n",
    "anaplerotics = [i[0:-1] for i in [  \"FUMmito_n0\", \"MALmito_n0\", \"OXAmito_n0\", \"SUCmito_n0\", \"SUCCOAmito_n0\", \"CoAmito_n0\", \n",
    "            \"AKGmito_n0\",  \"ISOCITmito_n0\", \"CITmito_n0\", \"AcCoAmito_n0\",  \"PYRmito_n0\",  \n",
    "    \"FUMmito_a0\", \"MALmito_a0\", \"OXAmito_a0\", \"SUCmito_a0\", \"SUCCOAmito_a0\", \"CoAmito_a0\", \n",
    "            \"AKGmito_a0\", \"ISOCITmito_a0\", \"CITmito_a0\", \"AcCoAmito_a0\", \"PYRmito_a0\"\n",
    "        ]]\n",
    "        \n",
    "jay_selected = [i[0:-1] for i in [\"AKGmito_n0\",\"AKGmito_a0\",  \"OXAmito_n0\",\"OXAmito_a0\", \"SUCCOAmito_n0\",\"SUCCOAmito_a0\", \"FUMmito_n0\",\"FUMmito_a0\"]]\n",
    "\n",
    "print(len(sel_mets))"
   ]
  },
  {
   "cell_type": "code",
   "execution_count": null,
   "id": "0cc60905-5be2-4c69-98ea-2686e1cc3774",
   "metadata": {},
   "outputs": [],
   "source": []
  },
  {
   "cell_type": "code",
   "execution_count": 15,
   "id": "a433d92d-30fe-4cd1-9838-16050dcb583e",
   "metadata": {},
   "outputs": [],
   "source": [
    "input_df_mp = input_df.loc[input_df['condition'].isin(sel_cnds),sel_mets + ['condition', 'time_s']].copy()  "
   ]
  },
  {
   "cell_type": "code",
   "execution_count": 16,
   "id": "cf604ea6-8443-4fbb-8761-3734e7f3766a",
   "metadata": {},
   "outputs": [],
   "source": [
    "input_df_mpl = pd.melt(input_df_mp,id_vars=['condition','time_s'])\n"
   ]
  },
  {
   "cell_type": "code",
   "execution_count": 17,
   "id": "b175ec09-e66f-472c-ad8d-73ae86d5225a",
   "metadata": {},
   "outputs": [
    {
     "data": {
      "text/html": [
       "<div>\n",
       "<style scoped>\n",
       "    .dataframe tbody tr th:only-of-type {\n",
       "        vertical-align: middle;\n",
       "    }\n",
       "\n",
       "    .dataframe tbody tr th {\n",
       "        vertical-align: top;\n",
       "    }\n",
       "\n",
       "    .dataframe thead th {\n",
       "        text-align: right;\n",
       "    }\n",
       "</style>\n",
       "<table border=\"1\" class=\"dataframe\">\n",
       "  <thead>\n",
       "    <tr style=\"text-align: right;\">\n",
       "      <th></th>\n",
       "      <th>condition</th>\n",
       "      <th>time_s</th>\n",
       "      <th>variable</th>\n",
       "      <th>value</th>\n",
       "    </tr>\n",
       "  </thead>\n",
       "  <tbody>\n",
       "    <tr>\n",
       "      <th>0</th>\n",
       "      <td>121_default</td>\n",
       "      <td>181.0</td>\n",
       "      <td>Glc_t_t</td>\n",
       "      <td>1.399852</td>\n",
       "    </tr>\n",
       "    <tr>\n",
       "      <th>1</th>\n",
       "      <td>121_default</td>\n",
       "      <td>182.0</td>\n",
       "      <td>Glc_t_t</td>\n",
       "      <td>1.399846</td>\n",
       "    </tr>\n",
       "    <tr>\n",
       "      <th>2</th>\n",
       "      <td>121_default</td>\n",
       "      <td>183.0</td>\n",
       "      <td>Glc_t_t</td>\n",
       "      <td>1.399840</td>\n",
       "    </tr>\n",
       "  </tbody>\n",
       "</table>\n",
       "</div>"
      ],
      "text/plain": [
       "     condition  time_s variable     value\n",
       "0  121_default   181.0  Glc_t_t  1.399852\n",
       "1  121_default   182.0  Glc_t_t  1.399846\n",
       "2  121_default   183.0  Glc_t_t  1.399840"
      ]
     },
     "execution_count": 17,
     "metadata": {},
     "output_type": "execute_result"
    }
   ],
   "source": [
    "input_df_mpl.head(3)"
   ]
  },
  {
   "cell_type": "code",
   "execution_count": 18,
   "id": "b6572ed6-f106-428e-a69a-1e931938aaf0",
   "metadata": {},
   "outputs": [],
   "source": [
    "input_df_mpl['log_conc'] = np.log(input_df_mpl['value'])"
   ]
  },
  {
   "cell_type": "code",
   "execution_count": null,
   "id": "78bb2b15-7f18-4ef7-8841-e9e995110a3b",
   "metadata": {},
   "outputs": [],
   "source": []
  },
  {
   "cell_type": "code",
   "execution_count": 19,
   "id": "d2a0ee26-d5d8-4251-9583-2dcfdfd5c187",
   "metadata": {},
   "outputs": [],
   "source": [
    "lut_cnds = {'121_default':\"#069e1d\", \n",
    "                'g1_61_def':\"#fa6f0c\"\n",
    "               }\n"
   ]
  },
  {
   "cell_type": "code",
   "execution_count": null,
   "id": "0783d9fb-3118-47c7-ab56-f43057340846",
   "metadata": {},
   "outputs": [],
   "source": []
  },
  {
   "cell_type": "code",
   "execution_count": 20,
   "id": "0fb1edc2-427c-4194-9a6a-53fac59f0911",
   "metadata": {},
   "outputs": [],
   "source": [
    "tmp = pd.DataFrame(input_df_mpl.loc[input_df_mpl['variable'].isin(sel_mets),['variable','value','condition']].groupby(['variable','condition']).apply(np.median))\n",
    "\n",
    "tmp = tmp.sort_values(by=0)"
   ]
  },
  {
   "cell_type": "code",
   "execution_count": 21,
   "id": "cebaf6da-7492-4f47-a0d9-d78f4355c94a",
   "metadata": {},
   "outputs": [],
   "source": [
    "tmp = tmp.reset_index(drop=False)"
   ]
  },
  {
   "cell_type": "code",
   "execution_count": 22,
   "id": "dfa15e3c-8880-42a7-8914-9ced8952e7bc",
   "metadata": {},
   "outputs": [
    {
     "data": {
      "text/html": [
       "<div>\n",
       "<style scoped>\n",
       "    .dataframe tbody tr th:only-of-type {\n",
       "        vertical-align: middle;\n",
       "    }\n",
       "\n",
       "    .dataframe tbody tr th {\n",
       "        vertical-align: top;\n",
       "    }\n",
       "\n",
       "    .dataframe thead th {\n",
       "        text-align: right;\n",
       "    }\n",
       "</style>\n",
       "<table border=\"1\" class=\"dataframe\">\n",
       "  <thead>\n",
       "    <tr style=\"text-align: right;\">\n",
       "      <th></th>\n",
       "      <th>variable</th>\n",
       "      <th>condition</th>\n",
       "      <th>0</th>\n",
       "    </tr>\n",
       "  </thead>\n",
       "  <tbody>\n",
       "    <tr>\n",
       "      <th>0</th>\n",
       "      <td>GAP_n</td>\n",
       "      <td>g1_61_def</td>\n",
       "      <td>0.001215</td>\n",
       "    </tr>\n",
       "    <tr>\n",
       "      <th>1</th>\n",
       "      <td>GAP_n</td>\n",
       "      <td>121_default</td>\n",
       "      <td>0.001230</td>\n",
       "    </tr>\n",
       "    <tr>\n",
       "      <th>2</th>\n",
       "      <td>SUCCOAmito_a</td>\n",
       "      <td>g1_61_def</td>\n",
       "      <td>0.001675</td>\n",
       "    </tr>\n",
       "    <tr>\n",
       "      <th>3</th>\n",
       "      <td>SUCCOAmito_a</td>\n",
       "      <td>121_default</td>\n",
       "      <td>0.001684</td>\n",
       "    </tr>\n",
       "    <tr>\n",
       "      <th>4</th>\n",
       "      <td>GAP_a</td>\n",
       "      <td>g1_61_def</td>\n",
       "      <td>0.001815</td>\n",
       "    </tr>\n",
       "    <tr>\n",
       "      <th>...</th>\n",
       "      <td>...</td>\n",
       "      <td>...</td>\n",
       "      <td>...</td>\n",
       "    </tr>\n",
       "    <tr>\n",
       "      <th>69</th>\n",
       "      <td>Glc_t_t</td>\n",
       "      <td>g1_61_def</td>\n",
       "      <td>0.943114</td>\n",
       "    </tr>\n",
       "    <tr>\n",
       "      <th>70</th>\n",
       "      <td>Glc_ecsAN</td>\n",
       "      <td>121_default</td>\n",
       "      <td>1.001148</td>\n",
       "    </tr>\n",
       "    <tr>\n",
       "      <th>71</th>\n",
       "      <td>Glc_a</td>\n",
       "      <td>121_default</td>\n",
       "      <td>1.219554</td>\n",
       "    </tr>\n",
       "    <tr>\n",
       "      <th>72</th>\n",
       "      <td>Glc_ecsBA</td>\n",
       "      <td>121_default</td>\n",
       "      <td>1.298903</td>\n",
       "    </tr>\n",
       "    <tr>\n",
       "      <th>73</th>\n",
       "      <td>Glc_t_t</td>\n",
       "      <td>121_default</td>\n",
       "      <td>1.399190</td>\n",
       "    </tr>\n",
       "  </tbody>\n",
       "</table>\n",
       "<p>74 rows × 3 columns</p>\n",
       "</div>"
      ],
      "text/plain": [
       "        variable    condition         0\n",
       "0          GAP_n    g1_61_def  0.001215\n",
       "1          GAP_n  121_default  0.001230\n",
       "2   SUCCOAmito_a    g1_61_def  0.001675\n",
       "3   SUCCOAmito_a  121_default  0.001684\n",
       "4          GAP_a    g1_61_def  0.001815\n",
       "..           ...          ...       ...\n",
       "69       Glc_t_t    g1_61_def  0.943114\n",
       "70     Glc_ecsAN  121_default  1.001148\n",
       "71         Glc_a  121_default  1.219554\n",
       "72     Glc_ecsBA  121_default  1.298903\n",
       "73       Glc_t_t  121_default  1.399190\n",
       "\n",
       "[74 rows x 3 columns]"
      ]
     },
     "execution_count": 22,
     "metadata": {},
     "output_type": "execute_result"
    }
   ],
   "source": [
    "tmp"
   ]
  },
  {
   "cell_type": "code",
   "execution_count": 23,
   "id": "db545d67-9cb5-449e-a06c-d7d80efe1fbe",
   "metadata": {},
   "outputs": [
    {
     "data": {
      "text/plain": [
       "4"
      ]
     },
     "execution_count": 23,
     "metadata": {},
     "output_type": "execute_result"
    }
   ],
   "source": [
    "range1 = [i for i in tmp.loc[tmp[0]<0.005,'variable'].unique()  if not i in  anaplerotics]\n",
    "len(range1)"
   ]
  },
  {
   "cell_type": "code",
   "execution_count": 24,
   "id": "3f9f84da-93c2-46c9-97fa-3017504a6358",
   "metadata": {},
   "outputs": [
    {
     "data": {
      "text/plain": [
       "2"
      ]
     },
     "execution_count": 24,
     "metadata": {},
     "output_type": "execute_result"
    }
   ],
   "source": [
    "range2 = [i for i in tmp.loc[(tmp[0]>=0.005) & (tmp[0]<0.5),'variable'].unique()  if not i in  anaplerotics]\n",
    "len(range2)"
   ]
  },
  {
   "cell_type": "code",
   "execution_count": 25,
   "id": "d9c5417b-4eb8-4b94-9293-6afe71e6814d",
   "metadata": {},
   "outputs": [
    {
     "data": {
      "text/plain": [
       "4"
      ]
     },
     "execution_count": 25,
     "metadata": {},
     "output_type": "execute_result"
    }
   ],
   "source": [
    "range3 = [i for i in tmp.loc[(tmp[0]>=0.5) & (tmp[0]<1),'variable'].unique() if not i in anaplerotics + ['Glc_n', 'Glc_ecsAN','Glc_a', 'Glc_ecsBA','Glc_t_t']]\n",
    "len(range3)"
   ]
  },
  {
   "cell_type": "code",
   "execution_count": 26,
   "id": "9f903139-c318-413f-9765-8bdf90d896d8",
   "metadata": {},
   "outputs": [
    {
     "data": {
      "text/plain": [
       "5"
      ]
     },
     "execution_count": 26,
     "metadata": {},
     "output_type": "execute_result"
    }
   ],
   "source": [
    "range4 = ['Glc_n', 'Glc_ecsAN','Glc_a', 'Glc_ecsBA','Glc_t_t'] #tmp.loc[(tmp[0]>=1) ,'variable'].unique()\n",
    "len(range4)"
   ]
  },
  {
   "cell_type": "code",
   "execution_count": null,
   "id": "d95ae660-218d-4e5c-a238-7b79f7abd938",
   "metadata": {},
   "outputs": [],
   "source": []
  },
  {
   "cell_type": "code",
   "execution_count": 27,
   "id": "b6e13c67-510e-414a-bcfa-b9b1c61876cd",
   "metadata": {},
   "outputs": [
    {
     "data": {
      "text/plain": [
       "4"
      ]
     },
     "execution_count": 27,
     "metadata": {},
     "output_type": "execute_result"
    }
   ],
   "source": [
    "range1j = sorted([i for i in tmp.loc[tmp[0]<0.012,'variable'].unique()  if  i in  jay_selected])\n",
    "len(range1j)"
   ]
  },
  {
   "cell_type": "code",
   "execution_count": 28,
   "id": "b52cb89f-b5bf-4a83-b030-1631460f7972",
   "metadata": {},
   "outputs": [
    {
     "data": {
      "text/plain": [
       "4"
      ]
     },
     "execution_count": 28,
     "metadata": {},
     "output_type": "execute_result"
    }
   ],
   "source": [
    "range2j = sorted([i for i in tmp.loc[tmp[0]>=0.012,'variable'].unique()  if  i in  jay_selected])\n",
    "len(range2j)"
   ]
  },
  {
   "cell_type": "code",
   "execution_count": 29,
   "id": "0a6d6837-8938-4431-8f4a-ed1446bb5d95",
   "metadata": {},
   "outputs": [
    {
     "data": {
      "text/html": [
       "<div>\n",
       "<style scoped>\n",
       "    .dataframe tbody tr th:only-of-type {\n",
       "        vertical-align: middle;\n",
       "    }\n",
       "\n",
       "    .dataframe tbody tr th {\n",
       "        vertical-align: top;\n",
       "    }\n",
       "\n",
       "    .dataframe thead th {\n",
       "        text-align: right;\n",
       "    }\n",
       "</style>\n",
       "<table border=\"1\" class=\"dataframe\">\n",
       "  <thead>\n",
       "    <tr style=\"text-align: right;\">\n",
       "      <th></th>\n",
       "      <th>variable</th>\n",
       "      <th>condition</th>\n",
       "      <th>0</th>\n",
       "    </tr>\n",
       "  </thead>\n",
       "  <tbody>\n",
       "    <tr>\n",
       "      <th>2</th>\n",
       "      <td>SUCCOAmito_a</td>\n",
       "      <td>g1_61_def</td>\n",
       "      <td>0.001675</td>\n",
       "    </tr>\n",
       "    <tr>\n",
       "      <th>3</th>\n",
       "      <td>SUCCOAmito_a</td>\n",
       "      <td>121_default</td>\n",
       "      <td>0.001684</td>\n",
       "    </tr>\n",
       "    <tr>\n",
       "      <th>9</th>\n",
       "      <td>SUCCOAmito_n</td>\n",
       "      <td>g1_61_def</td>\n",
       "      <td>0.002565</td>\n",
       "    </tr>\n",
       "    <tr>\n",
       "      <th>11</th>\n",
       "      <td>SUCCOAmito_n</td>\n",
       "      <td>121_default</td>\n",
       "      <td>0.002669</td>\n",
       "    </tr>\n",
       "    <tr>\n",
       "      <th>18</th>\n",
       "      <td>OXAmito_a</td>\n",
       "      <td>g1_61_def</td>\n",
       "      <td>0.004460</td>\n",
       "    </tr>\n",
       "    <tr>\n",
       "      <th>19</th>\n",
       "      <td>OXAmito_a</td>\n",
       "      <td>121_default</td>\n",
       "      <td>0.004532</td>\n",
       "    </tr>\n",
       "    <tr>\n",
       "      <th>22</th>\n",
       "      <td>OXAmito_n</td>\n",
       "      <td>g1_61_def</td>\n",
       "      <td>0.011016</td>\n",
       "    </tr>\n",
       "    <tr>\n",
       "      <th>23</th>\n",
       "      <td>OXAmito_n</td>\n",
       "      <td>121_default</td>\n",
       "      <td>0.011122</td>\n",
       "    </tr>\n",
       "  </tbody>\n",
       "</table>\n",
       "</div>"
      ],
      "text/plain": [
       "        variable    condition         0\n",
       "2   SUCCOAmito_a    g1_61_def  0.001675\n",
       "3   SUCCOAmito_a  121_default  0.001684\n",
       "9   SUCCOAmito_n    g1_61_def  0.002565\n",
       "11  SUCCOAmito_n  121_default  0.002669\n",
       "18     OXAmito_a    g1_61_def  0.004460\n",
       "19     OXAmito_a  121_default  0.004532\n",
       "22     OXAmito_n    g1_61_def  0.011016\n",
       "23     OXAmito_n  121_default  0.011122"
      ]
     },
     "execution_count": 29,
     "metadata": {},
     "output_type": "execute_result"
    }
   ],
   "source": [
    "tmp.loc[tmp['variable'].isin(range1j)]"
   ]
  },
  {
   "cell_type": "code",
   "execution_count": 30,
   "id": "47c4a738-7f77-4e94-84aa-bb0df57b9204",
   "metadata": {},
   "outputs": [
    {
     "data": {
      "text/html": [
       "<div>\n",
       "<style scoped>\n",
       "    .dataframe tbody tr th:only-of-type {\n",
       "        vertical-align: middle;\n",
       "    }\n",
       "\n",
       "    .dataframe tbody tr th {\n",
       "        vertical-align: top;\n",
       "    }\n",
       "\n",
       "    .dataframe thead th {\n",
       "        text-align: right;\n",
       "    }\n",
       "</style>\n",
       "<table border=\"1\" class=\"dataframe\">\n",
       "  <thead>\n",
       "    <tr style=\"text-align: right;\">\n",
       "      <th></th>\n",
       "      <th>variable</th>\n",
       "      <th>condition</th>\n",
       "      <th>0</th>\n",
       "    </tr>\n",
       "  </thead>\n",
       "  <tbody>\n",
       "    <tr>\n",
       "      <th>26</th>\n",
       "      <td>AKGmito_a</td>\n",
       "      <td>121_default</td>\n",
       "      <td>0.014752</td>\n",
       "    </tr>\n",
       "    <tr>\n",
       "      <th>27</th>\n",
       "      <td>AKGmito_a</td>\n",
       "      <td>g1_61_def</td>\n",
       "      <td>0.014951</td>\n",
       "    </tr>\n",
       "    <tr>\n",
       "      <th>38</th>\n",
       "      <td>FUMmito_a</td>\n",
       "      <td>g1_61_def</td>\n",
       "      <td>0.049835</td>\n",
       "    </tr>\n",
       "    <tr>\n",
       "      <th>39</th>\n",
       "      <td>FUMmito_a</td>\n",
       "      <td>121_default</td>\n",
       "      <td>0.050373</td>\n",
       "    </tr>\n",
       "    <tr>\n",
       "      <th>40</th>\n",
       "      <td>AKGmito_n</td>\n",
       "      <td>g1_61_def</td>\n",
       "      <td>0.067736</td>\n",
       "    </tr>\n",
       "    <tr>\n",
       "      <th>41</th>\n",
       "      <td>FUMmito_n</td>\n",
       "      <td>g1_61_def</td>\n",
       "      <td>0.069111</td>\n",
       "    </tr>\n",
       "    <tr>\n",
       "      <th>42</th>\n",
       "      <td>FUMmito_n</td>\n",
       "      <td>121_default</td>\n",
       "      <td>0.069525</td>\n",
       "    </tr>\n",
       "    <tr>\n",
       "      <th>43</th>\n",
       "      <td>AKGmito_n</td>\n",
       "      <td>121_default</td>\n",
       "      <td>0.071883</td>\n",
       "    </tr>\n",
       "  </tbody>\n",
       "</table>\n",
       "</div>"
      ],
      "text/plain": [
       "     variable    condition         0\n",
       "26  AKGmito_a  121_default  0.014752\n",
       "27  AKGmito_a    g1_61_def  0.014951\n",
       "38  FUMmito_a    g1_61_def  0.049835\n",
       "39  FUMmito_a  121_default  0.050373\n",
       "40  AKGmito_n    g1_61_def  0.067736\n",
       "41  FUMmito_n    g1_61_def  0.069111\n",
       "42  FUMmito_n  121_default  0.069525\n",
       "43  AKGmito_n  121_default  0.071883"
      ]
     },
     "execution_count": 30,
     "metadata": {},
     "output_type": "execute_result"
    }
   ],
   "source": [
    "tmp.loc[tmp['variable'].isin(range2j)]"
   ]
  },
  {
   "cell_type": "code",
   "execution_count": null,
   "id": "d7e9feb0-ec29-474b-8e6d-e02d71e60e00",
   "metadata": {},
   "outputs": [],
   "source": []
  },
  {
   "cell_type": "code",
   "execution_count": 31,
   "id": "9bda0ee2-291a-49fd-9c07-c5ae5127389d",
   "metadata": {},
   "outputs": [
    {
     "data": {
      "text/plain": [
       "8"
      ]
     },
     "execution_count": 31,
     "metadata": {},
     "output_type": "execute_result"
    }
   ],
   "source": [
    "range1a = sorted([i for i in tmp.loc[tmp[0]<0.05,'variable'].unique() if (i in anaplerotics) and (i not in jay_selected) ])\n",
    "len(range1a)"
   ]
  },
  {
   "cell_type": "code",
   "execution_count": 32,
   "id": "fe9fd39c-d19d-4b54-8ba5-34d016790bea",
   "metadata": {},
   "outputs": [
    {
     "data": {
      "text/plain": [
       "6"
      ]
     },
     "execution_count": 32,
     "metadata": {},
     "output_type": "execute_result"
    }
   ],
   "source": [
    "range2a = sorted([i for i in tmp.loc[(tmp[0]>=0.05),'variable'].unique() if (i in anaplerotics) and (i not in jay_selected)  and (i not in range1a)])\n",
    "len(range2a)"
   ]
  },
  {
   "cell_type": "code",
   "execution_count": 33,
   "id": "d083c0b5-61c1-494c-9ea6-d7cef5d9af3f",
   "metadata": {},
   "outputs": [
    {
     "data": {
      "text/html": [
       "<div>\n",
       "<style scoped>\n",
       "    .dataframe tbody tr th:only-of-type {\n",
       "        vertical-align: middle;\n",
       "    }\n",
       "\n",
       "    .dataframe tbody tr th {\n",
       "        vertical-align: top;\n",
       "    }\n",
       "\n",
       "    .dataframe thead th {\n",
       "        text-align: right;\n",
       "    }\n",
       "</style>\n",
       "<table border=\"1\" class=\"dataframe\">\n",
       "  <thead>\n",
       "    <tr style=\"text-align: right;\">\n",
       "      <th></th>\n",
       "      <th>variable</th>\n",
       "      <th>condition</th>\n",
       "      <th>0</th>\n",
       "    </tr>\n",
       "  </thead>\n",
       "  <tbody>\n",
       "    <tr>\n",
       "      <th>6</th>\n",
       "      <td>CoAmito_a</td>\n",
       "      <td>g1_61_def</td>\n",
       "      <td>0.002495</td>\n",
       "    </tr>\n",
       "    <tr>\n",
       "      <th>7</th>\n",
       "      <td>CoAmito_a</td>\n",
       "      <td>121_default</td>\n",
       "      <td>0.002532</td>\n",
       "    </tr>\n",
       "    <tr>\n",
       "      <th>8</th>\n",
       "      <td>CoAmito_n</td>\n",
       "      <td>g1_61_def</td>\n",
       "      <td>0.002562</td>\n",
       "    </tr>\n",
       "    <tr>\n",
       "      <th>10</th>\n",
       "      <td>CoAmito_n</td>\n",
       "      <td>121_default</td>\n",
       "      <td>0.002613</td>\n",
       "    </tr>\n",
       "    <tr>\n",
       "      <th>16</th>\n",
       "      <td>AcCoAmito_a</td>\n",
       "      <td>121_default</td>\n",
       "      <td>0.004306</td>\n",
       "    </tr>\n",
       "    <tr>\n",
       "      <th>17</th>\n",
       "      <td>AcCoAmito_a</td>\n",
       "      <td>g1_61_def</td>\n",
       "      <td>0.004354</td>\n",
       "    </tr>\n",
       "    <tr>\n",
       "      <th>24</th>\n",
       "      <td>PYRmito_a</td>\n",
       "      <td>121_default</td>\n",
       "      <td>0.013180</td>\n",
       "    </tr>\n",
       "    <tr>\n",
       "      <th>25</th>\n",
       "      <td>PYRmito_a</td>\n",
       "      <td>g1_61_def</td>\n",
       "      <td>0.013314</td>\n",
       "    </tr>\n",
       "    <tr>\n",
       "      <th>30</th>\n",
       "      <td>ISOCITmito_n</td>\n",
       "      <td>121_default</td>\n",
       "      <td>0.033115</td>\n",
       "    </tr>\n",
       "    <tr>\n",
       "      <th>31</th>\n",
       "      <td>ISOCITmito_n</td>\n",
       "      <td>g1_61_def</td>\n",
       "      <td>0.033120</td>\n",
       "    </tr>\n",
       "    <tr>\n",
       "      <th>32</th>\n",
       "      <td>ISOCITmito_a</td>\n",
       "      <td>121_default</td>\n",
       "      <td>0.036082</td>\n",
       "    </tr>\n",
       "    <tr>\n",
       "      <th>33</th>\n",
       "      <td>ISOCITmito_a</td>\n",
       "      <td>g1_61_def</td>\n",
       "      <td>0.036085</td>\n",
       "    </tr>\n",
       "    <tr>\n",
       "      <th>34</th>\n",
       "      <td>AcCoAmito_n</td>\n",
       "      <td>121_default</td>\n",
       "      <td>0.040713</td>\n",
       "    </tr>\n",
       "    <tr>\n",
       "      <th>35</th>\n",
       "      <td>AcCoAmito_n</td>\n",
       "      <td>g1_61_def</td>\n",
       "      <td>0.040849</td>\n",
       "    </tr>\n",
       "    <tr>\n",
       "      <th>36</th>\n",
       "      <td>PYRmito_n</td>\n",
       "      <td>121_default</td>\n",
       "      <td>0.047497</td>\n",
       "    </tr>\n",
       "    <tr>\n",
       "      <th>37</th>\n",
       "      <td>PYRmito_n</td>\n",
       "      <td>g1_61_def</td>\n",
       "      <td>0.048444</td>\n",
       "    </tr>\n",
       "  </tbody>\n",
       "</table>\n",
       "</div>"
      ],
      "text/plain": [
       "        variable    condition         0\n",
       "6      CoAmito_a    g1_61_def  0.002495\n",
       "7      CoAmito_a  121_default  0.002532\n",
       "8      CoAmito_n    g1_61_def  0.002562\n",
       "10     CoAmito_n  121_default  0.002613\n",
       "16   AcCoAmito_a  121_default  0.004306\n",
       "17   AcCoAmito_a    g1_61_def  0.004354\n",
       "24     PYRmito_a  121_default  0.013180\n",
       "25     PYRmito_a    g1_61_def  0.013314\n",
       "30  ISOCITmito_n  121_default  0.033115\n",
       "31  ISOCITmito_n    g1_61_def  0.033120\n",
       "32  ISOCITmito_a  121_default  0.036082\n",
       "33  ISOCITmito_a    g1_61_def  0.036085\n",
       "34   AcCoAmito_n  121_default  0.040713\n",
       "35   AcCoAmito_n    g1_61_def  0.040849\n",
       "36     PYRmito_n  121_default  0.047497\n",
       "37     PYRmito_n    g1_61_def  0.048444"
      ]
     },
     "execution_count": 33,
     "metadata": {},
     "output_type": "execute_result"
    }
   ],
   "source": [
    "tmp.loc[tmp['variable'].isin(range1a)]"
   ]
  },
  {
   "cell_type": "code",
   "execution_count": 34,
   "id": "90902e36-171e-4c01-b4a2-41b95030b815",
   "metadata": {},
   "outputs": [
    {
     "data": {
      "text/html": [
       "<div>\n",
       "<style scoped>\n",
       "    .dataframe tbody tr th:only-of-type {\n",
       "        vertical-align: middle;\n",
       "    }\n",
       "\n",
       "    .dataframe tbody tr th {\n",
       "        vertical-align: top;\n",
       "    }\n",
       "\n",
       "    .dataframe thead th {\n",
       "        text-align: right;\n",
       "    }\n",
       "</style>\n",
       "<table border=\"1\" class=\"dataframe\">\n",
       "  <thead>\n",
       "    <tr style=\"text-align: right;\">\n",
       "      <th></th>\n",
       "      <th>variable</th>\n",
       "      <th>condition</th>\n",
       "      <th>0</th>\n",
       "    </tr>\n",
       "  </thead>\n",
       "  <tbody>\n",
       "    <tr>\n",
       "      <th>44</th>\n",
       "      <td>MALmito_a</td>\n",
       "      <td>g1_61_def</td>\n",
       "      <td>0.257336</td>\n",
       "    </tr>\n",
       "    <tr>\n",
       "      <th>45</th>\n",
       "      <td>MALmito_a</td>\n",
       "      <td>121_default</td>\n",
       "      <td>0.260312</td>\n",
       "    </tr>\n",
       "    <tr>\n",
       "      <th>46</th>\n",
       "      <td>CITmito_n</td>\n",
       "      <td>g1_61_def</td>\n",
       "      <td>0.341266</td>\n",
       "    </tr>\n",
       "    <tr>\n",
       "      <th>47</th>\n",
       "      <td>CITmito_n</td>\n",
       "      <td>121_default</td>\n",
       "      <td>0.341310</td>\n",
       "    </tr>\n",
       "    <tr>\n",
       "      <th>48</th>\n",
       "      <td>CITmito_a</td>\n",
       "      <td>121_default</td>\n",
       "      <td>0.359859</td>\n",
       "    </tr>\n",
       "    <tr>\n",
       "      <th>49</th>\n",
       "      <td>CITmito_a</td>\n",
       "      <td>g1_61_def</td>\n",
       "      <td>0.359894</td>\n",
       "    </tr>\n",
       "    <tr>\n",
       "      <th>50</th>\n",
       "      <td>SUCmito_n</td>\n",
       "      <td>121_default</td>\n",
       "      <td>0.370445</td>\n",
       "    </tr>\n",
       "    <tr>\n",
       "      <th>51</th>\n",
       "      <td>SUCmito_n</td>\n",
       "      <td>g1_61_def</td>\n",
       "      <td>0.374446</td>\n",
       "    </tr>\n",
       "    <tr>\n",
       "      <th>52</th>\n",
       "      <td>MALmito_n</td>\n",
       "      <td>g1_61_def</td>\n",
       "      <td>0.381224</td>\n",
       "    </tr>\n",
       "    <tr>\n",
       "      <th>53</th>\n",
       "      <td>MALmito_n</td>\n",
       "      <td>121_default</td>\n",
       "      <td>0.383448</td>\n",
       "    </tr>\n",
       "    <tr>\n",
       "      <th>55</th>\n",
       "      <td>SUCmito_a</td>\n",
       "      <td>121_default</td>\n",
       "      <td>0.580259</td>\n",
       "    </tr>\n",
       "    <tr>\n",
       "      <th>56</th>\n",
       "      <td>SUCmito_a</td>\n",
       "      <td>g1_61_def</td>\n",
       "      <td>0.583513</td>\n",
       "    </tr>\n",
       "  </tbody>\n",
       "</table>\n",
       "</div>"
      ],
      "text/plain": [
       "     variable    condition         0\n",
       "44  MALmito_a    g1_61_def  0.257336\n",
       "45  MALmito_a  121_default  0.260312\n",
       "46  CITmito_n    g1_61_def  0.341266\n",
       "47  CITmito_n  121_default  0.341310\n",
       "48  CITmito_a  121_default  0.359859\n",
       "49  CITmito_a    g1_61_def  0.359894\n",
       "50  SUCmito_n  121_default  0.370445\n",
       "51  SUCmito_n    g1_61_def  0.374446\n",
       "52  MALmito_n    g1_61_def  0.381224\n",
       "53  MALmito_n  121_default  0.383448\n",
       "55  SUCmito_a  121_default  0.580259\n",
       "56  SUCmito_a    g1_61_def  0.583513"
      ]
     },
     "execution_count": 34,
     "metadata": {},
     "output_type": "execute_result"
    }
   ],
   "source": [
    "tmp.loc[tmp['variable'].isin(range2a)]"
   ]
  },
  {
   "cell_type": "code",
   "execution_count": null,
   "id": "ae170143-f42d-43d9-9c79-6136bfae844d",
   "metadata": {},
   "outputs": [],
   "source": []
  },
  {
   "cell_type": "code",
   "execution_count": null,
   "id": "6ba54a8f-8fc7-4301-b2c5-4ace15338be2",
   "metadata": {},
   "outputs": [],
   "source": [
    "pd.set_option('display.max_rows', 500)"
   ]
  },
  {
   "cell_type": "code",
   "execution_count": 35,
   "id": "55057c1e-1c67-4e7f-ba9f-ce722fcfc535",
   "metadata": {},
   "outputs": [
    {
     "data": {
      "image/png": "[encoded data removed]",
      "text/plain": [
       "<Figure size 288x144 with 1 Axes>"
      ]
     },
     "metadata": {
      "needs_background": "light"
     },
     "output_type": "display_data"
    }
   ],
   "source": [
    "fig = plt.figure(figsize=(4,2))\n",
    "ax = plt.subplot(111)\n",
    "\n",
    "\n",
    "sns.barplot(ax=ax,\n",
    "            data=input_df_mpl.loc[input_df_mpl['variable'].isin(range1)], \n",
    "            y='value', x='variable', \n",
    "            hue=\"condition\",palette=lut_cnds,orient='v',ci=95)\n",
    "\n",
    "ax.spines.top.set_visible(False)\n",
    "ax.spines.right.set_visible(False)\n",
    "\n",
    "ax.set_xlabel(\"\")\n",
    "ax.set_ylabel(\"Conc., mM\")\n",
    "ax.tick_params(axis='x', rotation=45)\n",
    "\n",
    "ax.legend( bbox_to_anchor=(1.05, 1), loc='upper left',frameon=False)\n",
    "\n",
    "plt.show()\n",
    "\n",
    "if savefigures == True:\n",
    "    \n",
    "    spec_id = \"bars_mets1_\"\n",
    "    \n",
    "    fig.savefig(outpath +  spec_id +  timestr + \".pdf\",transparent=False, bbox_inches=\"tight\")\n",
    "    fig.savefig(outpath +  spec_id +  timestr + \".png\",dpi=300,transparent=False, bbox_inches=\"tight\")\n"
   ]
  },
  {
   "cell_type": "code",
   "execution_count": null,
   "id": "494ef806-95a8-43f2-896e-ec367878e19a",
   "metadata": {},
   "outputs": [],
   "source": [
    "pd.DataFrame(input_df_mpl.loc[input_df_mpl['variable'].isin(range1),['variable','condition','value']].groupby(['variable','condition'])['value'].mean())"
   ]
  },
  {
   "cell_type": "code",
   "execution_count": null,
   "id": "9d7d896e-4d95-462c-a6c4-afbb8ae10c9e",
   "metadata": {},
   "outputs": [],
   "source": [
    "pd.DataFrame(input_df_mpl.loc[input_df_mpl['variable'].isin(range1),['variable','condition','value']].groupby(['variable','condition'])['value'].std())"
   ]
  },
  {
   "cell_type": "code",
   "execution_count": 36,
   "id": "81a16e70-a000-429b-a219-12a12ffbee0b",
   "metadata": {},
   "outputs": [
    {
     "data": {
      "image/png": "[encoded data removed]",
      "text/plain": [
       "<Figure size 144x144 with 1 Axes>"
      ]
     },
     "metadata": {
      "needs_background": "light"
     },
     "output_type": "display_data"
    }
   ],
   "source": [
    "fig = plt.figure(figsize=(2,2))\n",
    "ax = plt.subplot(111)\n",
    "\n",
    "\n",
    "sns.barplot(ax=ax,\n",
    "            data=input_df_mpl.loc[input_df_mpl['variable'].isin(range2)], \n",
    "            y='value', x='variable', \n",
    "            hue=\"condition\",palette=lut_cnds,orient='v',ci=95)\n",
    "\n",
    "ax.spines.top.set_visible(False)\n",
    "ax.spines.right.set_visible(False)\n",
    "\n",
    "ax.set_xlabel(\"\")\n",
    "ax.set_ylabel(\"Conc., mM\")\n",
    "ax.tick_params(axis='x', rotation=45)\n",
    "\n",
    "ax.legend( bbox_to_anchor=(1.05, 1), loc='upper left',frameon=False)\n",
    "\n",
    "plt.show()\n",
    "\n",
    "if savefigures == True:\n",
    "    \n",
    "    spec_id = \"bars_mets2_\"\n",
    "    \n",
    "    fig.savefig(outpath +  spec_id +  timestr + \".pdf\",transparent=False, bbox_inches=\"tight\")\n",
    "    fig.savefig(outpath +  spec_id +  timestr + \".png\",dpi=300,transparent=False, bbox_inches=\"tight\")\n"
   ]
  },
  {
   "cell_type": "code",
   "execution_count": null,
   "id": "6784daf2-bd8f-499f-a2fe-49751b8417e1",
   "metadata": {},
   "outputs": [],
   "source": [
    "pd.DataFrame(input_df_mpl.loc[input_df_mpl['variable'].isin(range2),['variable','condition','value']].groupby(['variable','condition'])['value'].mean())"
   ]
  },
  {
   "cell_type": "code",
   "execution_count": null,
   "id": "3c55e947-1352-414a-900c-b0ec49458e70",
   "metadata": {},
   "outputs": [],
   "source": [
    "pd.DataFrame(input_df_mpl.loc[input_df_mpl['variable'].isin(range2),['variable','condition','value']].groupby(['variable','condition'])['value'].std())"
   ]
  },
  {
   "cell_type": "code",
   "execution_count": 37,
   "id": "a032cbee-427d-4898-8ea9-83fa75909265",
   "metadata": {},
   "outputs": [
    {
     "data": {
      "image/png": "[encoded data removed]",
      "text/plain": [
       "<Figure size 288x144 with 1 Axes>"
      ]
     },
     "metadata": {
      "needs_background": "light"
     },
     "output_type": "display_data"
    }
   ],
   "source": [
    "fig = plt.figure(figsize=(4,2))\n",
    "ax = plt.subplot(111)\n",
    "\n",
    "\n",
    "sns.barplot(ax=ax,\n",
    "            data=input_df_mpl.loc[input_df_mpl['variable'].isin(range3)], \n",
    "            y='value', x='variable', \n",
    "            hue=\"condition\",palette=lut_cnds,orient='v',ci=95)\n",
    "\n",
    "ax.spines.top.set_visible(False)\n",
    "ax.spines.right.set_visible(False)\n",
    "\n",
    "ax.set_xlabel(\"\")\n",
    "ax.set_ylabel(\"Conc., mM\")\n",
    "ax.tick_params(axis='x', rotation=45)\n",
    "\n",
    "ax.legend( bbox_to_anchor=(1.05, 1), loc='upper left',frameon=False)\n",
    "\n",
    "plt.show()\n",
    "\n",
    "if savefigures == True:\n",
    "    \n",
    "    spec_id = \"bars_mets3_\"\n",
    "    \n",
    "    fig.savefig(outpath +  spec_id +  timestr + \".pdf\",transparent=False, bbox_inches=\"tight\")\n",
    "    fig.savefig(outpath +  spec_id +  timestr + \".png\",dpi=300,transparent=False, bbox_inches=\"tight\")\n"
   ]
  },
  {
   "cell_type": "code",
   "execution_count": null,
   "id": "8cc14cb3-cb1f-48de-9a02-5e4d02ff2335",
   "metadata": {},
   "outputs": [],
   "source": [
    "pd.DataFrame(input_df_mpl.loc[input_df_mpl['variable'].isin(range3),['variable','condition','value']].groupby(['variable','condition'])['value'].mean())"
   ]
  },
  {
   "cell_type": "code",
   "execution_count": null,
   "id": "d62b6831-2abf-412f-8ce3-3fea176b1785",
   "metadata": {},
   "outputs": [],
   "source": [
    "pd.DataFrame(input_df_mpl.loc[input_df_mpl['variable'].isin(range3),['variable','condition','value']].groupby(['variable','condition'])['value'].std())"
   ]
  },
  {
   "cell_type": "code",
   "execution_count": 38,
   "id": "8ac15e78-26ce-4d25-a5fe-ed24a8784a13",
   "metadata": {},
   "outputs": [
    {
     "data": {
      "image/png": "[encoded data removed]",
      "text/plain": [
       "<Figure size 360x144 with 1 Axes>"
      ]
     },
     "metadata": {
      "needs_background": "light"
     },
     "output_type": "display_data"
    }
   ],
   "source": [
    "fig = plt.figure(figsize=(5,2))\n",
    "ax = plt.subplot(111)\n",
    "\n",
    "\n",
    "sns.barplot(ax=ax,\n",
    "            data=input_df_mpl.loc[input_df_mpl['variable'].isin(range4)], \n",
    "            y='value', x='variable', \n",
    "            hue=\"condition\",palette=lut_cnds,orient='v',ci=95)\n",
    "\n",
    "ax.spines.top.set_visible(False)\n",
    "ax.spines.right.set_visible(False)\n",
    "\n",
    "ax.set_xlabel(\"\")\n",
    "ax.set_ylabel(\"Conc., mM\")\n",
    "ax.tick_params(axis='x', rotation=45)\n",
    "\n",
    "ax.legend( bbox_to_anchor=(1.05, 1), loc='upper left',frameon=False)\n",
    "\n",
    "plt.show()\n",
    "\n",
    "if savefigures == True:\n",
    "    \n",
    "    spec_id = \"bars_mets4_\"\n",
    "    \n",
    "    fig.savefig(outpath +  spec_id +  timestr + \".pdf\",transparent=False, bbox_inches=\"tight\")\n",
    "    fig.savefig(outpath +  spec_id +  timestr + \".png\",dpi=300,transparent=False, bbox_inches=\"tight\")\n"
   ]
  },
  {
   "cell_type": "code",
   "execution_count": null,
   "id": "4e31e4cd-3b83-4079-9496-1415685dcce5",
   "metadata": {},
   "outputs": [],
   "source": [
    "pd.DataFrame(input_df_mpl.loc[input_df_mpl['variable'].isin(range4),['variable','condition','value']].groupby(['variable','condition'])['value'].mean())"
   ]
  },
  {
   "cell_type": "code",
   "execution_count": null,
   "id": "debbef2d-9110-4ead-a639-c32307a971a1",
   "metadata": {},
   "outputs": [],
   "source": [
    "pd.DataFrame(input_df_mpl.loc[input_df_mpl['variable'].isin(range4),['variable','condition','value']].groupby(['variable','condition'])['value'].std())"
   ]
  },
  {
   "cell_type": "code",
   "execution_count": 39,
   "id": "4cbaeb47-a06b-4a40-bd1b-9d3a918d644d",
   "metadata": {},
   "outputs": [
    {
     "data": {
      "image/png": "[encoded data removed]",
      "text/plain": [
       "<Figure size 288x144 with 1 Axes>"
      ]
     },
     "metadata": {
      "needs_background": "light"
     },
     "output_type": "display_data"
    }
   ],
   "source": [
    "fig = plt.figure(figsize=(4,2))\n",
    "ax = plt.subplot(111)\n",
    "\n",
    "\n",
    "sns.barplot(ax=ax,\n",
    "            data=input_df_mpl.loc[input_df_mpl['variable'].isin(range1j)].sort_values('variable'), \n",
    "            y='value', x='variable', \n",
    "            hue=\"condition\",palette=lut_cnds,orient='v',ci=95)\n",
    "\n",
    "ax.spines.top.set_visible(False)\n",
    "ax.spines.right.set_visible(False)\n",
    "\n",
    "ax.set_xlabel(\"\")\n",
    "ax.set_ylabel(\"Conc., mM\")\n",
    "ax.tick_params(axis='x', rotation=45)\n",
    "\n",
    "ax.legend( bbox_to_anchor=(1.05, 1), loc='upper left',frameon=False)\n",
    "\n",
    "plt.show()\n",
    "\n",
    "if savefigures == True:\n",
    "    \n",
    "    spec_id = \"bars_mets1j_\"\n",
    "    \n",
    "    fig.savefig(outpath +  spec_id +  timestr + \".pdf\",transparent=False, bbox_inches=\"tight\")\n",
    "    fig.savefig(outpath +  spec_id +  timestr + \".png\",dpi=300,transparent=False, bbox_inches=\"tight\")\n"
   ]
  },
  {
   "cell_type": "code",
   "execution_count": null,
   "id": "4afb3bed-7347-4580-bd6d-1f145b6a3f47",
   "metadata": {},
   "outputs": [],
   "source": [
    "pd.DataFrame(input_df_mpl.loc[input_df_mpl['variable'].isin(range1j),['variable','condition','value']].groupby(['variable','condition'])['value'].mean())"
   ]
  },
  {
   "cell_type": "code",
   "execution_count": null,
   "id": "eef71817-9c0a-4072-be50-406b1952d2a2",
   "metadata": {},
   "outputs": [],
   "source": [
    "pd.DataFrame(input_df_mpl.loc[input_df_mpl['variable'].isin(range1j),['variable','condition','value']].groupby(['variable','condition'])['value'].std())"
   ]
  },
  {
   "cell_type": "code",
   "execution_count": 40,
   "id": "da0bd988-5b26-4933-b858-8d1d0e8f8422",
   "metadata": {},
   "outputs": [
    {
     "data": {
      "image/png": "[encoded data removed]",
      "text/plain": [
       "<Figure size 288x144 with 1 Axes>"
      ]
     },
     "metadata": {
      "needs_background": "light"
     },
     "output_type": "display_data"
    }
   ],
   "source": [
    "fig = plt.figure(figsize=(4,2))\n",
    "ax = plt.subplot(111)\n",
    "\n",
    "\n",
    "sns.barplot(ax=ax,\n",
    "            data=input_df_mpl.loc[input_df_mpl['variable'].isin(range2j)].sort_values('variable'), \n",
    "            y='value', x='variable', \n",
    "            hue=\"condition\",palette=lut_cnds,orient='v',ci=95)\n",
    "\n",
    "ax.spines.top.set_visible(False)\n",
    "ax.spines.right.set_visible(False)\n",
    "\n",
    "ax.set_xlabel(\"\")\n",
    "ax.set_ylabel(\"Conc., mM\")\n",
    "ax.tick_params(axis='x', rotation=45)\n",
    "\n",
    "ax.legend( bbox_to_anchor=(1.05, 1), loc='upper left',frameon=False)\n",
    "\n",
    "plt.show()\n",
    "\n",
    "if savefigures == True:\n",
    "    \n",
    "    spec_id = \"bars_mets2j_\"\n",
    "    \n",
    "    fig.savefig(outpath +  spec_id +  timestr + \".pdf\",transparent=False, bbox_inches=\"tight\")\n",
    "    fig.savefig(outpath +  spec_id +  timestr + \".png\",dpi=300,transparent=False, bbox_inches=\"tight\")\n"
   ]
  },
  {
   "cell_type": "code",
   "execution_count": null,
   "id": "af3837f5-fb92-4bf9-bc34-e11369ace18a",
   "metadata": {},
   "outputs": [],
   "source": [
    "pd.DataFrame(input_df_mpl.loc[input_df_mpl['variable'].isin(range2j),['variable','condition','value']].groupby(['variable','condition'])['value'].mean())"
   ]
  },
  {
   "cell_type": "code",
   "execution_count": null,
   "id": "26c374c4-bee8-470d-80bb-4d330dcc2892",
   "metadata": {},
   "outputs": [],
   "source": [
    "pd.DataFrame(input_df_mpl.loc[input_df_mpl['variable'].isin(range2j),['variable','condition','value']].groupby(['variable','condition'])['value'].std())"
   ]
  },
  {
   "cell_type": "code",
   "execution_count": null,
   "id": "325481a6-44aa-4d65-ae00-de49409326ed",
   "metadata": {},
   "outputs": [],
   "source": []
  },
  {
   "cell_type": "code",
   "execution_count": 41,
   "id": "dbed00d7-4364-4db4-acae-9d28827f0c1f",
   "metadata": {},
   "outputs": [
    {
     "data": {
      "image/png": "[encoded data removed]",
      "text/plain": [
       "<Figure size 576x144 with 1 Axes>"
      ]
     },
     "metadata": {
      "needs_background": "light"
     },
     "output_type": "display_data"
    }
   ],
   "source": [
    "fig = plt.figure(figsize=(8,2))\n",
    "ax = plt.subplot(111)\n",
    "\n",
    "\n",
    "sns.barplot(ax=ax,\n",
    "            data=input_df_mpl.loc[input_df_mpl['variable'].isin(range1a)].sort_values('variable'), \n",
    "            y='value', x='variable', \n",
    "            hue=\"condition\",palette=lut_cnds,orient='v',ci=95)\n",
    "\n",
    "ax.spines.top.set_visible(False)\n",
    "ax.spines.right.set_visible(False)\n",
    "\n",
    "ax.set_xlabel(\"\")\n",
    "ax.set_ylabel(\"Conc., mM\")\n",
    "ax.tick_params(axis='x', rotation=45)\n",
    "\n",
    "ax.legend( bbox_to_anchor=(1.05, 1), loc='upper left',frameon=False)\n",
    "\n",
    "plt.show()\n",
    "\n",
    "if savefigures == True:\n",
    "    \n",
    "    spec_id = \"bars_mets1a_\"\n",
    "    \n",
    "    fig.savefig(outpath +  spec_id +  timestr + \".pdf\",transparent=False, bbox_inches=\"tight\")\n",
    "    fig.savefig(outpath +  spec_id +  timestr + \".png\",dpi=300,transparent=False, bbox_inches=\"tight\")\n"
   ]
  },
  {
   "cell_type": "code",
   "execution_count": null,
   "id": "de137aba-2d8d-4960-8121-d5c1a9769de9",
   "metadata": {},
   "outputs": [],
   "source": [
    "pd.DataFrame(input_df_mpl.loc[input_df_mpl['variable'].isin(range1a),['variable','condition','value']].groupby(['variable','condition'])['value'].mean())"
   ]
  },
  {
   "cell_type": "code",
   "execution_count": null,
   "id": "2c8fd867-3789-4ee4-adda-1592ab1b1bb7",
   "metadata": {},
   "outputs": [],
   "source": [
    "pd.DataFrame(input_df_mpl.loc[input_df_mpl['variable'].isin(range1a),['variable','condition','value']].groupby(['variable','condition'])['value'].std())"
   ]
  },
  {
   "cell_type": "code",
   "execution_count": 42,
   "id": "da6ad23d-f93c-42a7-a63e-36945578f58b",
   "metadata": {},
   "outputs": [
    {
     "data": {
      "image/png": "[encoded data removed]",
      "text/plain": [
       "<Figure size 432x144 with 1 Axes>"
      ]
     },
     "metadata": {
      "needs_background": "light"
     },
     "output_type": "display_data"
    }
   ],
   "source": [
    "fig = plt.figure(figsize=(6,2))\n",
    "ax = plt.subplot(111)\n",
    "\n",
    "\n",
    "sns.barplot(ax=ax,\n",
    "            data=input_df_mpl.loc[input_df_mpl['variable'].isin(range2a)].sort_values('variable'), \n",
    "            y='value', x='variable', \n",
    "            hue=\"condition\",palette=lut_cnds,orient='v',ci=95)\n",
    "\n",
    "ax.spines.top.set_visible(False)\n",
    "ax.spines.right.set_visible(False)\n",
    "\n",
    "ax.set_xlabel(\"\")\n",
    "ax.set_ylabel(\"Conc., mM\")\n",
    "ax.tick_params(axis='x', rotation=45)\n",
    "\n",
    "ax.legend( bbox_to_anchor=(1.05, 1), loc='upper left',frameon=False)\n",
    "\n",
    "plt.show()\n",
    "\n",
    "if savefigures == True:\n",
    "    \n",
    "    spec_id = \"bars_mets2a_\"\n",
    "    \n",
    "    fig.savefig(outpath +  spec_id +  timestr + \".pdf\",transparent=False, bbox_inches=\"tight\")\n",
    "    fig.savefig(outpath +  spec_id +  timestr + \".png\",dpi=300,transparent=False, bbox_inches=\"tight\")\n"
   ]
  },
  {
   "cell_type": "code",
   "execution_count": null,
   "id": "7efc18ab-8218-4f93-bbea-c6ff367a0e81",
   "metadata": {},
   "outputs": [],
   "source": [
    "pd.DataFrame(input_df_mpl.loc[input_df_mpl['variable'].isin(range2a),['variable','condition','value']].groupby(['variable','condition'])['value'].mean())"
   ]
  },
  {
   "cell_type": "code",
   "execution_count": null,
   "id": "b87eb7eb-8720-47af-bc9a-ee1922b8afc8",
   "metadata": {},
   "outputs": [],
   "source": [
    "pd.DataFrame(input_df_mpl.loc[input_df_mpl['variable'].isin(range2a),['variable','condition','value']].groupby(['variable','condition'])['value'].std())"
   ]
  },
  {
   "cell_type": "code",
   "execution_count": null,
   "id": "b4859158-1e6d-4050-b813-b67060ade5e4",
   "metadata": {},
   "outputs": [],
   "source": []
  },
  {
   "cell_type": "code",
   "execution_count": null,
   "id": "372b3c20-72af-4ff3-9fe0-712062e22c21",
   "metadata": {},
   "outputs": [],
   "source": []
  },
  {
   "cell_type": "code",
   "execution_count": null,
   "id": "d44b5a3e-fd02-461b-bd05-88aaf47dfbee",
   "metadata": {},
   "outputs": [],
   "source": []
  }
 ],
 "metadata": {
  "kernelspec": {
   "display_name": "Python 3 (ipykernel)",
   "language": "python",
   "name": "python3"
  },
  "language_info": {
   "codemirror_mode": {
    "name": "ipython",
    "version": 3
   },
   "file_extension": ".py",
   "mimetype": "text/x-python",
   "name": "python",
   "nbconvert_exporter": "python",
   "pygments_lexer": "ipython3",
   "version": "3.9.4"
  }
 },
 "nbformat": 4,
 "nbformat_minor": 5
}
