{
 "cells": [
  {
   "cell_type": "code",
   "execution_count": 1,
   "id": "9dc0a0e4-cec0-453a-84ca-4b477fc54918",
   "metadata": {
    "tags": []
   },
   "outputs": [],
   "source": [
    "import pandas as pd\n",
    "import numpy as np\n",
    "import json\n",
    "from itertools import chain\n",
    "\n",
    "import matplotlib.pyplot as plt\n",
    "import matplotlib as mpl\n",
    "\n",
    "import seaborn as sns\n",
    "\n",
    "from matplotlib.patches import Patch\n",
    "\n",
    "import time\n",
    "import glob\n",
    "\n",
    "params = {\n",
    "   'axes.labelsize': 14,\n",
    "   'font.size': 14,\n",
    "   'legend.fontsize': 14,\n",
    "   'xtick.labelsize': 14,\n",
    "   'ytick.labelsize': 14,\n",
    "   'text.usetex': False,\n",
    "   'figure.figsize': [4.5, 4.5],\n",
    "    'savefig.facecolor':'white'\n",
    "   }\n",
    "\n",
    "mpl.rcParams.update(params)\n",
    "\n",
    "\n",
    "timestr = time.strftime(\"%Y%m%d%H%M\")"
   ]
  },
  {
   "cell_type": "code",
   "execution_count": 2,
   "id": "9bb67f27-e03e-4a0e-add9-33db97a7388f",
   "metadata": {},
   "outputs": [
    {
     "name": "stdout",
     "output_type": "stream",
     "text": [
      "1\n"
     ]
    }
   ],
   "source": [
    "sol_saveat_dt = [1,1e-4][0]\n",
    "\n",
    "print(sol_saveat_dt)\n",
    "\n",
    "inpath = \"output/\"\n",
    "outpath = \"figures/fig2/\" "
   ]
  },
  {
   "cell_type": "code",
   "execution_count": 3,
   "id": "3eb24459-423a-4ca3-94be-c3e8e5ed9a34",
   "metadata": {},
   "outputs": [],
   "source": [
    "##############################################\n",
    "# set to True to save fig\n",
    "\n",
    "savefigures = True #False #True \n",
    "\n",
    "##############################################"
   ]
  },
  {
   "cell_type": "code",
   "execution_count": 4,
   "id": "7b338d80-de58-4cf5-a78e-964bd16fc620",
   "metadata": {},
   "outputs": [
    {
     "name": "stdout",
     "output_type": "stream",
     "text": [
      "190\n"
     ]
    }
   ],
   "source": [
    "print(len(glob.glob(inpath+\"*_u.csv\"))) "
   ]
  },
  {
   "cell_type": "code",
   "execution_count": 5,
   "id": "ff2b52ae-46a5-4b95-9c76-01c3ab482c5a",
   "metadata": {},
   "outputs": [],
   "source": [
    "input_file_ids = [i.rstrip(\"_u.csv\") for i in glob.glob(inpath+\"*_u.csv\")]\n"
   ]
  },
  {
   "cell_type": "code",
   "execution_count": 6,
   "id": "39a27e61-10f7-4738-9e6d-55de20dc5f89",
   "metadata": {},
   "outputs": [],
   "source": [
    "input_file_ids = sorted(input_file_ids)"
   ]
  },
  {
   "cell_type": "code",
   "execution_count": null,
   "id": "c92fe670-7b11-4e57-9c27-10e9e3a81341",
   "metadata": {},
   "outputs": [],
   "source": []
  },
  {
   "cell_type": "code",
   "execution_count": 7,
   "id": "60166afa-3a76-4383-885e-81cf53826faf",
   "metadata": {
    "tags": []
   },
   "outputs": [],
   "source": [
    "input_dfs = []\n",
    "\n",
    "for fid in input_file_ids:\n",
    "\n",
    "    dfn = fid + \"_u.csv\"\n",
    "    tfn = fid + \"_t.csv\"\n",
    "    nfn = fid + \"_unames.csv\"\n",
    "    \n",
    "    df = pd.read_csv(dfn,header=None)\n",
    "    tf = pd.read_csv(tfn,header=None)\n",
    "    nf = pd.read_csv(nfn,header=None)\n",
    "    \n",
    "    df.columns = [i[:-1] for i in nf[0].values.tolist() ]\n",
    "    \n",
    "    df['time_s'] = tf[0].copy()\n",
    "    df['condition'] = fid.replace(\"output/sim_\",\"\").split(\"_extraTag\",1)[0]\n",
    "    \n",
    "    input_dfs.append(df)\n",
    "    \n",
    "input_df = pd.concat(input_dfs, axis=0, ignore_index=True)"
   ]
  },
  {
   "cell_type": "code",
   "execution_count": 8,
   "id": "9fbc2867-d604-4c06-9603-f5279f9b35c4",
   "metadata": {},
   "outputs": [
    {
     "name": "stdout",
     "output_type": "stream",
     "text": [
      "(58900, 185)\n"
     ]
    }
   ],
   "source": [
    "print(input_df.shape)"
   ]
  },
  {
   "cell_type": "code",
   "execution_count": null,
   "id": "988bf959-b7f3-47ee-9f40-827559a0aa29",
   "metadata": {},
   "outputs": [],
   "source": []
  },
  {
   "cell_type": "code",
   "execution_count": 9,
   "id": "8e9f8740-9851-4e01-af4d-81d41bd1c0cf",
   "metadata": {},
   "outputs": [
    {
     "name": "stdout",
     "output_type": "stream",
     "text": [
      "94\n"
     ]
    }
   ],
   "source": [
    "mets2plot2_sel3met = [i[0:-1] for i in [\"Mg_x_n0\",\"NADHmito_n0\", \"QH2mito_n0\", \"CytCredmito_n0\",  \n",
    "            \"ATPmito_n0\", \"ATP_mx_n0\", \"ATP_i_n0\", \"ATP_mi_n0\", \n",
    "             \n",
    "            \"ATP_n0\", \"FUMmito_n0\", \"MALmito_n0\", \"OXAmito_n0\", \"SUCmito_n0\", \"SUCCOAmito_n0\", \"CoAmito_n0\", \n",
    "            \"AKGmito_n0\",  \"ISOCITmito_n0\", \"CITmito_n0\", \"AcCoAmito_n0\", \"AcAc_n0\", \"AcAcCoA_n0\", \"PYRmito_n0\", \"bHB_n0\", \"bHB_ecs0\", \"bHB_b0\",  \"GLU_n0\", \n",
    "            \"NADH_n0\", \"Mg_x_a0\",   \"NADHmito_a0\", \"QH2mito_a0\", \"CytCredmito_a0\",  \n",
    "            \"ATPmito_a0\",   \"ATP_mx_a0\",  \"ATP_i_a0\",   \"ATP_mi_a0\",  \n",
    "             \n",
    "            \"ATP_a0\",  \"FUMmito_a0\", \"MALmito_a0\", \"OXAmito_a0\", \"SUCmito_a0\", \"SUCCOAmito_a0\", \"CoAmito_a0\", \n",
    "            \"AKGmito_a0\", \"ISOCITmito_a0\", \"CITmito_a0\", \"AcCoAmito_a0\", \"PYRmito_a0\", \n",
    "            \"GLN_a0\", \"GLUT_a0\", \n",
    "             \n",
    "            \"ddHb0\", \"O2cap0\", \n",
    "              \"Glc_b0\", \"Glc_t_t0\", \"Glc_ecsBA0\", \"Glc_a0\", \"Glc_ecsAN0\", \"Glc_n0\", \"G6P_n0\", \"G6P_a0\", \"F6P_n0\", \"F6P_a0\", \"FBP_n0\", \"FBP_a0\", \"f26bp_a0\", \"GLY_a0\", \"G1P_a0\", \"GAP_n0\", \"GAP_a0\", \n",
    "              \"DHAP_n0\", \"DHAP_a0\", \"BPG13_n0\", \"BPG13_a0\", \"NADH_a0\", \"PG3_n0\", \"PG3_a0\", \"PG2_n0\", \"PG2_a0\", \"PEP_n0\", \"PEP_a0\", \"Pyr_n0\", \"Pyr_a0\", \"Lac_b0\", \"Lac_ecs0\", \"Lac_a0\", \"Lac_n0\", \n",
    "              \"NADPH_n0\", \"NADPH_a0\", \"R5P_n0\", \"R5P_a0\",  \"E4P_n0\", \"E4P_a0\", \n",
    "              \"GSH_n0\", \"GSH_a0\", \"cAMP_a0\"\n",
    "]]\n",
    "\n",
    "print(len(mets2plot2_sel3met))"
   ]
  },
  {
   "cell_type": "code",
   "execution_count": 10,
   "id": "fb87347b-69d6-4975-81b5-0e40a265d595",
   "metadata": {},
   "outputs": [
    {
     "name": "stdout",
     "output_type": "stream",
     "text": [
      "31\n",
      "38\n"
     ]
    }
   ],
   "source": [
    "all_cnds_l = input_df['condition'].unique()\n",
    "\n",
    "group1_control = [i for i in all_cnds_l if (not i.startswith('g')) and (not i.startswith('th')) and (\"_dose\" not in i) \n",
    "                 ]\n",
    "\n",
    "print(len(group1_control))\n",
    "\n",
    "\n",
    "\n",
    "group2_GLUT1 = [i for i in all_cnds_l if ((i.startswith('g1_')) or (i.startswith('th_')))  and (\"_dose\" not in i) \n",
    "               ]\n",
    "\n",
    "print(len(group2_GLUT1))\n"
   ]
  },
  {
   "cell_type": "code",
   "execution_count": 11,
   "id": "d3616c12-9672-490f-a09c-163337ade2a3",
   "metadata": {},
   "outputs": [
    {
     "data": {
      "text/plain": [
       "['10_lac_pls',\n",
       " '11_bhb_pls',\n",
       " '121_default',\n",
       " '12_akg_pls',\n",
       " '13_succoa_pls',\n",
       " '14_fum_pls',\n",
       " '15_mal_pls',\n",
       " '16_oxa_pls',\n",
       " '17_glclac_ini',\n",
       " '18_glcbhb_ini',\n",
       " '19_lacbhb_ini',\n",
       " '1_blood_glc_ini',\n",
       " '20_glclacbhb_ini',\n",
       " '2_blood_lac_ini',\n",
       " '3_blood_bhb_ini',\n",
       " '4_aKG_ini',\n",
       " '5_succoa_ini',\n",
       " '63_AcAcCoA_ini',\n",
       " '64_Acon',\n",
       " '6_fum_ini',\n",
       " '7_mal_ini',\n",
       " '82_ISOCIT',\n",
       " '83_LDH',\n",
       " '84_PCm_bloodglc',\n",
       " '85_PCm',\n",
       " '86_PDHdef_bloodglc',\n",
       " '87_PDHdef_bloodlac',\n",
       " '88_PDHdef',\n",
       " '89_SUCmito',\n",
       " '8_oxa_ini',\n",
       " '9_glc_pls']"
      ]
     },
     "execution_count": 11,
     "metadata": {},
     "output_type": "execute_result"
    }
   ],
   "source": [
    "group1_control"
   ]
  },
  {
   "cell_type": "code",
   "execution_count": 12,
   "id": "42955bd0-b95f-4d07-9434-f2c53eefbc8c",
   "metadata": {},
   "outputs": [
    {
     "data": {
      "text/plain": [
       "['g1_118_keto_lac_nad',\n",
       " 'g1_119_keto_lac_nad_Qtot_n',\n",
       " 'g1_120_keto_lac_nad_Qtot_na',\n",
       " 'g1_21_blood_glc_ini',\n",
       " 'g1_22_blood_lac_ini',\n",
       " 'g1_23_blood_bhb_ini',\n",
       " 'g1_24_aKG_ini',\n",
       " 'g1_25_succoa_ini',\n",
       " 'g1_26_fum_ini',\n",
       " 'g1_27_mal_ini',\n",
       " 'g1_28_oxa_ini',\n",
       " 'g1_29_glc_pls',\n",
       " 'g1_30_lac_pls',\n",
       " 'g1_31_bhb_pls',\n",
       " 'g1_32_akg_pls',\n",
       " 'g1_33_succoa_pls',\n",
       " 'g1_34_fum_pls',\n",
       " 'g1_35_mal_pls',\n",
       " 'g1_36_oxa_pls',\n",
       " 'g1_37_glclac_ini',\n",
       " 'g1_38_glcbhb_ini',\n",
       " 'g1_39_lacbhb_ini',\n",
       " 'g1_40_glclacbhb_ini',\n",
       " 'g1_61_def',\n",
       " 'g1_65_PCm_keto',\n",
       " 'g1_66_PCm_lac',\n",
       " 'g1_67_PCm',\n",
       " 'g1_68_AcAcCoA',\n",
       " 'g1_69_Acon',\n",
       " 'g1_70_ISOCIT',\n",
       " 'g1_71_LDH_keto',\n",
       " 'g1_72_LDH',\n",
       " 'g1_73_PDH_keto',\n",
       " 'g1_74_PDH_lac',\n",
       " 'g1_75_PDH',\n",
       " 'g1_76_SUCmito',\n",
       " 'g1_90_AcAcCoa_lac',\n",
       " 'g1_91_PDH_Lac_keto']"
      ]
     },
     "execution_count": 12,
     "metadata": {},
     "output_type": "execute_result"
    }
   ],
   "source": [
    "group2_GLUT1"
   ]
  },
  {
   "cell_type": "code",
   "execution_count": 13,
   "id": "679560e5-007d-4c6b-ab74-a8082209ae27",
   "metadata": {
    "tags": []
   },
   "outputs": [],
   "source": [
    "cnds_groups = {\n",
    "    'group1_control':group1_control,\n",
    "    'group2_GLUT1d':group2_GLUT1\n",
    "}\n"
   ]
  },
  {
   "cell_type": "code",
   "execution_count": 14,
   "id": "a433d92d-30fe-4cd1-9838-16050dcb583e",
   "metadata": {},
   "outputs": [
    {
     "data": {
      "text/html": [
       "<div>\n",
       "<style scoped>\n",
       "    .dataframe tbody tr th:only-of-type {\n",
       "        vertical-align: middle;\n",
       "    }\n",
       "\n",
       "    .dataframe tbody tr th {\n",
       "        vertical-align: top;\n",
       "    }\n",
       "\n",
       "    .dataframe thead th {\n",
       "        text-align: right;\n",
       "    }\n",
       "</style>\n",
       "<table border=\"1\" class=\"dataframe\">\n",
       "  <thead>\n",
       "    <tr style=\"text-align: right;\">\n",
       "      <th></th>\n",
       "      <th>C_H_mitomatr_n</th>\n",
       "      <th>K_x_n</th>\n",
       "      <th>Mg_x_n</th>\n",
       "      <th>NADHmito_n</th>\n",
       "      <th>QH2mito_n</th>\n",
       "      <th>CytCredmito_n</th>\n",
       "      <th>O2_n</th>\n",
       "      <th>ATPmito_n</th>\n",
       "      <th>ADPmito_n</th>\n",
       "      <th>ATP_mx_n</th>\n",
       "      <th>...</th>\n",
       "      <th>Cr_a</th>\n",
       "      <th>PCr_a</th>\n",
       "      <th>cAMP_a</th>\n",
       "      <th>NE_neuromod</th>\n",
       "      <th>UDPgluco_a</th>\n",
       "      <th>UTP_a</th>\n",
       "      <th>GS_a</th>\n",
       "      <th>GPa_a</th>\n",
       "      <th>GPb_a</th>\n",
       "      <th>time_s</th>\n",
       "    </tr>\n",
       "  </thead>\n",
       "  <tbody>\n",
       "    <tr>\n",
       "      <th>31179</th>\n",
       "      <td>0.000018</td>\n",
       "      <td>54.885139</td>\n",
       "      <td>0.636269</td>\n",
       "      <td>0.311712</td>\n",
       "      <td>0.016209</td>\n",
       "      <td>0.132212</td>\n",
       "      <td>0.032215</td>\n",
       "      <td>0.723906</td>\n",
       "      <td>1.876094</td>\n",
       "      <td>0.200565</td>\n",
       "      <td>...</td>\n",
       "      <td>5.075794</td>\n",
       "      <td>4.926586</td>\n",
       "      <td>0.039093</td>\n",
       "      <td>0.0</td>\n",
       "      <td>0.109</td>\n",
       "      <td>0.23</td>\n",
       "      <td>0.003</td>\n",
       "      <td>0.001409</td>\n",
       "      <td>0.068591</td>\n",
       "      <td>180.0</td>\n",
       "    </tr>\n",
       "    <tr>\n",
       "      <th>31180</th>\n",
       "      <td>0.000018</td>\n",
       "      <td>54.885139</td>\n",
       "      <td>0.636248</td>\n",
       "      <td>0.311703</td>\n",
       "      <td>0.016214</td>\n",
       "      <td>0.132224</td>\n",
       "      <td>0.032215</td>\n",
       "      <td>0.723789</td>\n",
       "      <td>1.876211</td>\n",
       "      <td>0.200528</td>\n",
       "      <td>...</td>\n",
       "      <td>5.075794</td>\n",
       "      <td>4.926579</td>\n",
       "      <td>0.039093</td>\n",
       "      <td>0.0</td>\n",
       "      <td>0.109</td>\n",
       "      <td>0.23</td>\n",
       "      <td>0.003</td>\n",
       "      <td>0.001409</td>\n",
       "      <td>0.068591</td>\n",
       "      <td>181.0</td>\n",
       "    </tr>\n",
       "    <tr>\n",
       "      <th>31181</th>\n",
       "      <td>0.000018</td>\n",
       "      <td>54.885139</td>\n",
       "      <td>0.636228</td>\n",
       "      <td>0.311694</td>\n",
       "      <td>0.016220</td>\n",
       "      <td>0.132237</td>\n",
       "      <td>0.032214</td>\n",
       "      <td>0.723670</td>\n",
       "      <td>1.876330</td>\n",
       "      <td>0.200491</td>\n",
       "      <td>...</td>\n",
       "      <td>5.075794</td>\n",
       "      <td>4.926572</td>\n",
       "      <td>0.039093</td>\n",
       "      <td>0.0</td>\n",
       "      <td>0.109</td>\n",
       "      <td>0.23</td>\n",
       "      <td>0.003</td>\n",
       "      <td>0.001409</td>\n",
       "      <td>0.068591</td>\n",
       "      <td>182.0</td>\n",
       "    </tr>\n",
       "  </tbody>\n",
       "</table>\n",
       "<p>3 rows × 184 columns</p>\n",
       "</div>"
      ],
      "text/plain": [
       "       C_H_mitomatr_n      K_x_n    Mg_x_n  NADHmito_n  QH2mito_n  \\\n",
       "31179        0.000018  54.885139  0.636269    0.311712   0.016209   \n",
       "31180        0.000018  54.885139  0.636248    0.311703   0.016214   \n",
       "31181        0.000018  54.885139  0.636228    0.311694   0.016220   \n",
       "\n",
       "       CytCredmito_n      O2_n  ATPmito_n  ADPmito_n  ATP_mx_n  ...      Cr_a  \\\n",
       "31179       0.132212  0.032215   0.723906   1.876094  0.200565  ...  5.075794   \n",
       "31180       0.132224  0.032215   0.723789   1.876211  0.200528  ...  5.075794   \n",
       "31181       0.132237  0.032214   0.723670   1.876330  0.200491  ...  5.075794   \n",
       "\n",
       "          PCr_a    cAMP_a  NE_neuromod  UDPgluco_a  UTP_a   GS_a     GPa_a  \\\n",
       "31179  4.926586  0.039093          0.0       0.109   0.23  0.003  0.001409   \n",
       "31180  4.926579  0.039093          0.0       0.109   0.23  0.003  0.001409   \n",
       "31181  4.926572  0.039093          0.0       0.109   0.23  0.003  0.001409   \n",
       "\n",
       "          GPb_a  time_s  \n",
       "31179  0.068591   180.0  \n",
       "31180  0.068591   181.0  \n",
       "31181  0.068591   182.0  \n",
       "\n",
       "[3 rows x 184 columns]"
      ]
     },
     "execution_count": 14,
     "metadata": {},
     "output_type": "execute_result"
    }
   ],
   "source": [
    "input_df_mp = input_df.loc[(input_df['time_s']>=180),:].copy()  \n",
    "\n",
    "input_df_mp = input_df_mp.loc[(input_df_mp['condition'].isin(group2_GLUT1)),:].copy() \n",
    "\n",
    "input_df_mp = input_df_mp.drop(columns='condition')\n",
    "\n",
    "\n",
    "input_df_mp.head(3)"
   ]
  },
  {
   "cell_type": "code",
   "execution_count": 15,
   "id": "de471cda-4073-4851-9eb6-db398813c316",
   "metadata": {},
   "outputs": [
    {
     "name": "stdout",
     "output_type": "stream",
     "text": [
      "(131, 184)\n"
     ]
    },
    {
     "data": {
      "text/html": [
       "<div>\n",
       "<style scoped>\n",
       "    .dataframe tbody tr th:only-of-type {\n",
       "        vertical-align: middle;\n",
       "    }\n",
       "\n",
       "    .dataframe tbody tr th {\n",
       "        vertical-align: top;\n",
       "    }\n",
       "\n",
       "    .dataframe thead th {\n",
       "        text-align: right;\n",
       "    }\n",
       "</style>\n",
       "<table border=\"1\" class=\"dataframe\">\n",
       "  <thead>\n",
       "    <tr style=\"text-align: right;\">\n",
       "      <th></th>\n",
       "      <th>C_H_mitomatr_n</th>\n",
       "      <th>K_x_n</th>\n",
       "      <th>Mg_x_n</th>\n",
       "      <th>NADHmito_n</th>\n",
       "      <th>QH2mito_n</th>\n",
       "      <th>CytCredmito_n</th>\n",
       "      <th>O2_n</th>\n",
       "      <th>ATPmito_n</th>\n",
       "      <th>ADPmito_n</th>\n",
       "      <th>ATP_mx_n</th>\n",
       "      <th>...</th>\n",
       "      <th>PCr_n</th>\n",
       "      <th>Cr_a</th>\n",
       "      <th>PCr_a</th>\n",
       "      <th>cAMP_a</th>\n",
       "      <th>NE_neuromod</th>\n",
       "      <th>UDPgluco_a</th>\n",
       "      <th>UTP_a</th>\n",
       "      <th>GS_a</th>\n",
       "      <th>GPa_a</th>\n",
       "      <th>GPb_a</th>\n",
       "    </tr>\n",
       "    <tr>\n",
       "      <th>time_s</th>\n",
       "      <th></th>\n",
       "      <th></th>\n",
       "      <th></th>\n",
       "      <th></th>\n",
       "      <th></th>\n",
       "      <th></th>\n",
       "      <th></th>\n",
       "      <th></th>\n",
       "      <th></th>\n",
       "      <th></th>\n",
       "      <th></th>\n",
       "      <th></th>\n",
       "      <th></th>\n",
       "      <th></th>\n",
       "      <th></th>\n",
       "      <th></th>\n",
       "      <th></th>\n",
       "      <th></th>\n",
       "      <th></th>\n",
       "      <th></th>\n",
       "      <th></th>\n",
       "    </tr>\n",
       "  </thead>\n",
       "  <tbody>\n",
       "    <tr>\n",
       "      <th>180.0</th>\n",
       "      <td>5.582234e-16</td>\n",
       "      <td>0.0</td>\n",
       "      <td>0.001838</td>\n",
       "      <td>0.005177</td>\n",
       "      <td>0.016793</td>\n",
       "      <td>0.003908</td>\n",
       "      <td>0.008520</td>\n",
       "      <td>0.009308</td>\n",
       "      <td>0.003643</td>\n",
       "      <td>0.010669</td>\n",
       "      <td>...</td>\n",
       "      <td>0.001264</td>\n",
       "      <td>5.249494e-16</td>\n",
       "      <td>0.000179</td>\n",
       "      <td>0.000525</td>\n",
       "      <td>NaN</td>\n",
       "      <td>1.273192e-16</td>\n",
       "      <td>9.654113e-16</td>\n",
       "      <td>0.0</td>\n",
       "      <td>0.012042</td>\n",
       "      <td>0.000251</td>\n",
       "    </tr>\n",
       "    <tr>\n",
       "      <th>181.0</th>\n",
       "      <td>5.582234e-16</td>\n",
       "      <td>0.0</td>\n",
       "      <td>0.001841</td>\n",
       "      <td>0.005178</td>\n",
       "      <td>0.016835</td>\n",
       "      <td>0.003927</td>\n",
       "      <td>0.008522</td>\n",
       "      <td>0.009322</td>\n",
       "      <td>0.003648</td>\n",
       "      <td>0.010684</td>\n",
       "      <td>...</td>\n",
       "      <td>0.001270</td>\n",
       "      <td>5.249494e-16</td>\n",
       "      <td>0.000181</td>\n",
       "      <td>0.000526</td>\n",
       "      <td>NaN</td>\n",
       "      <td>1.273192e-16</td>\n",
       "      <td>9.654113e-16</td>\n",
       "      <td>0.0</td>\n",
       "      <td>0.012057</td>\n",
       "      <td>0.000251</td>\n",
       "    </tr>\n",
       "    <tr>\n",
       "      <th>182.0</th>\n",
       "      <td>5.582234e-16</td>\n",
       "      <td>0.0</td>\n",
       "      <td>0.001843</td>\n",
       "      <td>0.005178</td>\n",
       "      <td>0.016878</td>\n",
       "      <td>0.003948</td>\n",
       "      <td>0.008525</td>\n",
       "      <td>0.009336</td>\n",
       "      <td>0.003653</td>\n",
       "      <td>0.010701</td>\n",
       "      <td>...</td>\n",
       "      <td>0.001276</td>\n",
       "      <td>5.249494e-16</td>\n",
       "      <td>0.000182</td>\n",
       "      <td>0.000528</td>\n",
       "      <td>NaN</td>\n",
       "      <td>1.273192e-16</td>\n",
       "      <td>9.654113e-16</td>\n",
       "      <td>0.0</td>\n",
       "      <td>0.012071</td>\n",
       "      <td>0.000252</td>\n",
       "    </tr>\n",
       "  </tbody>\n",
       "</table>\n",
       "<p>3 rows × 183 columns</p>\n",
       "</div>"
      ],
      "text/plain": [
       "        C_H_mitomatr_n  K_x_n    Mg_x_n  NADHmito_n  QH2mito_n  CytCredmito_n  \\\n",
       "time_s                                                                          \n",
       "180.0     5.582234e-16    0.0  0.001838    0.005177   0.016793       0.003908   \n",
       "181.0     5.582234e-16    0.0  0.001841    0.005178   0.016835       0.003927   \n",
       "182.0     5.582234e-16    0.0  0.001843    0.005178   0.016878       0.003948   \n",
       "\n",
       "            O2_n  ATPmito_n  ADPmito_n  ATP_mx_n  ...     PCr_n          Cr_a  \\\n",
       "time_s                                            ...                           \n",
       "180.0   0.008520   0.009308   0.003643  0.010669  ...  0.001264  5.249494e-16   \n",
       "181.0   0.008522   0.009322   0.003648  0.010684  ...  0.001270  5.249494e-16   \n",
       "182.0   0.008525   0.009336   0.003653  0.010701  ...  0.001276  5.249494e-16   \n",
       "\n",
       "           PCr_a    cAMP_a  NE_neuromod    UDPgluco_a         UTP_a  GS_a  \\\n",
       "time_s                                                                      \n",
       "180.0   0.000179  0.000525          NaN  1.273192e-16  9.654113e-16   0.0   \n",
       "181.0   0.000181  0.000526          NaN  1.273192e-16  9.654113e-16   0.0   \n",
       "182.0   0.000182  0.000528          NaN  1.273192e-16  9.654113e-16   0.0   \n",
       "\n",
       "           GPa_a     GPb_a  \n",
       "time_s                      \n",
       "180.0   0.012042  0.000251  \n",
       "181.0   0.012057  0.000251  \n",
       "182.0   0.012071  0.000252  \n",
       "\n",
       "[3 rows x 183 columns]"
      ]
     },
     "execution_count": 15,
     "metadata": {},
     "output_type": "execute_result"
    }
   ],
   "source": [
    "input_df_mp_cvAmpl = pd.DataFrame(input_df_mp.groupby(\"time_s\").apply(lambda x: np.std(np.abs(x))/np.mean(np.abs(x)) ))\n",
    "\n",
    "print(input_df_mp_cvAmpl.shape)\n",
    "\n",
    "input_df_mp_cvAmpl = input_df_mp_cvAmpl.drop(columns='time_s')\n",
    "\n",
    "input_df_mp_cvAmpl.head(3)"
   ]
  },
  {
   "cell_type": "code",
   "execution_count": 16,
   "id": "cf604ea6-8443-4fbb-8761-3734e7f3766a",
   "metadata": {},
   "outputs": [],
   "source": [
    "input_df_mp_cvAmpl = input_df_mp_cvAmpl.reset_index(drop=False)\n",
    "\n",
    "input_df_mp_cvAmpl_l = pd.melt(input_df_mp_cvAmpl,id_vars=['time_s'])\n"
   ]
  },
  {
   "cell_type": "code",
   "execution_count": 17,
   "id": "b175ec09-e66f-472c-ad8d-73ae86d5225a",
   "metadata": {},
   "outputs": [
    {
     "data": {
      "text/html": [
       "<div>\n",
       "<style scoped>\n",
       "    .dataframe tbody tr th:only-of-type {\n",
       "        vertical-align: middle;\n",
       "    }\n",
       "\n",
       "    .dataframe tbody tr th {\n",
       "        vertical-align: top;\n",
       "    }\n",
       "\n",
       "    .dataframe thead th {\n",
       "        text-align: right;\n",
       "    }\n",
       "</style>\n",
       "<table border=\"1\" class=\"dataframe\">\n",
       "  <thead>\n",
       "    <tr style=\"text-align: right;\">\n",
       "      <th></th>\n",
       "      <th>time_s</th>\n",
       "      <th>variable</th>\n",
       "      <th>value</th>\n",
       "    </tr>\n",
       "  </thead>\n",
       "  <tbody>\n",
       "    <tr>\n",
       "      <th>0</th>\n",
       "      <td>180.0</td>\n",
       "      <td>C_H_mitomatr_n</td>\n",
       "      <td>5.582234e-16</td>\n",
       "    </tr>\n",
       "    <tr>\n",
       "      <th>1</th>\n",
       "      <td>181.0</td>\n",
       "      <td>C_H_mitomatr_n</td>\n",
       "      <td>5.582234e-16</td>\n",
       "    </tr>\n",
       "    <tr>\n",
       "      <th>2</th>\n",
       "      <td>182.0</td>\n",
       "      <td>C_H_mitomatr_n</td>\n",
       "      <td>5.582234e-16</td>\n",
       "    </tr>\n",
       "  </tbody>\n",
       "</table>\n",
       "</div>"
      ],
      "text/plain": [
       "   time_s        variable         value\n",
       "0   180.0  C_H_mitomatr_n  5.582234e-16\n",
       "1   181.0  C_H_mitomatr_n  5.582234e-16\n",
       "2   182.0  C_H_mitomatr_n  5.582234e-16"
      ]
     },
     "execution_count": 17,
     "metadata": {},
     "output_type": "execute_result"
    }
   ],
   "source": [
    "input_df_mp_cvAmpl_l.head(3)"
   ]
  },
  {
   "cell_type": "code",
   "execution_count": 18,
   "id": "58a36985-ad12-4af2-b0bf-e3fb23b56423",
   "metadata": {},
   "outputs": [
    {
     "data": {
      "text/html": [
       "<div>\n",
       "<style scoped>\n",
       "    .dataframe tbody tr th:only-of-type {\n",
       "        vertical-align: middle;\n",
       "    }\n",
       "\n",
       "    .dataframe tbody tr th {\n",
       "        vertical-align: top;\n",
       "    }\n",
       "\n",
       "    .dataframe thead th {\n",
       "        text-align: right;\n",
       "    }\n",
       "</style>\n",
       "<table border=\"1\" class=\"dataframe\">\n",
       "  <thead>\n",
       "    <tr style=\"text-align: right;\">\n",
       "      <th></th>\n",
       "      <th>time_s</th>\n",
       "      <th>variable</th>\n",
       "      <th>value</th>\n",
       "    </tr>\n",
       "  </thead>\n",
       "  <tbody>\n",
       "    <tr>\n",
       "      <th>0</th>\n",
       "      <td>180.0</td>\n",
       "      <td>C_H_mitomatr_n</td>\n",
       "      <td>5.582234e-16</td>\n",
       "    </tr>\n",
       "    <tr>\n",
       "      <th>1</th>\n",
       "      <td>181.0</td>\n",
       "      <td>C_H_mitomatr_n</td>\n",
       "      <td>5.582234e-16</td>\n",
       "    </tr>\n",
       "    <tr>\n",
       "      <th>2</th>\n",
       "      <td>182.0</td>\n",
       "      <td>C_H_mitomatr_n</td>\n",
       "      <td>5.582234e-16</td>\n",
       "    </tr>\n",
       "  </tbody>\n",
       "</table>\n",
       "</div>"
      ],
      "text/plain": [
       "   time_s        variable         value\n",
       "0   180.0  C_H_mitomatr_n  5.582234e-16\n",
       "1   181.0  C_H_mitomatr_n  5.582234e-16\n",
       "2   182.0  C_H_mitomatr_n  5.582234e-16"
      ]
     },
     "execution_count": 18,
     "metadata": {},
     "output_type": "execute_result"
    }
   ],
   "source": [
    "input_df_mp_cvAmpl_l.head(3)"
   ]
  },
  {
   "cell_type": "code",
   "execution_count": 19,
   "id": "6597fc98-16f6-4605-a632-02f587ec4d76",
   "metadata": {
    "tags": []
   },
   "outputs": [],
   "source": [
    "def get_cmps_index(df):\n",
    "    cmps1 = []\n",
    "    for i in df['variable'].to_list():\n",
    "        if len(i.split(\"_\")) >1:\n",
    "            if i.split(\"_\")[-1] == \"ecsAN0\":\n",
    "                cmps1.append(\"ecs\")\n",
    "            elif i.split(\"_\")[-1] == \"ecsBA0\":\n",
    "                cmps1.append(\"ecs\")\n",
    "            elif i.split(\"_\")[-1] == \"out0\":\n",
    "                cmps1.append(\"ecs\")\n",
    "            else:\n",
    "                cmps1.append(i.split(\"_\")[-1].rstrip(\"0\"))\n",
    "        else:\n",
    "            #print(i)\n",
    "            cmps1.append(\"other\")\n",
    "            \n",
    "    return cmps1\n",
    "\n",
    "cmps = get_cmps_index(input_df_mp_cvAmpl_l)"
   ]
  },
  {
   "cell_type": "code",
   "execution_count": 20,
   "id": "2a75f113-f9d9-4090-8420-7298d2c20dda",
   "metadata": {},
   "outputs": [
    {
     "data": {
      "text/html": [
       "<div>\n",
       "<style scoped>\n",
       "    .dataframe tbody tr th:only-of-type {\n",
       "        vertical-align: middle;\n",
       "    }\n",
       "\n",
       "    .dataframe tbody tr th {\n",
       "        vertical-align: top;\n",
       "    }\n",
       "\n",
       "    .dataframe thead th {\n",
       "        text-align: right;\n",
       "    }\n",
       "</style>\n",
       "<table border=\"1\" class=\"dataframe\">\n",
       "  <thead>\n",
       "    <tr style=\"text-align: right;\">\n",
       "      <th></th>\n",
       "      <th>time_s</th>\n",
       "      <th>variable</th>\n",
       "      <th>value</th>\n",
       "      <th>cmps</th>\n",
       "    </tr>\n",
       "  </thead>\n",
       "  <tbody>\n",
       "    <tr>\n",
       "      <th>0</th>\n",
       "      <td>180.0</td>\n",
       "      <td>C_H_mitomatr_n</td>\n",
       "      <td>5.582234e-16</td>\n",
       "      <td>n</td>\n",
       "    </tr>\n",
       "    <tr>\n",
       "      <th>1</th>\n",
       "      <td>181.0</td>\n",
       "      <td>C_H_mitomatr_n</td>\n",
       "      <td>5.582234e-16</td>\n",
       "      <td>n</td>\n",
       "    </tr>\n",
       "    <tr>\n",
       "      <th>2</th>\n",
       "      <td>182.0</td>\n",
       "      <td>C_H_mitomatr_n</td>\n",
       "      <td>5.582234e-16</td>\n",
       "      <td>n</td>\n",
       "    </tr>\n",
       "  </tbody>\n",
       "</table>\n",
       "</div>"
      ],
      "text/plain": [
       "   time_s        variable         value cmps\n",
       "0   180.0  C_H_mitomatr_n  5.582234e-16    n\n",
       "1   181.0  C_H_mitomatr_n  5.582234e-16    n\n",
       "2   182.0  C_H_mitomatr_n  5.582234e-16    n"
      ]
     },
     "execution_count": 20,
     "metadata": {},
     "output_type": "execute_result"
    }
   ],
   "source": [
    "input_df_mp_cvAmpl_l['cmps'] = cmps\n",
    "input_df_mp_cvAmpl_l.head(3)"
   ]
  },
  {
   "cell_type": "code",
   "execution_count": 21,
   "id": "dc9c0a70-47a0-470d-a8e8-712783250d57",
   "metadata": {},
   "outputs": [
    {
     "data": {
      "text/html": [
       "<div>\n",
       "<style scoped>\n",
       "    .dataframe tbody tr th:only-of-type {\n",
       "        vertical-align: middle;\n",
       "    }\n",
       "\n",
       "    .dataframe tbody tr th {\n",
       "        vertical-align: top;\n",
       "    }\n",
       "\n",
       "    .dataframe thead th {\n",
       "        text-align: right;\n",
       "    }\n",
       "</style>\n",
       "<table border=\"1\" class=\"dataframe\">\n",
       "  <thead>\n",
       "    <tr style=\"text-align: right;\">\n",
       "      <th></th>\n",
       "      <th>time_s</th>\n",
       "      <th>variable</th>\n",
       "      <th>value</th>\n",
       "      <th>cmps</th>\n",
       "      <th>fns</th>\n",
       "    </tr>\n",
       "  </thead>\n",
       "  <tbody>\n",
       "    <tr>\n",
       "      <th>0</th>\n",
       "      <td>180.0</td>\n",
       "      <td>C_H_mitomatr_n</td>\n",
       "      <td>5.582234e-16</td>\n",
       "      <td>n</td>\n",
       "      <td>NaN</td>\n",
       "    </tr>\n",
       "    <tr>\n",
       "      <th>1</th>\n",
       "      <td>181.0</td>\n",
       "      <td>C_H_mitomatr_n</td>\n",
       "      <td>5.582234e-16</td>\n",
       "      <td>n</td>\n",
       "      <td>NaN</td>\n",
       "    </tr>\n",
       "    <tr>\n",
       "      <th>2</th>\n",
       "      <td>182.0</td>\n",
       "      <td>C_H_mitomatr_n</td>\n",
       "      <td>5.582234e-16</td>\n",
       "      <td>n</td>\n",
       "      <td>NaN</td>\n",
       "    </tr>\n",
       "  </tbody>\n",
       "</table>\n",
       "</div>"
      ],
      "text/plain": [
       "   time_s        variable         value cmps  fns\n",
       "0   180.0  C_H_mitomatr_n  5.582234e-16    n  NaN\n",
       "1   181.0  C_H_mitomatr_n  5.582234e-16    n  NaN\n",
       "2   182.0  C_H_mitomatr_n  5.582234e-16    n  NaN"
      ]
     },
     "execution_count": 21,
     "metadata": {},
     "output_type": "execute_result"
    }
   ],
   "source": [
    "fid = '202303211313'\n",
    "with open(f\"data/v2function_{fid}.json\",\"r\") as f:\n",
    "    v2function = json.load(f)\n",
    "\n",
    "lut_funs = {'keto': '#a6cee3',\n",
    " 'ETC': '#1f78b4',\n",
    " 'TCA': '#b2df8a',\n",
    " 'redox': '#33a02c',\n",
    " 'ATDMP': '#fb9a99',\n",
    " 'GLTGLN': '#e31a1c',\n",
    " 'resp': '#fdbf6f',\n",
    " 'GLCLS': '#ff7f00',\n",
    " 'PPP': '#cab2d6'}\n",
    "\n",
    "input_df_mp_cvAmpl_l['fns'] = input_df_mp_cvAmpl_l['variable'].map(v2function)\n",
    "\n",
    "input_df_mp_cvAmpl_l.head(3)"
   ]
  },
  {
   "cell_type": "code",
   "execution_count": 22,
   "id": "165eafec-4f14-45c0-9d19-e9c1f4e6d4fb",
   "metadata": {},
   "outputs": [
    {
     "data": {
      "text/html": [
       "<div>\n",
       "<style scoped>\n",
       "    .dataframe tbody tr th:only-of-type {\n",
       "        vertical-align: middle;\n",
       "    }\n",
       "\n",
       "    .dataframe tbody tr th {\n",
       "        vertical-align: top;\n",
       "    }\n",
       "\n",
       "    .dataframe thead th {\n",
       "        text-align: right;\n",
       "    }\n",
       "</style>\n",
       "<table border=\"1\" class=\"dataframe\">\n",
       "  <thead>\n",
       "    <tr style=\"text-align: right;\">\n",
       "      <th></th>\n",
       "      <th>time_s</th>\n",
       "      <th>variable</th>\n",
       "      <th>value</th>\n",
       "      <th>cmps</th>\n",
       "      <th>fns</th>\n",
       "    </tr>\n",
       "  </thead>\n",
       "  <tbody>\n",
       "    <tr>\n",
       "      <th>15065</th>\n",
       "      <td>180.0</td>\n",
       "      <td>Glc_t_t</td>\n",
       "      <td>0.074184</td>\n",
       "      <td>t</td>\n",
       "      <td>GLCLS</td>\n",
       "    </tr>\n",
       "    <tr>\n",
       "      <th>15066</th>\n",
       "      <td>181.0</td>\n",
       "      <td>Glc_t_t</td>\n",
       "      <td>0.074413</td>\n",
       "      <td>t</td>\n",
       "      <td>GLCLS</td>\n",
       "    </tr>\n",
       "    <tr>\n",
       "      <th>15067</th>\n",
       "      <td>182.0</td>\n",
       "      <td>Glc_t_t</td>\n",
       "      <td>0.074641</td>\n",
       "      <td>t</td>\n",
       "      <td>GLCLS</td>\n",
       "    </tr>\n",
       "  </tbody>\n",
       "</table>\n",
       "</div>"
      ],
      "text/plain": [
       "       time_s variable     value cmps    fns\n",
       "15065   180.0  Glc_t_t  0.074184    t  GLCLS\n",
       "15066   181.0  Glc_t_t  0.074413    t  GLCLS\n",
       "15067   182.0  Glc_t_t  0.074641    t  GLCLS"
      ]
     },
     "execution_count": 22,
     "metadata": {},
     "output_type": "execute_result"
    }
   ],
   "source": [
    "input_df_mp_cvAmpl_l = input_df_mp_cvAmpl_l.sort_values(by=['cmps','fns'],ascending=False)\n",
    "\n",
    "input_df_mp_cvAmpl_l.head(3)"
   ]
  },
  {
   "cell_type": "code",
   "execution_count": 23,
   "id": "4da696fe-3bf1-41df-9e6d-ccbc2347cc84",
   "metadata": {},
   "outputs": [],
   "source": [
    "input_df_mp_cvAmpl_l[[\"variable_id\",\"variable_cmp\"]] = input_df_mp_cvAmpl_l['variable'].str.split(\"_\",1, expand=True)"
   ]
  },
  {
   "cell_type": "code",
   "execution_count": null,
   "id": "2819c1fc-6b63-44f7-baa8-f158082181fb",
   "metadata": {},
   "outputs": [],
   "source": []
  },
  {
   "cell_type": "code",
   "execution_count": null,
   "id": "3a588016-e059-4e0c-9343-a82775c7b890",
   "metadata": {},
   "outputs": [],
   "source": []
  },
  {
   "cell_type": "code",
   "execution_count": null,
   "id": "e88c92ac-ffbf-4c6b-9f38-e7d711d75b0d",
   "metadata": {},
   "outputs": [],
   "source": []
  },
  {
   "cell_type": "code",
   "execution_count": 24,
   "id": "e2a598f5-c130-473d-940d-cdb9700e4024",
   "metadata": {},
   "outputs": [],
   "source": [
    "mypal_cmps = ['#fc8f53','#d92f00','red'] \n",
    "lut_cmps = dict(zip(['n','a','b_ecs'], mypal_cmps))"
   ]
  },
  {
   "cell_type": "code",
   "execution_count": null,
   "id": "451a978d-9826-484e-aebd-8da4cc39bc15",
   "metadata": {},
   "outputs": [],
   "source": []
  },
  {
   "cell_type": "code",
   "execution_count": 25,
   "id": "0022e1b9-45d3-4e58-96f1-7722f19c4166",
   "metadata": {},
   "outputs": [],
   "source": [
    "input_df_mp_cvAmpl_l_sel = input_df_mp_cvAmpl_l.loc[input_df_mp_cvAmpl_l['variable'].isin(mets2plot2_sel3met),:].copy()"
   ]
  },
  {
   "cell_type": "code",
   "execution_count": 26,
   "id": "8f704577-0e99-498f-9893-cc88e48355f4",
   "metadata": {},
   "outputs": [
    {
     "data": {
      "text/html": [
       "<div>\n",
       "<style scoped>\n",
       "    .dataframe tbody tr th:only-of-type {\n",
       "        vertical-align: middle;\n",
       "    }\n",
       "\n",
       "    .dataframe tbody tr th {\n",
       "        vertical-align: top;\n",
       "    }\n",
       "\n",
       "    .dataframe thead th {\n",
       "        text-align: right;\n",
       "    }\n",
       "</style>\n",
       "<table border=\"1\" class=\"dataframe\">\n",
       "  <thead>\n",
       "    <tr style=\"text-align: right;\">\n",
       "      <th></th>\n",
       "      <th>time_s</th>\n",
       "      <th>variable</th>\n",
       "      <th>value</th>\n",
       "      <th>cmps</th>\n",
       "      <th>fns</th>\n",
       "      <th>variable_id</th>\n",
       "      <th>variable_cmp</th>\n",
       "    </tr>\n",
       "  </thead>\n",
       "  <tbody>\n",
       "    <tr>\n",
       "      <th>15065</th>\n",
       "      <td>180.0</td>\n",
       "      <td>Glc_t_t</td>\n",
       "      <td>0.074184</td>\n",
       "      <td>t</td>\n",
       "      <td>GLCLS</td>\n",
       "      <td>Glc</td>\n",
       "      <td>t_t</td>\n",
       "    </tr>\n",
       "    <tr>\n",
       "      <th>15066</th>\n",
       "      <td>181.0</td>\n",
       "      <td>Glc_t_t</td>\n",
       "      <td>0.074413</td>\n",
       "      <td>t</td>\n",
       "      <td>GLCLS</td>\n",
       "      <td>Glc</td>\n",
       "      <td>t_t</td>\n",
       "    </tr>\n",
       "    <tr>\n",
       "      <th>15067</th>\n",
       "      <td>182.0</td>\n",
       "      <td>Glc_t_t</td>\n",
       "      <td>0.074641</td>\n",
       "      <td>t</td>\n",
       "      <td>GLCLS</td>\n",
       "      <td>Glc</td>\n",
       "      <td>t_t</td>\n",
       "    </tr>\n",
       "    <tr>\n",
       "      <th>15068</th>\n",
       "      <td>183.0</td>\n",
       "      <td>Glc_t_t</td>\n",
       "      <td>0.074870</td>\n",
       "      <td>t</td>\n",
       "      <td>GLCLS</td>\n",
       "      <td>Glc</td>\n",
       "      <td>t_t</td>\n",
       "    </tr>\n",
       "    <tr>\n",
       "      <th>15069</th>\n",
       "      <td>184.0</td>\n",
       "      <td>Glc_t_t</td>\n",
       "      <td>0.075099</td>\n",
       "      <td>t</td>\n",
       "      <td>GLCLS</td>\n",
       "      <td>Glc</td>\n",
       "      <td>t_t</td>\n",
       "    </tr>\n",
       "  </tbody>\n",
       "</table>\n",
       "</div>"
      ],
      "text/plain": [
       "       time_s variable     value cmps    fns variable_id variable_cmp\n",
       "15065   180.0  Glc_t_t  0.074184    t  GLCLS         Glc          t_t\n",
       "15066   181.0  Glc_t_t  0.074413    t  GLCLS         Glc          t_t\n",
       "15067   182.0  Glc_t_t  0.074641    t  GLCLS         Glc          t_t\n",
       "15068   183.0  Glc_t_t  0.074870    t  GLCLS         Glc          t_t\n",
       "15069   184.0  Glc_t_t  0.075099    t  GLCLS         Glc          t_t"
      ]
     },
     "execution_count": 26,
     "metadata": {},
     "output_type": "execute_result"
    }
   ],
   "source": [
    "input_df_mp_cvAmpl_l_sel.head()"
   ]
  },
  {
   "cell_type": "code",
   "execution_count": 27,
   "id": "da56ed86-bd91-4f56-9913-f52b784b8126",
   "metadata": {},
   "outputs": [
    {
     "data": {
      "text/plain": [
       "34"
      ]
     },
     "execution_count": 27,
     "metadata": {},
     "output_type": "execute_result"
    }
   ],
   "source": [
    "# remove met that are present only in one of the cell types\n",
    "\n",
    "met_n = []\n",
    "met_a = []\n",
    "\n",
    "for i,row in input_df_mp_cvAmpl_l_sel.iterrows():\n",
    "    if row['cmps'] == 'n':\n",
    "        met_n.append(row['variable_id'])\n",
    "    elif row['cmps'] == 'a':\n",
    "        met_a.append(row['variable_id'])\n",
    "        \n",
    "met_na = list(set(set(met_n).intersection(met_a)))\n",
    "\n",
    "len(met_na)"
   ]
  },
  {
   "cell_type": "code",
   "execution_count": 28,
   "id": "548eb07d-1ed8-4839-971c-d064026621df",
   "metadata": {},
   "outputs": [
    {
     "data": {
      "text/plain": [
       "['AKGmito',\n",
       " 'ATP',\n",
       " 'ATPmito',\n",
       " 'AcCoAmito',\n",
       " 'BPG13',\n",
       " 'CITmito',\n",
       " 'CoAmito',\n",
       " 'CytCredmito',\n",
       " 'DHAP',\n",
       " 'E4P',\n",
       " 'F6P',\n",
       " 'FBP',\n",
       " 'FUMmito',\n",
       " 'G6P',\n",
       " 'GAP',\n",
       " 'GSH',\n",
       " 'Glc',\n",
       " 'ISOCITmito',\n",
       " 'Lac',\n",
       " 'MALmito',\n",
       " 'Mg',\n",
       " 'NADH',\n",
       " 'NADHmito',\n",
       " 'NADPH',\n",
       " 'OXAmito',\n",
       " 'PEP',\n",
       " 'PG2',\n",
       " 'PG3',\n",
       " 'PYRmito',\n",
       " 'Pyr',\n",
       " 'QH2mito',\n",
       " 'R5P',\n",
       " 'SUCCOAmito',\n",
       " 'SUCmito']"
      ]
     },
     "execution_count": 28,
     "metadata": {},
     "output_type": "execute_result"
    }
   ],
   "source": [
    "sorted(met_na)"
   ]
  },
  {
   "cell_type": "code",
   "execution_count": 29,
   "id": "adf12191-5ebf-4563-a47a-992c926a4b4d",
   "metadata": {},
   "outputs": [],
   "source": [
    "input_df_mp_cvAmpl_l_sel = input_df_mp_cvAmpl_l.loc[input_df_mp_cvAmpl_l['variable_id'].isin(met_na),:].copy()"
   ]
  },
  {
   "cell_type": "code",
   "execution_count": 30,
   "id": "216fbfe9-765d-4497-af10-a6db1e551be2",
   "metadata": {},
   "outputs": [
    {
     "data": {
      "text/plain": [
       "(10480, 7)"
      ]
     },
     "execution_count": 30,
     "metadata": {},
     "output_type": "execute_result"
    }
   ],
   "source": [
    "input_df_mp_cvAmpl_l_sel.shape"
   ]
  },
  {
   "cell_type": "code",
   "execution_count": 31,
   "id": "285a8301-c11c-4ed1-9e92-79fc919554a3",
   "metadata": {},
   "outputs": [
    {
     "data": {
      "text/plain": [
       "array(['NADHmito_n', 'NADH_n', 'NADPH_n', 'GSH_n', 'NADHmito_a', 'NADH_a',\n",
       "       'NADPH_a', 'GSH_a'], dtype=object)"
      ]
     },
     "execution_count": 31,
     "metadata": {},
     "output_type": "execute_result"
    }
   ],
   "source": [
    "input_df_mp_cvAmpl_l_sel.loc[input_df_mp_cvAmpl_l_sel['fns']=='redox','variable'].unique()"
   ]
  },
  {
   "cell_type": "code",
   "execution_count": 31,
   "id": "4ca02ea3-ca7c-47cb-98a3-9a79855a7ddb",
   "metadata": {},
   "outputs": [
    {
     "data": {
      "image/png": "[encoded data removed]",
      "text/plain": [
       "<Figure size 288x720 with 1 Axes>"
      ]
     },
     "metadata": {
      "needs_background": "light"
     },
     "output_type": "display_data"
    }
   ],
   "source": [
    "fig = plt.figure(figsize=(4,10))\n",
    "ax = plt.subplot(111)\n",
    "\n",
    "\n",
    "sns.barplot(ax=ax,\n",
    "            data=input_df_mp_cvAmpl_l_sel.loc[input_df_mp_cvAmpl_l_sel['cmps'].isin(['n','a'])], \n",
    "            x='value', y='variable_id', \n",
    "            hue=\"cmps\",palette=lut_cmps,orient='h',ci=95)\n",
    "\n",
    "ax.spines.top.set_visible(False)\n",
    "ax.spines.right.set_visible(False)\n",
    "\n",
    "ax.set_ylabel(\"\")\n",
    "ax.set_xlabel(\"Coefficient of variation, a.u.\")\n",
    "\n",
    "ax.legend(bbox_to_anchor=(1.15, 1.0),frameon=False)\n",
    "\n",
    "plt.show()\n",
    "\n",
    "\n",
    "if savefigures == True:\n",
    "    \n",
    "    spec_id = \"suppFig_b_CV_overCNDS_perT_GLUT1_\"\n",
    "    \n",
    "    fig.savefig(outpath +  spec_id +  timestr + \".pdf\",transparent=False, bbox_inches=\"tight\")\n",
    "    fig.savefig(outpath +  spec_id +  timestr + \".png\",dpi=300,transparent=False, bbox_inches=\"tight\")\n"
   ]
  },
  {
   "cell_type": "code",
   "execution_count": null,
   "id": "0f022585-6c3e-40a5-8bb3-163379c95c68",
   "metadata": {},
   "outputs": [],
   "source": []
  },
  {
   "cell_type": "code",
   "execution_count": 32,
   "id": "88ea9368-eebb-42b7-9c88-c250cbfbc5ca",
   "metadata": {},
   "outputs": [
    {
     "name": "stdout",
     "output_type": "stream",
     "text": [
      "n =  0.08874549381671706 \n",
      " a =  0.18197933775321262\n"
     ]
    }
   ],
   "source": [
    "print(\"n = \",input_df_mp_cvAmpl_l_sel.loc[input_df_mp_cvAmpl_l_sel['cmps'].isin(['n']),'value'].mean(), \"\\n\",\n",
    "\"a = \",input_df_mp_cvAmpl_l_sel.loc[input_df_mp_cvAmpl_l_sel['cmps'].isin(['a']),'value'].mean())"
   ]
  },
  {
   "cell_type": "code",
   "execution_count": null,
   "id": "6cbd8e80-0465-41f3-a429-942be39db47d",
   "metadata": {},
   "outputs": [],
   "source": [
    "print('dotted,','color=red',np.log(input_df_mp_cvAmpl_l_sel.loc[input_df_mp_cvAmpl_l_sel['cmps'].isin(['n']),'value'].mean())) #, color='#208c48', linestyle='dotted', lw=1) # \n",
    "print('dotted,','color=darkred',np.log(input_df_mp_cvAmpl_l_sel.loc[input_df_mp_cvAmpl_l_sel['cmps'].isin(['a']),'value'].mean())) #, color='#03402e', linestyle='dotted', lw=1) # \n",
    "\n",
    "print('solid line,','color=red',np.log(input_df_mp_cvAmpl_l_sel.loc[input_df_mp_cvAmpl_l_sel['cmps'].isin(['n']),'value'].median())) #, color='#208c48', linestyle='-', lw=1) # \n",
    "print('solid line,','color=darkred',np.log(input_df_mp_cvAmpl_l_sel.loc[input_df_mp_cvAmpl_l_sel['cmps'].isin(['a']),'value'].median())) #, color='#03402e', linestyle='-', lw=1) # \n",
    "\n",
    "\n",
    "# dotted, color=red -2.4219826258117956\n",
    "# dotted, color=darkred -1.703862127178729\n",
    "# solid line, color=red -4.38752324980128\n",
    "# solid line, color=darkred -3.3356663771048494"
   ]
  },
  {
   "cell_type": "code",
   "execution_count": 33,
   "id": "5efd6678-f92f-45d5-9d03-67d0d606c6d8",
   "metadata": {},
   "outputs": [
    {
     "data": {
      "image/png": "[encoded data removed]",
      "text/plain": [
       "<Figure size 288x180 with 1 Axes>"
      ]
     },
     "metadata": {
      "needs_background": "light"
     },
     "output_type": "display_data"
    }
   ],
   "source": [
    "fig = plt.figure(figsize = (4,2.5))\n",
    "ax = plt.subplot(111)\n",
    "\n",
    "nbins=20\n",
    "\n",
    "bins_shared = np.linspace( -0.1 + np.min([np.min(np.log(input_df_mp_cvAmpl_l_sel.loc[input_df_mp_cvAmpl_l_sel['cmps'].isin(['n']),'value'].values)),\n",
    "                                   np.min(np.log(input_df_mp_cvAmpl_l_sel.loc[input_df_mp_cvAmpl_l_sel['cmps'].isin(['a']),'value'].values))]),\n",
    "                          \n",
    "                          0.1 + np.max([np.max(np.log(input_df_mp_cvAmpl_l_sel.loc[input_df_mp_cvAmpl_l_sel['cmps'].isin(['n']),'value'].values)),\n",
    "                                   np.max(np.log(input_df_mp_cvAmpl_l_sel.loc[input_df_mp_cvAmpl_l_sel['cmps'].isin(['a']),'value'].values))]),\n",
    "                          nbins\n",
    "                         )\n",
    "\n",
    "\n",
    "\n",
    "plt.hist( np.log(input_df_mp_cvAmpl_l_sel.loc[input_df_mp_cvAmpl_l_sel['cmps'].isin(['n']),'value'].values),bins=bins_shared,color=lut_cmps['n'],label='n')\n",
    "\n",
    "plt.hist( np.log(input_df_mp_cvAmpl_l_sel.loc[input_df_mp_cvAmpl_l_sel['cmps'].isin(['a']),'value'].values),bins=bins_shared,color=lut_cmps['a'],label='a', alpha=0.85)\n",
    "\n",
    "\n",
    "ax.axvline(x=np.log(input_df_mp_cvAmpl_l_sel.loc[input_df_mp_cvAmpl_l_sel['cmps'].isin(['n']),'value'].mean()), color='red', linestyle='dotted', lw=1) # \n",
    "ax.axvline(x=np.log(input_df_mp_cvAmpl_l_sel.loc[input_df_mp_cvAmpl_l_sel['cmps'].isin(['a']),'value'].mean()), color='darkred', linestyle='dotted', lw=1) # \n",
    "\n",
    "ax.axvline(x=np.log(input_df_mp_cvAmpl_l_sel.loc[input_df_mp_cvAmpl_l_sel['cmps'].isin(['n']),'value'].median()), color='red', linestyle='-', lw=1) # \n",
    "ax.axvline(x=np.log(input_df_mp_cvAmpl_l_sel.loc[input_df_mp_cvAmpl_l_sel['cmps'].isin(['a']),'value'].median()), color='darkred', linestyle='-', lw=1) # \n",
    "\n",
    "\n",
    "ax.legend(bbox_to_anchor=(0.7,1.15),frameon=False, ncol=2)\n",
    "\n",
    "ax.set_xlabel(\"log(CV)\")\n",
    "ax.set_ylabel(\"counts\")\n",
    "\n",
    "\n",
    "ax.set_title(\"log(CV)\", pad=20)\n",
    "\n",
    "\n",
    "ax.spines.top.set_visible(False)\n",
    "ax.spines.right.set_visible(False)\n",
    "\n",
    "\n",
    "plt.show()\n",
    "\n",
    "if savefigures == True:\n",
    "    fig.savefig(outpath + \"fig2g1_CVlog_hist_cmps_GLUT1_\" + timestr + \".pdf\",transparent=False)\n",
    "    fig.savefig(outpath + \"fig2g1_CVlog_hist_cmps_GLUT1_\" + timestr + \".png\",transparent=False, bbox_inches=\"tight\")\n",
    "\n"
   ]
  },
  {
   "cell_type": "code",
   "execution_count": 34,
   "id": "0075f148-d3a4-4656-ad98-5e447f4cc153",
   "metadata": {
    "tags": []
   },
   "outputs": [
    {
     "data": {
      "image/png": "[encoded data removed]",
      "text/plain": [
       "<Figure size 288x144 with 1 Axes>"
      ]
     },
     "metadata": {
      "needs_background": "light"
     },
     "output_type": "display_data"
    }
   ],
   "source": [
    "fig = plt.figure(figsize=(4,2))\n",
    "ax = plt.subplot(111)\n",
    "\n",
    "\n",
    "sns.barplot(ax=ax,\n",
    "            data=input_df_mp_cvAmpl_l_sel.loc[input_df_mp_cvAmpl_l_sel['cmps'].isin(['n','a']),['value','cmps']], \n",
    "            x='value', y='cmps', \n",
    "            hue=\"cmps\",palette=lut_cmps,orient='h', ci=95)\n",
    "\n",
    "\n",
    "ax.spines.top.set_visible(False)\n",
    "ax.spines.right.set_visible(False)\n",
    "\n",
    "ax.set_ylabel(\"\")\n",
    "ax.set_xlabel(\"Coefficient of variation, a.u.\")\n",
    "\n",
    "\n",
    "ax.legend(bbox_to_anchor=(1.05, 0.6),frameon=False)\n",
    "\n",
    "plt.show()\n",
    "\n",
    "\n",
    "\n",
    "if savefigures == True:\n",
    "    fig.savefig(outpath + \"fig2g2_CV_cmps_ci95_GLUT1_\" + timestr + \".pdf\",transparent=False)\n",
    "    fig.savefig(outpath + \"fig2g2_CV_cmps_ci95_GLUT1_\" + timestr + \".png\",transparent=False, bbox_inches=\"tight\")\n",
    "\n"
   ]
  },
  {
   "cell_type": "code",
   "execution_count": null,
   "id": "9bee298e-32bb-4c2e-938a-056b07ce86b6",
   "metadata": {},
   "outputs": [],
   "source": []
  },
  {
   "cell_type": "code",
   "execution_count": 35,
   "id": "04caf35f-5150-4d8c-abee-48b8cb18f591",
   "metadata": {},
   "outputs": [],
   "source": [
    "agg_all_cond = pd.DataFrame(input_df_mp_cvAmpl_l_sel.loc[input_df_mp_cvAmpl_l_sel['cmps'].isin(['n','a']),['value','cmps']].groupby('cmps')['value'].apply(np.mean)).reset_index(drop=False)\n",
    "agg_all_cond.columns = ['cmps','value']"
   ]
  },
  {
   "cell_type": "code",
   "execution_count": 36,
   "id": "1ba81fe2-dbed-4c37-a5f4-b47468c25fa1",
   "metadata": {},
   "outputs": [
    {
     "data": {
      "text/html": [
       "<div>\n",
       "<style scoped>\n",
       "    .dataframe tbody tr th:only-of-type {\n",
       "        vertical-align: middle;\n",
       "    }\n",
       "\n",
       "    .dataframe tbody tr th {\n",
       "        vertical-align: top;\n",
       "    }\n",
       "\n",
       "    .dataframe thead th {\n",
       "        text-align: right;\n",
       "    }\n",
       "</style>\n",
       "<table border=\"1\" class=\"dataframe\">\n",
       "  <thead>\n",
       "    <tr style=\"text-align: right;\">\n",
       "      <th></th>\n",
       "      <th>cmps</th>\n",
       "      <th>value</th>\n",
       "    </tr>\n",
       "  </thead>\n",
       "  <tbody>\n",
       "    <tr>\n",
       "      <th>0</th>\n",
       "      <td>a</td>\n",
       "      <td>0.181979</td>\n",
       "    </tr>\n",
       "    <tr>\n",
       "      <th>1</th>\n",
       "      <td>n</td>\n",
       "      <td>0.088745</td>\n",
       "    </tr>\n",
       "  </tbody>\n",
       "</table>\n",
       "</div>"
      ],
      "text/plain": [
       "  cmps     value\n",
       "0    a  0.181979\n",
       "1    n  0.088745"
      ]
     },
     "execution_count": 36,
     "metadata": {},
     "output_type": "execute_result"
    }
   ],
   "source": [
    "agg_all_cond"
   ]
  },
  {
   "cell_type": "code",
   "execution_count": 37,
   "id": "d6ea875d-81de-48e0-b50d-6de771b56724",
   "metadata": {
    "tags": []
   },
   "outputs": [],
   "source": [
    "agg_all_cond = pd.DataFrame(input_df_mp_cvAmpl_l_sel.loc[input_df_mp_cvAmpl_l_sel['cmps'].isin(['n','a']),['value','cmps']].groupby('cmps').apply(np.nanmedian)).reset_index(drop=False)\n",
    "agg_all_cond.columns = ['cmps','value']\n"
   ]
  },
  {
   "cell_type": "code",
   "execution_count": 38,
   "id": "e478017c-c8c9-488c-85ca-3bb6a91f0a27",
   "metadata": {
    "tags": []
   },
   "outputs": [
    {
     "data": {
      "text/html": [
       "<div>\n",
       "<style scoped>\n",
       "    .dataframe tbody tr th:only-of-type {\n",
       "        vertical-align: middle;\n",
       "    }\n",
       "\n",
       "    .dataframe tbody tr th {\n",
       "        vertical-align: top;\n",
       "    }\n",
       "\n",
       "    .dataframe thead th {\n",
       "        text-align: right;\n",
       "    }\n",
       "</style>\n",
       "<table border=\"1\" class=\"dataframe\">\n",
       "  <thead>\n",
       "    <tr style=\"text-align: right;\">\n",
       "      <th></th>\n",
       "      <th>cmps</th>\n",
       "      <th>value</th>\n",
       "    </tr>\n",
       "  </thead>\n",
       "  <tbody>\n",
       "    <tr>\n",
       "      <th>0</th>\n",
       "      <td>a</td>\n",
       "      <td>0.035591</td>\n",
       "    </tr>\n",
       "    <tr>\n",
       "      <th>1</th>\n",
       "      <td>n</td>\n",
       "      <td>0.012431</td>\n",
       "    </tr>\n",
       "  </tbody>\n",
       "</table>\n",
       "</div>"
      ],
      "text/plain": [
       "  cmps     value\n",
       "0    a  0.035591\n",
       "1    n  0.012431"
      ]
     },
     "execution_count": 38,
     "metadata": {},
     "output_type": "execute_result"
    }
   ],
   "source": [
    "agg_all_cond"
   ]
  },
  {
   "cell_type": "code",
   "execution_count": 39,
   "id": "7a26b81e-7372-4445-bed5-c953e601ad20",
   "metadata": {},
   "outputs": [
    {
     "data": {
      "text/html": [
       "<div>\n",
       "<style scoped>\n",
       "    .dataframe tbody tr th:only-of-type {\n",
       "        vertical-align: middle;\n",
       "    }\n",
       "\n",
       "    .dataframe tbody tr th {\n",
       "        vertical-align: top;\n",
       "    }\n",
       "\n",
       "    .dataframe thead th {\n",
       "        text-align: right;\n",
       "    }\n",
       "</style>\n",
       "<table border=\"1\" class=\"dataframe\">\n",
       "  <thead>\n",
       "    <tr style=\"text-align: right;\">\n",
       "      <th></th>\n",
       "      <th>cmps</th>\n",
       "      <th>fns</th>\n",
       "      <th>value</th>\n",
       "    </tr>\n",
       "  </thead>\n",
       "  <tbody>\n",
       "    <tr>\n",
       "      <th>0</th>\n",
       "      <td>a</td>\n",
       "      <td>ATDMP</td>\n",
       "      <td>0.000756</td>\n",
       "    </tr>\n",
       "    <tr>\n",
       "      <th>1</th>\n",
       "      <td>a</td>\n",
       "      <td>ETC</td>\n",
       "      <td>0.008262</td>\n",
       "    </tr>\n",
       "    <tr>\n",
       "      <th>2</th>\n",
       "      <td>a</td>\n",
       "      <td>GLCLS</td>\n",
       "      <td>0.030512</td>\n",
       "    </tr>\n",
       "  </tbody>\n",
       "</table>\n",
       "</div>"
      ],
      "text/plain": [
       "  cmps    fns     value\n",
       "0    a  ATDMP  0.000756\n",
       "1    a    ETC  0.008262\n",
       "2    a  GLCLS  0.030512"
      ]
     },
     "execution_count": 39,
     "metadata": {},
     "output_type": "execute_result"
    }
   ],
   "source": [
    "agg_all_cond_fns = pd.DataFrame(input_df_mp_cvAmpl_l_sel.loc[input_df_mp_cvAmpl_l_sel['cmps'].isin(['n','a']),['value','cmps','fns']].groupby(['cmps','fns']).apply(np.nanmedian)).reset_index(drop=False)\n",
    "agg_all_cond_fns.columns = ['cmps','fns','value']\n",
    "\n",
    "agg_all_cond_fns.head(3)"
   ]
  },
  {
   "cell_type": "code",
   "execution_count": 40,
   "id": "caeabad7-24e9-47c3-9257-f4ecefd4b74d",
   "metadata": {},
   "outputs": [
    {
     "data": {
      "text/html": [
       "<div>\n",
       "<style scoped>\n",
       "    .dataframe tbody tr th:only-of-type {\n",
       "        vertical-align: middle;\n",
       "    }\n",
       "\n",
       "    .dataframe tbody tr th {\n",
       "        vertical-align: top;\n",
       "    }\n",
       "\n",
       "    .dataframe thead th {\n",
       "        text-align: right;\n",
       "    }\n",
       "</style>\n",
       "<table border=\"1\" class=\"dataframe\">\n",
       "  <thead>\n",
       "    <tr style=\"text-align: right;\">\n",
       "      <th></th>\n",
       "      <th>time_s</th>\n",
       "      <th>variable</th>\n",
       "      <th>value</th>\n",
       "      <th>cmps</th>\n",
       "      <th>fns</th>\n",
       "      <th>variable_id</th>\n",
       "      <th>variable_cmp</th>\n",
       "    </tr>\n",
       "  </thead>\n",
       "  <tbody>\n",
       "    <tr>\n",
       "      <th>15065</th>\n",
       "      <td>180.0</td>\n",
       "      <td>Glc_t_t</td>\n",
       "      <td>0.074184</td>\n",
       "      <td>t</td>\n",
       "      <td>GLCLS</td>\n",
       "      <td>Glc</td>\n",
       "      <td>t_t</td>\n",
       "    </tr>\n",
       "    <tr>\n",
       "      <th>15066</th>\n",
       "      <td>181.0</td>\n",
       "      <td>Glc_t_t</td>\n",
       "      <td>0.074413</td>\n",
       "      <td>t</td>\n",
       "      <td>GLCLS</td>\n",
       "      <td>Glc</td>\n",
       "      <td>t_t</td>\n",
       "    </tr>\n",
       "    <tr>\n",
       "      <th>15067</th>\n",
       "      <td>182.0</td>\n",
       "      <td>Glc_t_t</td>\n",
       "      <td>0.074641</td>\n",
       "      <td>t</td>\n",
       "      <td>GLCLS</td>\n",
       "      <td>Glc</td>\n",
       "      <td>t_t</td>\n",
       "    </tr>\n",
       "  </tbody>\n",
       "</table>\n",
       "</div>"
      ],
      "text/plain": [
       "       time_s variable     value cmps    fns variable_id variable_cmp\n",
       "15065   180.0  Glc_t_t  0.074184    t  GLCLS         Glc          t_t\n",
       "15066   181.0  Glc_t_t  0.074413    t  GLCLS         Glc          t_t\n",
       "15067   182.0  Glc_t_t  0.074641    t  GLCLS         Glc          t_t"
      ]
     },
     "execution_count": 40,
     "metadata": {},
     "output_type": "execute_result"
    }
   ],
   "source": [
    "input_df_mp_cvAmpl_l_sel.head(3)"
   ]
  },
  {
   "cell_type": "code",
   "execution_count": 41,
   "id": "9bd8be95-ff40-433a-9a2e-8f742df7cf68",
   "metadata": {},
   "outputs": [
    {
     "data": {
      "text/plain": [
       "array(['NADHmito_n', 'NADH_n', 'NADPH_n', 'GSH_n', 'NADHmito_a', 'NADH_a',\n",
       "       'NADPH_a', 'GSH_a'], dtype=object)"
      ]
     },
     "execution_count": 41,
     "metadata": {},
     "output_type": "execute_result"
    }
   ],
   "source": [
    "input_df_mp_cvAmpl_l_sel.loc[input_df_mp_cvAmpl_l_sel['fns']=='redox','variable'].unique()"
   ]
  },
  {
   "cell_type": "code",
   "execution_count": 42,
   "id": "b13ed743-e550-4989-bea6-785deb91139f",
   "metadata": {},
   "outputs": [
    {
     "data": {
      "image/png": "[encoded data removed]",
      "text/plain": [
       "<Figure size 288x360 with 1 Axes>"
      ]
     },
     "metadata": {
      "needs_background": "light"
     },
     "output_type": "display_data"
    }
   ],
   "source": [
    "fig = plt.figure(figsize=(4,5))\n",
    "ax = plt.subplot(111)\n",
    "\n",
    "\n",
    "sns.barplot(ax=ax,\n",
    "            data=input_df_mp_cvAmpl_l_sel.loc[input_df_mp_cvAmpl_l_sel['cmps'].isin(['n','a']),['value','cmps','fns']], \n",
    "            x='value', y='fns', \n",
    "            hue=\"cmps\",palette=lut_cmps,orient='h',ci=95)\n",
    "\n",
    "ax.spines.top.set_visible(False)\n",
    "ax.spines.right.set_visible(False)\n",
    "\n",
    "\n",
    "ax.set_ylabel(\"\")\n",
    "ax.set_xlabel(\"Coefficient of variation, a.u.\")\n",
    "\n",
    "\n",
    "ax.legend(bbox_to_anchor=(1.05, 1.0),frameon=False)\n",
    "\n",
    "plt.show()\n",
    "\n",
    "\n",
    "\n",
    "if savefigures == True:\n",
    "    fig.savefig(outpath + \"fig2g3_CV_fns_ci95_GLUT1_\" + timestr + \".pdf\",transparent=False)\n",
    "    fig.savefig(outpath + \"fig2g3_CV_fns_ci95_GLUT1_\" + timestr + \".png\",transparent=False, bbox_inches=\"tight\")\n",
    "\n"
   ]
  },
  {
   "cell_type": "code",
   "execution_count": null,
   "id": "2a86fd79-030b-47ec-8e39-1cc8d8f45f53",
   "metadata": {},
   "outputs": [],
   "source": [
    "pd.DataFrame(input_df_mp_cvAmpl_l_sel.loc[input_df_mp_cvAmpl_l_sel['cmps'].isin(['n','a']),['value','cmps','fns']].groupby(['fns','cmps'])['value'].mean())"
   ]
  },
  {
   "cell_type": "code",
   "execution_count": null,
   "id": "e252fb75-9f3f-48bc-857a-bc221d2a76ac",
   "metadata": {},
   "outputs": [],
   "source": [
    "pd.DataFrame(input_df_mp_cvAmpl_l_sel.loc[input_df_mp_cvAmpl_l_sel['cmps'].isin(['n','a']),['value','cmps','fns']].groupby(['fns','cmps'])['value'].std())"
   ]
  },
  {
   "cell_type": "code",
   "execution_count": null,
   "id": "e497aaf6-6ddd-45eb-926e-315ec7c8fc56",
   "metadata": {},
   "outputs": [],
   "source": []
  }
 ],
 "metadata": {
  "kernelspec": {
   "display_name": "Python 3 (ipykernel)",
   "language": "python",
   "name": "python3"
  },
  "language_info": {
   "codemirror_mode": {
    "name": "ipython",
    "version": 3
   },
   "file_extension": ".py",
   "mimetype": "text/x-python",
   "name": "python",
   "nbconvert_exporter": "python",
   "pygments_lexer": "ipython3",
   "version": "3.9.4"
  }
 },
 "nbformat": 4,
 "nbformat_minor": 5
}
